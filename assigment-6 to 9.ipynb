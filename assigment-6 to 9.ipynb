{
 "cells": [
  {
   "cell_type": "code",
   "execution_count": 2,
   "id": "084c2d47",
   "metadata": {},
   "outputs": [],
   "source": [
    "#import needed libraries\n",
    "from selenium import webdriver\n",
    "import numpy as np\n",
    "import pandas as pd\n",
    "import time\n",
    "import warnings\n",
    "warnings.filterwarnings('ignore')\n",
    "\n",
    "from selenium.common.exceptions import NoSuchElementException\n",
    "from selenium.webdriver.common.by import By"
   ]
  },
  {
   "cell_type": "markdown",
   "id": "9e53d7ed",
   "metadata": {},
   "source": [
    "# 7. Write a program to scrap all the available details of best gaming laptops from digit.in¶"
   ]
  },
  {
   "cell_type": "code",
   "execution_count": 53,
   "id": "54f4c148",
   "metadata": {},
   "outputs": [],
   "source": [
    "driver=webdriver.Chrome()"
   ]
  },
  {
   "cell_type": "code",
   "execution_count": 54,
   "id": "d4ec3c37",
   "metadata": {},
   "outputs": [],
   "source": [
    "url=\"https://www.digit.in/top-products/best-gaming-laptops-40.html\""
   ]
  },
  {
   "cell_type": "code",
   "execution_count": 55,
   "id": "21b67097",
   "metadata": {},
   "outputs": [],
   "source": [
    "driver.get(url)"
   ]
  },
  {
   "cell_type": "code",
   "execution_count": 56,
   "id": "5aeb5369",
   "metadata": {},
   "outputs": [],
   "source": [
    "Brands1=[]\n",
    "Products_Description=[]\n",
    "Specification=[]"
   ]
  },
  {
   "cell_type": "code",
   "execution_count": 57,
   "id": "b655a332",
   "metadata": {},
   "outputs": [],
   "source": [
    "from selenium.webdriver.common.by import By"
   ]
  },
  {
   "cell_type": "code",
   "execution_count": 58,
   "id": "c25856f1",
   "metadata": {},
   "outputs": [
    {
     "data": {
      "text/plain": [
       "['HP Omen 17-ck2008TX 13th Gen Core i7-13700HX',\n",
       " 'MSI GT77 Titan 12UHS-054IN 12th Gen Core i9-12900HX',\n",
       " 'Lenovo Legion 5i Pro 12th Gen Core i7-12700H (82RF00E1IN)',\n",
       " 'ASUS ROG Strix Scar 18 G834JZ-N5041WS 13th Gen Core i9-13980HX',\n",
       " 'Acer Predator Helios Neo 16 13th Gen Core i7-13700HX (PHN16-71)',\n",
       " 'ASUS ROG Zephyrus G14 Ryzen 9-6900HS (GA402RJZ-L4136WS)',\n",
       " 'MSI Cyborg 15 12th Gen Core i7-12650H (A12VF-205IN)']"
      ]
     },
     "execution_count": 58,
     "metadata": {},
     "output_type": "execute_result"
    }
   ],
   "source": [
    "brand1=driver.find_elements(By.XPATH,'//div[@class=\"rh_gr_top_middle mb10 colored_rate_bar\"]')\n",
    "for i in brand1:\n",
    "    Brands1.append(str(i.text).replace(\"\\n\",\"\"))\n",
    "Brands1\n",
    "\n",
    "\n"
   ]
  },
  {
   "cell_type": "code",
   "execution_count": 60,
   "id": "c0c98ab1",
   "metadata": {},
   "outputs": [
    {
     "data": {
      "text/plain": [
       "['Operating System:Windows 11 Home',\n",
       " 'Display Size :17.3',\n",
       " 'Resolution :2560 x 1440',\n",
       " 'Processor :13th Gen Intel Core i7-13700HX',\n",
       " 'Operating System:Windows 11 Home',\n",
       " 'Display Size :16',\n",
       " 'Resolution :2560 x 1600',\n",
       " 'Processor :12th Gen Intel Core i7-12700H',\n",
       " 'Operating System:Windows 11 Home',\n",
       " 'Display Size :16',\n",
       " 'Resolution :2560 x 1600',\n",
       " 'Processor :13th Gen Intel Core i7-13700HX']"
      ]
     },
     "execution_count": 60,
     "metadata": {},
     "output_type": "execute_result"
    }
   ],
   "source": [
    "specification_tag=driver.find_elements(By.XPATH,\"//div[@class='rh-flex-center-align']\")\n",
    "for i in specification_tag:\n",
    "    Specification.append(str(i.text).replace(\"\\n\",\"\"))\n",
    "Specification"
   ]
  },
  {
   "cell_type": "code",
   "execution_count": 66,
   "id": "7740c17b",
   "metadata": {},
   "outputs": [
    {
     "data": {
      "text/plain": [
       "['Description',\n",
       " 'HP Omen 17-ck2008TX 13th Gen Core i7-13700HX Specifications',\n",
       " 'Videos',\n",
       " 'Reviews (0)',\n",
       " 'Popular HP Laptops',\n",
       " 'Other Popular Laptops',\n",
       " '',\n",
       " 'Basic Informationoperating system (withWindows 11 HomeLaunch date (global)12-05-2023Model nameOmen 17Displaydisplay size (in inches)17.3ConnectivityconnectivityBluetooth, Wi-FiMemoryram included (in gb)16 GBram speed (in mhz)4800ram typeDDR5Physical Specificationslaptop dimension (in m397.1 x 262 x 27laptop weight (in kgs)2.78ProcessorBoost Clock Speed5.0 GHzCache L330 MBclock speed5.0 GHzcores16graphics processorNVIDIA GeForce RTX 4080processor model name13th Gen Intel Core i7-13700HXStorageStorage drive capacity1 TBStorage drive typeSSDPowerbattery type6 Cell, 83 WHrpower supply330 WDISPLAYResolution2560 x 1440SpecificationGPU Memory typeDDR6GPU Memory amount12 GBRefresh Rate165 Hz',\n",
       " '',\n",
       " 'User Reviews0.0 out of 5★★★★★0★★★★★0★★★★★0★★★★★0★★★★★0WRITE A REVIEWThere are no reviews yet.Be the first to review “HP Omen 17-ck2008TX 13th Gen Core i7-13700HX”Your email address will not be published. Required fields are marked *Your Rating12345Your Review *Name *Email *Save my name, email, and website in this browser for the next time I comment.',\n",
       " 'HP OMEN 16 (Ryzen 7 7840HS + RTX 4060)Add To CompareHp 15s-fy5002TU 12th Gen Core i5-1235U₹54,990.00Add To CompareHP Chromebook x360 14a-ca0504TU Celeron N4020₹32,295.00Add To CompareHp 15s-fy5003TU 12th Gen Core i5-1215U₹40,990.00Add To CompareHP Envy x360 Creator 12th Gen Core i5-1230U (13-bf0121TU)₹84,844.00Add To CompareHP Pavilion 15-eg3079TU 13th Gen Core i5-1340P₹72,999.00Add To CompareHP 14s-fq1089AU 5th Gen Ryzen 3-5300U (2022)₹43,999.00Add To CompareHP 15s-fd0024TU 13th Gen Core i7-1360P₹77,490.00Add To CompareHP Dragonfly G4 Notebook PC₹240,889.00Add To CompareHP Omen 17-ck2004TX 13th Gen Core i9-13900HX₹269,990.00Add To Compare',\n",
       " 'Lenovo Yoga Slim 6 14IAP8 12th Gen Core i5-1240P₹78,590.00Add To CompareInfinix X3 Slim 12th Gen Core i5-1235U (XL422)Add To CompareLenovo Yoga 9i13th Gen Core i7-1360P₹165,600.00Add To CompareAcer Aspire 7 12th Gen Core i5-12450H (A715-76G)₹57,990.00Add To CompareDell Alienware x14 R2 Gaming Laptop₹251,489.00Add To Compare']"
      ]
     },
     "execution_count": 66,
     "metadata": {},
     "output_type": "execute_result"
    }
   ],
   "source": [
    "description=driver.find_elements(By.XPATH,\"//div[@class='rh-tabletext-block-wrapper padd20']\")\n",
    "for i in description:\n",
    "    Products_Description.append(str(i.text).replace(\"\\n\",\"\"))\n",
    "Products_Description"
   ]
  },
  {
   "cell_type": "code",
   "execution_count": 68,
   "id": "5774ef11",
   "metadata": {},
   "outputs": [
    {
     "data": {
      "text/plain": [
       "['Rs. 144,990',\n",
       " 'Rs. 129,990',\n",
       " 'Rs. 10,999',\n",
       " 'Rs. 12,039',\n",
       " 'Rs. 49,999',\n",
       " 'Rs. 61,999',\n",
       " 'Rs. 99,900']"
      ]
     },
     "execution_count": 68,
     "metadata": {},
     "output_type": "execute_result"
    }
   ],
   "source": [
    "Price=[]\n",
    "price_tag=driver.find_elements(By.XPATH,\"//div[@class='cegg-price cegg-price-color cegg-price-instock']\")\n",
    "for i in price_tag:\n",
    "    Price.append(str(i.text).replace(\"\\n\",\"\").replace('₹ ',''))\n",
    "Price"
   ]
  },
  {
   "cell_type": "code",
   "execution_count": 71,
   "id": "ba55f968",
   "metadata": {},
   "outputs": [],
   "source": [
    "laptop=pd.DataFrame()\n",
    "laptop['Brands']=Brands1[0:7]\n",
    "laptop['Price']=Price[0:7]\n",
    "laptop['Specification']=Specification[0:7]\n",
    "laptop['Description']=Products_Description[0:7]"
   ]
  },
  {
   "cell_type": "code",
   "execution_count": 72,
   "id": "8236b07e",
   "metadata": {},
   "outputs": [
    {
     "data": {
      "text/html": [
       "<div>\n",
       "<style scoped>\n",
       "    .dataframe tbody tr th:only-of-type {\n",
       "        vertical-align: middle;\n",
       "    }\n",
       "\n",
       "    .dataframe tbody tr th {\n",
       "        vertical-align: top;\n",
       "    }\n",
       "\n",
       "    .dataframe thead th {\n",
       "        text-align: right;\n",
       "    }\n",
       "</style>\n",
       "<table border=\"1\" class=\"dataframe\">\n",
       "  <thead>\n",
       "    <tr style=\"text-align: right;\">\n",
       "      <th></th>\n",
       "      <th>Brands</th>\n",
       "      <th>Price</th>\n",
       "      <th>Specification</th>\n",
       "      <th>Description</th>\n",
       "    </tr>\n",
       "  </thead>\n",
       "  <tbody>\n",
       "    <tr>\n",
       "      <th>0</th>\n",
       "      <td>HP Omen 17-ck2008TX 13th Gen Core i7-13700HX</td>\n",
       "      <td>Rs. 144,990</td>\n",
       "      <td>Operating System:Windows 11 Home</td>\n",
       "      <td>Description</td>\n",
       "    </tr>\n",
       "    <tr>\n",
       "      <th>1</th>\n",
       "      <td>MSI GT77 Titan 12UHS-054IN 12th Gen Core i9-12...</td>\n",
       "      <td>Rs. 129,990</td>\n",
       "      <td>Display Size :17.3</td>\n",
       "      <td>HP Omen 17-ck2008TX 13th Gen Core i7-13700HX S...</td>\n",
       "    </tr>\n",
       "    <tr>\n",
       "      <th>2</th>\n",
       "      <td>Lenovo Legion 5i Pro 12th Gen Core i7-12700H (...</td>\n",
       "      <td>Rs. 10,999</td>\n",
       "      <td>Resolution :2560 x 1440</td>\n",
       "      <td>Videos</td>\n",
       "    </tr>\n",
       "    <tr>\n",
       "      <th>3</th>\n",
       "      <td>ASUS ROG Strix Scar 18 G834JZ-N5041WS 13th Gen...</td>\n",
       "      <td>Rs. 12,039</td>\n",
       "      <td>Processor :13th Gen Intel Core i7-13700HX</td>\n",
       "      <td>Reviews (0)</td>\n",
       "    </tr>\n",
       "    <tr>\n",
       "      <th>4</th>\n",
       "      <td>Acer Predator Helios Neo 16 13th Gen Core i7-1...</td>\n",
       "      <td>Rs. 49,999</td>\n",
       "      <td>Operating System:Windows 11 Home</td>\n",
       "      <td>Popular HP Laptops</td>\n",
       "    </tr>\n",
       "    <tr>\n",
       "      <th>5</th>\n",
       "      <td>ASUS ROG Zephyrus G14 Ryzen 9-6900HS (GA402RJZ...</td>\n",
       "      <td>Rs. 61,999</td>\n",
       "      <td>Display Size :16</td>\n",
       "      <td>Other Popular Laptops</td>\n",
       "    </tr>\n",
       "    <tr>\n",
       "      <th>6</th>\n",
       "      <td>MSI Cyborg 15 12th Gen Core i7-12650H (A12VF-2...</td>\n",
       "      <td>Rs. 99,900</td>\n",
       "      <td>Resolution :2560 x 1600</td>\n",
       "      <td></td>\n",
       "    </tr>\n",
       "  </tbody>\n",
       "</table>\n",
       "</div>"
      ],
      "text/plain": [
       "                                              Brands        Price  \\\n",
       "0       HP Omen 17-ck2008TX 13th Gen Core i7-13700HX  Rs. 144,990   \n",
       "1  MSI GT77 Titan 12UHS-054IN 12th Gen Core i9-12...  Rs. 129,990   \n",
       "2  Lenovo Legion 5i Pro 12th Gen Core i7-12700H (...   Rs. 10,999   \n",
       "3  ASUS ROG Strix Scar 18 G834JZ-N5041WS 13th Gen...   Rs. 12,039   \n",
       "4  Acer Predator Helios Neo 16 13th Gen Core i7-1...   Rs. 49,999   \n",
       "5  ASUS ROG Zephyrus G14 Ryzen 9-6900HS (GA402RJZ...   Rs. 61,999   \n",
       "6  MSI Cyborg 15 12th Gen Core i7-12650H (A12VF-2...   Rs. 99,900   \n",
       "\n",
       "                               Specification  \\\n",
       "0           Operating System:Windows 11 Home   \n",
       "1                         Display Size :17.3   \n",
       "2                    Resolution :2560 x 1440   \n",
       "3  Processor :13th Gen Intel Core i7-13700HX   \n",
       "4           Operating System:Windows 11 Home   \n",
       "5                           Display Size :16   \n",
       "6                    Resolution :2560 x 1600   \n",
       "\n",
       "                                         Description  \n",
       "0                                        Description  \n",
       "1  HP Omen 17-ck2008TX 13th Gen Core i7-13700HX S...  \n",
       "2                                             Videos  \n",
       "3                                        Reviews (0)  \n",
       "4                                 Popular HP Laptops  \n",
       "5                              Other Popular Laptops  \n",
       "6                                                     "
      ]
     },
     "execution_count": 72,
     "metadata": {},
     "output_type": "execute_result"
    }
   ],
   "source": [
    "laptop"
   ]
  },
  {
   "cell_type": "code",
   "execution_count": 73,
   "id": "3ec04053",
   "metadata": {},
   "outputs": [],
   "source": [
    "laptop.to_csv('laptop.csv')"
   ]
  },
  {
   "cell_type": "code",
   "execution_count": 74,
   "id": "fc817bf4",
   "metadata": {},
   "outputs": [],
   "source": [
    "driver.close()"
   ]
  },
  {
   "cell_type": "markdown",
   "id": "dd7bfbcb",
   "metadata": {},
   "source": [
    "# 7)Write a python program to scrape the details for all billionaires from www.forbes.com. Details to be"
   ]
  },
  {
   "cell_type": "code",
   "execution_count": 135,
   "id": "3a48c5cf",
   "metadata": {},
   "outputs": [],
   "source": [
    "#import needed libraries\n",
    "from selenium import webdriver\n",
    "import numpy as np\n",
    "import pandas as pd\n",
    "import time\n",
    "import warnings\n",
    "warnings.filterwarnings('ignore')\n",
    "\n",
    "from selenium.common.exceptions import NoSuchElementException\n",
    "from selenium.webdriver.common.by import By"
   ]
  },
  {
   "cell_type": "code",
   "execution_count": 136,
   "id": "5f07e4f1",
   "metadata": {},
   "outputs": [],
   "source": [
    "driver=webdriver.Chrome()"
   ]
  },
  {
   "cell_type": "code",
   "execution_count": 137,
   "id": "34ef57cc",
   "metadata": {},
   "outputs": [],
   "source": [
    "url='https://www.forbes.com/billionaires/'"
   ]
  },
  {
   "cell_type": "code",
   "execution_count": 138,
   "id": "8dc6a354",
   "metadata": {},
   "outputs": [],
   "source": [
    "driver.get(url)"
   ]
  },
  {
   "cell_type": "code",
   "execution_count": 139,
   "id": "7d631ab6",
   "metadata": {},
   "outputs": [],
   "source": [
    "Name=[]\n",
    "Rank=[]\n",
    "Net_worth=[]\n",
    "Citizenship=[]"
   ]
  },
  {
   "cell_type": "code",
   "execution_count": 142,
   "id": "0b0afca4",
   "metadata": {},
   "outputs": [],
   "source": [
    "name_tag=driver.find_elements(By.XPATH,'//div[@class=\"Table_dataCell__2QCve\"]')\n",
    "for x in name_tag:\n",
    "    Name.append(x.text)"
   ]
  },
  {
   "cell_type": "code",
   "execution_count": 143,
   "id": "d19375c9",
   "metadata": {},
   "outputs": [
    {
     "name": "stdout",
     "output_type": "stream",
     "text": [
      "800 ['Bernard Arnault & family', '74', 'LVMH', 'Fashion & Retail', 'Elon Musk', '51', 'Tesla, SpaceX', 'Automotive', 'Jeff Bezos', '59', 'Amazon', 'Technology', 'Larry Ellison', '78', 'Oracle', 'Technology', 'Warren Buffett', '92', 'Berkshire Hathaway', 'Finance & Investments', 'Bill Gates', '67', 'Microsoft', 'Technology', 'Michael Bloomberg', '81', 'Bloomberg LP', 'Media & Entertainment', 'Carlos Slim Helu & family', '83', 'Telecom', 'Telecom', 'Mukesh Ambani', '65', 'Diversified', 'Diversified', 'Steve Ballmer', '67', 'Microsoft', 'Technology', 'Francoise Bettencourt Meyers & family', '69', \"L'Oréal\", 'Fashion & Retail', 'Larry Page', '50', 'Google', 'Technology', 'Amancio Ortega', '87', 'Zara', 'Fashion & Retail', 'Sergey Brin', '49', 'Google', 'Technology', 'Zhong Shanshan', '68', 'Beverages, pharmaceuticals', 'Food & Beverage', 'Mark Zuckerberg', '38', 'Facebook', 'Technology', 'Charles Koch & family', '87', 'Koch Industries', 'Diversified', 'Julia Koch & family', '60', 'Koch Industries', 'Diversified', 'Jim Walton', '74', 'Walmart', 'Fashion & Retail', 'Rob Walton & family', '78', 'Walmart', 'Fashion & Retail', 'Alice Walton', '73', 'Walmart', 'Fashion & Retail', 'David Thomson & family', '65', 'Media', 'Media & Entertainment', 'Michael Dell', '58', 'Dell Technologies', 'Technology', 'Gautam Adani', '60', 'Infrastructure, commodities', 'Diversified', 'Phil Knight & family', '85', 'Nike', 'Fashion & Retail', 'Zhang Yiming', '39', 'TikTok', 'Technology', 'Dieter Schwarz', '83', 'Retail', 'Fashion & Retail', 'François Pinault & family', '86', 'Luxury goods', 'Fashion & Retail', 'Klaus-Michael Kuehne', '85', 'Shipping', 'Logistics', 'Giovanni Ferrero', '58', 'Nutella, chocolates', 'Food & Beverage', 'Jacqueline Mars', '83', 'Candy, pet food', 'Food & Beverage', 'John Mars', '87', 'Candy, pet food', 'Food & Beverage', 'Li Ka-shing', '94', 'Diversified', 'Diversified', 'Ma Huateng', '51', 'Internet media', 'Technology', 'Miriam Adelson & family', '77', 'Casinos', 'Gambling & Casinos', 'Ken Griffin', '54', 'Hedge funds', 'Finance & Investments', 'Mark Mateschitz', '30', 'Red Bull', 'Food & Beverage', 'Robin Zeng', '54', 'Batteries', 'Automotive', 'Tadashi Yanai & family', '74', 'Fashion retail', 'Fashion & Retail', 'Len Blavatnik', '65', 'Music, chemicals', 'Diversified', 'Alain Wertheimer', '74', 'Chanel', 'Fashion & Retail', 'Gerard Wertheimer', '72', 'Chanel', 'Fashion & Retail', 'Gianluigi Aponte', '82', 'Shipping', 'Logistics', 'Rafaela Aponte-Diamant', '78', 'Shipping', 'Logistics', 'Colin Huang', '43', 'E-commerce', 'Technology', 'Reinhold Wuerth & family', '87', 'Fasteners', 'Manufacturing', 'Lee Shau Kee', '95', 'Real estate', 'Real Estate', 'Jeff Yass', '64', 'Trading, investments', 'Finance & Investments', 'Jim Simons', '84', 'Hedge funds', 'Finance & Investments', 'Stephen Schwarzman', '76', 'Investments', 'Finance & Investments', 'Susanne Klatten', '60', 'BMW, pharmaceuticals', 'Automotive', 'Gina Rinehart', '69', 'Mining', 'Metals & Mining', 'William Ding', '51', 'Online games', 'Technology', 'Germán Larrea Mota Velasco & family', '69', 'Mining', 'Metals & Mining', 'Shiv Nadar', '77', 'software services', 'Technology', 'Low Tuck Kwong', '74', 'Coal', 'Energy', 'Thomas Peterffy', '78', 'Discount brokerage', 'Finance & Investments', 'Andrey Melnichenko & family', '51', 'Fertilizers, coal', 'Metals & Mining', 'Stefan Quandt', '56', 'BMW', 'Automotive', 'MacKenzie Scott', '52', 'Amazon', 'Technology', 'R. Budi Hartono', '82', 'Banking, tobacco', 'Finance & Investments', 'Vladimir Potanin', '62', 'Metals', 'Metals & Mining', 'Jack Ma', '58', 'E-commerce', 'Technology', 'He Xiangjian & family', '80', 'Home appliances', 'Manufacturing', 'Iris Fontbona & family', '80', 'Mining', 'Metals & Mining', 'Michael Hartono', '83', 'Banking, tobacco', 'Manufacturing', 'James Ratcliffe', '70', 'Chemicals', 'Manufacturing', 'Cyrus Poonawalla', '81', 'Vaccines', 'Healthcare', 'Masayoshi Son', '65', 'Internet, telecom', 'Telecom', 'Vladimir Lisin', '66', 'Steel, transport', 'Metals & Mining', 'Emmanuel Besnier', '52', 'Cheese', 'Food & Beverage', 'Abigail Johnson', '61', 'Fidelity', 'Finance & Investments', 'Leonid Mikhelson & family', '67', 'Gas, chemicals', 'Energy', 'Lukas Walton', '36', 'Walmart', 'Fashion & Retail', 'Wang Wei', '52', 'Package delivery', 'Service', 'Jensen Huang', '60', 'Semiconductors', 'Technology', 'Leonard Lauder', '90', 'Estee Lauder', 'Fashion & Retail', 'Takemitsu Takizaki', '77', 'Sensors', 'Manufacturing', 'Alexey Mordashov & family', '57', 'Steel, investments', 'Metals & Mining', 'Vagit Alekperov', '72', 'Oil', 'Energy', 'Thomas Frist, Jr. & family', '84', 'Hospitals', 'Healthcare', 'Andrew Forrest', '61', 'Mining', 'Metals & Mining', 'Ray Dalio', '73', 'Hedge funds', 'Finance & Investments', 'Eric Li', '59', 'Automobiles', 'Automotive', 'Wang Wenyin', '55', 'Mining, copper products', 'Metals & Mining', 'Eyal Ofer', '72', 'Real estate, shipping', 'Diversified', 'Qin Yinglin', '57', 'Pig breeding', 'Food & Beverage', 'Wang Chuanfu', '57', 'Batteries, automobiles', 'Automotive', 'Harold Hamm & family', '77', 'Oil & gas', 'Energy', 'David Tepper', '65', 'Hedge funds', 'Finance & Investments', 'Gennady Timchenko', '70', 'Oil, gas', 'Energy', 'Daniel Gilbert', '61', 'Quicken Loans', 'Finance & Investments', 'Lakshmi Mittal', '72', 'Steel', 'Metals & Mining', 'Steve Cohen', '66', 'Hedge funds', 'Finance & Investments', 'Carl Icahn', '87', 'Investments', 'Finance & Investments', 'Savitri Jindal & family', '73', 'Steel', 'Metals & Mining', 'Donald Bren', '90', 'Real estate', 'Real Estate', 'John Menard, Jr.', '83', 'Home improvement stores', 'Fashion & Retail', 'Rupert Murdoch & family', '92', 'Newspapers, TV network', 'Media & Entertainment', 'Vicky Safra & family', '70', 'Banking', 'Finance & Investments', 'Theo Albrecht, Jr. & family', '72', \"Aldi, Trader Joe's\", 'Fashion & Retail', 'Renata Kellnerova & family', '55', 'Finance, telecommunications', 'Finance & Investments', 'Li Xiting', '72', 'medical devices', 'Healthcare', 'Stefan Persson', '75', 'H&M', 'Fashion & Retail', 'Eric Schmidt', '67', 'Google', 'Technology', 'Michael Platt', '55', 'Hedge funds', 'Finance & Investments', 'Pang Kang', '67', 'Soy sauce', 'Food & Beverage', 'Karl Albrecht Jr. & family', 'N/A', 'Supermarkets', 'Fashion & Retail', 'Beate Heister', 'N/A', 'Supermarkets', 'Fashion & Retail', 'Jorge Paulo Lemann & family', '83', 'Beer', 'Food & Beverage', 'Peter Woo', '76', 'Real estate', 'Real Estate', 'Dilip Shanghvi', '67', 'Pharmaceuticals', 'Healthcare', 'Robert Pera', '45', 'Wireless networking', 'Technology', 'Radhakishan Damani', '68', 'Retail, investments', 'Fashion & Retail', 'Huang Shilin', '56', 'Batteries', 'Automotive', 'Dhanin Chearavanont', '83', 'Diversified', 'Diversified', 'David Green & family', '81', 'Retail', 'Fashion & Retail', 'Charoen Sirivadhanabhakdi', '78', 'Alcohol, real estate', 'Food & Beverage', 'Charlene de Carvalho-Heineken & family', '68', 'Heineken', 'Food & Beverage', 'Xu Hang', '60', 'Medical devices', 'Healthcare', 'Wei Jianjun & family', '59', 'Automobiles', 'Automotive', 'Alisher Usmanov', '69', 'Steel, telecom, investments', 'Metals & Mining', 'Goh Cheng Liang', '95', 'Paints', 'Manufacturing', 'Kumar Birla', '55', 'Commodities', 'Diversified', 'Aliko Dangote', '65', 'Cement, sugar', 'Manufacturing', 'Kwong Siu-hing', '93', 'Real estate', 'Real Estate', 'Idan Ofer', '67', 'Shipping', 'Diversified', 'Chen Bang', '57', 'Hospitals', 'Healthcare', 'Lui Che Woo', '94', 'Casinos/hotels', 'Gambling & Casinos', 'John Fredriksen', '78', 'Shipping', 'Logistics', 'Diane Hendricks', '76', 'Building supplies', 'Construction & Engineering', 'Jan Koum', '47', 'WhatsApp', 'Technology', 'Jerry Jones', '80', 'Dallas Cowboys', 'Sports', 'George Kaiser', '80', 'Oil & gas, banking', 'Energy', 'Joseph Lau', '71', 'Real estate', 'Real Estate', 'Lu Xiangyang', '60', 'Automobiles, batteries', 'Automotive', 'Harry Triguboff', '90', 'Real estate', 'Real Estate', 'Uday Kotak', '64', 'Banking', 'Finance & Investments', 'Stanley Kroenke', '75', 'Sports, real estate', 'Sports', 'Mikhail Fridman', '58', 'Oil, banking, telecom', 'Energy', 'Sarath Ratanavadi', '57', 'Energy', 'Energy', 'Dang Yanbao', '50', 'Coal', 'Metals & Mining', 'Jiang Rensheng & family', '69', 'Vaccines', 'Healthcare', 'Shahid Khan', '72', 'Auto parts', 'Automotive', 'Laurene Powell Jobs & family', '59', 'Apple, Disney', 'Technology', 'Robert Kuok', '99', 'Palm oil, shipping, property', 'Diversified', 'Stephen Ross', '82', 'Real estate', 'Real Estate', 'Pavel Durov', '38', 'Messaging app', 'Technology', 'Andreas Struengmann & family', '73', 'Pharmaceuticals', 'Healthcare', 'Thomas Struengmann & family', '73', 'Pharmaceuticals', 'Healthcare', 'Liu Hanyuan', '59', 'Agribusiness', 'Food & Beverage', 'Michael Rubin', '50', 'Online retail', 'Fashion & Retail', 'Israel Englander', '74', 'Hedge funds', 'Finance & Investments', 'Viatcheslav Kantor', '69', 'Fertilizer, real estate', 'Manufacturing', 'Anthony Pratt', '62', 'Manufacturing', 'Manufacturing', 'Mikhail Prokhorov', '57', 'Investments', 'Finance & Investments', 'Giorgio Armani', '88', 'Luxury goods', 'Fashion & Retail', 'Johann Rupert & family', '72', 'Luxury goods', 'Fashion & Retail', 'Gong Hongjia & family', '58', 'Video surveillance', 'Finance & Investments', 'Zhang Zhidong', '51', 'Internet media', 'Technology', 'Philip Anschutz', '83', 'Energy, sports, entertainment', 'Finance & Investments', 'Judy Love & family', '85', 'Gas stations', 'Fashion & Retail', 'Ricardo Salinas Pliego & family', '67', 'Retail, media', 'Fashion & Retail', 'Donald Newhouse', '93', 'Media', 'Media & Entertainment', 'Robert Kraft', '81', 'Manufacturing, New England Patriots', 'Sports', 'Marcel Herrmann Telles', '73', 'Beer', 'Food & Beverage', 'Suleiman Kerimov & family', '57', 'Gold', 'Finance & Investments', 'Sky Xu', '39', 'E-commerce', 'Fashion & Retail', 'Changpeng Zhao', '45', 'Cryptocurrency exchange', 'Finance & Investments', 'Andrew Beal', '70', 'Banks, real estate', 'Finance & Investments', 'Mike Cannon-Brookes', '43', 'Software', 'Technology', 'Carl Cook', '60', 'Medical devices', 'Healthcare', 'David Duffield', '82', 'Business software', 'Technology', 'Jeffery Hildebrand', '64', 'Oil', 'Energy', 'Viktor Rashnikov', '74', 'Steel', 'Manufacturing', 'Eduardo Saverin', '41', 'Facebook', 'Technology', 'Georg Schaeffler', '58', 'Auto parts', 'Automotive', 'Christy Walton', '74', 'Walmart', 'Fashion & Retail', 'Scott Farquhar', '43', 'Software', 'Technology', 'Quek Leng Chan', '81', 'Banking, property', 'Diversified', 'Wu Yajun', '59', 'Real estate', 'Real Estate', 'Autry Stephens', '85', 'Oil', 'Energy', 'Liu Yongxing', '74', 'Diversified', 'Service', 'Vinod Adani', '74', 'Infrastructure, commodities', 'Diversified', 'Nicolas Puech', '80', 'Hermes', 'Fashion & Retail', 'Jacques Saadé, Jr.', '51', 'Shipping', 'Logistics', 'Rodolphe Saadé', '53', 'Shipping', 'Logistics', 'Tanya Saadé Zeenny', '55', 'Shipping', 'Logistics', 'Melker Schorling & family', '75', 'Investments', 'Finance & Investments', 'Andrei Guriev & family', '63', 'Fertilizers', 'Manufacturing', 'Michael Kim', '59', 'Private equity', 'Finance & Investments', 'Lei Jun', '53', 'Smartphones', 'Technology', 'Friedhelm Loh', '76', 'Manufacturing', 'Manufacturing', 'Sun Piaoyang', '64', 'Pharmaceuticals', 'Healthcare', 'Rick Cohen & family', '70', 'Warehouse automation', 'Technology', 'Jin Baofang', '70', 'Solar panels', 'Energy', 'Luo Liguo & family', '67', 'Chemicals', 'Manufacturing', 'Marijke Mars', '58', 'Candy, pet food', 'Food & Beverage', 'Pamela Mars', '62', 'Candy, pet food', 'Food & Beverage', 'Valerie Mars', '64', 'Candy, pet food', 'Food & Beverage']\n"
     ]
    }
   ],
   "source": [
    "print(len(Name),Name)"
   ]
  },
  {
   "cell_type": "code",
   "execution_count": 144,
   "id": "2c857ace",
   "metadata": {},
   "outputs": [
    {
     "name": "stdout",
     "output_type": "stream",
     "text": [
      "200 ['1', '2', '3', '4', '5', '6', '7', '8', '9', '10', '11', '12', '13', '14', '15', '16', '17', '17', '19', '20', '21', '22', '23', '24', '25', '26', '27', '28', '29', '30', '31', '31', '33', '34', '35', '35', '37', '38', '39', '40', '41', '41', '43', '43', '45', '46', '47', '48', '49', '50', '51', '52', '53', '54', '55', '56', '57', '58', '59', '60', '61', '62', '63', '64', '65', '65', '67', '68', '69', '70', '71', '72', '72', '74', '74', '76', '77', '77', '79', '80', '81', '82', '83', '84', '84', '86', '86', '88', '89', '89', '89', '92', '93', '94', '94', '94', '97', '97', '99', '100', '101', '101', '103', '104', '104', '106', '107', '108', '108', '108', '108', '112', '113', '114', '115', '116', '116', '118', '119', '120', '121', '122', '123', '124', '124', '126', '127', '128', '128', '130', '130', '130', '133', '133', '133', '136', '137', '138', '138', '140', '141', '142', '142', '144', '145', '146', '147', '148', '148', '148', '151', '151', '153', '153', '153', '153', '157', '157', '159', '159', '161', '161', '161', '164', '165', '165', '167', '167', '167', '170', '171', '171', '171', '171', '171', '171', '171', '171', '179', '179', '179', '182', '183', '184', '184', '184', '184', '184', '184', '190', '190', '190', '190', '190', '195', '195', '195', '195', '195', '195']\n"
     ]
    }
   ],
   "source": [
    "rank_tag=driver.find_elements(By.XPATH,'//div[@class=\"Table_rank___YBhk Table_dataCell__2QCve\"]')\n",
    "for x in rank_tag:\n",
    "    Rank.append(x.text.replace('.',''))\n",
    "print(len(Rank),Rank)"
   ]
  },
  {
   "cell_type": "code",
   "execution_count": 145,
   "id": "c399eb07",
   "metadata": {},
   "outputs": [
    {
     "name": "stdout",
     "output_type": "stream",
     "text": [
      "800 ['Manohar Lal Agarwal', '68', '', '', 'Christian Angermayer', '44', '', '', 'Ryuji Arai', '76', '', '', 'Anna Maria  Billion Dollersraun', '44', '', '', 'Johanna  Billion Dollersraun', '43', '', '', 'Karl Friedrich  Billion Dollersraun', '40', '', '', 'Ludwig Theodor  Billion Dollersraun', '33', '', '', 'Ana Maria  Billion Dollersrescia Cafferata', '98', '', '', 'Jimmy  Billion Dollersuffett', '76', '', '', 'Hideyuki  Billion Dollersusujima', '70', '', '', 'Edouard Carmignac', '75', '', '', 'Chang Kuo-Ming', 'N/A', '', '', 'Chen Jiancheng', '64', '', '', 'Rui Chen', '45', '', '', 'Chen Shiliang', '59', '', '', 'Tianqiao Chen', '49', '', '', 'Yuantai Chen', '55', '', '', 'Cheng Antares', '65', '', '', 'Kochouseph Chittilappilly', '72', '', '', 'John Christodoulou', '57', '', '', 'Pollyanna Chu', '64', '', '', 'Turgay Ciner', '67', '', '', ' Billion Dollersenoit Dageville', '56', '', '', 'Mark Dixon', '63', '', '', 'Du Yulin & family', '50', '', '', 'Feng Yuxia', '58', '', '', ' Billion Dollersenedicte Find', '68', '', '', 'William Fisher', '66', '', '', 'Gao Yunfeng', '56', '', '', 'Jianming Geng', '60', '', '', 'Sven Hagströmer', '79', '', '', 'Clelia Haji-Ioannou', '52', '', '', 'Stelios Haji-Ioannou', '56', '', '', 'Hang Hong', '55', '', '', 'He Yamin & family', '66', '', '', 'Ghan Djoe Hiang', '79', '', '', 'Hong Feng', '46', '', '', 'Hong Seok-joh', '70', '', '', 'Hu Gengxi & family', '59', '', '', 'Danilo Iervolino', '45', '', '', 'Hedda im  Billion Dollersrahm-Droege', '68', '', '', 'Inder Jaisinghani', '70', '', '', 'Le Billion Dollersron James', '38', '', '', 'Johan Johannson', '56', '', '', 'Morris Kahn', '93', '', '', 'Ashok Kajaria', '75', '', '', 'Marcelo Kalim', '53', '', '', 'Ken Kendrick', '79', '', '', ' Billion Dollersrad Keywell', '53', '', '', 'Muhammed Aziz Khan', '68', '', '', 'Kim Jung-woong', '48', '', '', 'Ihor Kolomoyskyy', '60', '', '', 'Kong Jian Min', '55', '', '', 'Koo  Billion Dollerson-neung', '74', '', '', 'Michael Kum', '78', '', '', 'Richard Kurtz', '82', '', '', 'Lev Kvetnoi', '57', '', '', 'Michiel Le Roux', '73', '', '', 'Li Wanqiang', '45', '', '', 'Liu  Billion Dollersaolin', '69', '', '', 'Loo Choon Yong', '74', '', '', 'Lu Yonghua & family', '59', '', '', 'Ma Xiuhui', '52', '', '', 'Apoorva Mehta', '36', '', '', 'Gabriella Meister', 'N/A', '', '', 'Ulrike Meister', '56', '', '', 'Andrei Molchanov', '51', '', '', 'Fulvio Montipò & family', '78', '', '', 'Stanley Motta', '77', '', '', 'Tyler Perry', '53', '', '', 'Réal Plourde', 'N/A', '', '', 'Vera Rechulski Santo Domingo', '74', '', '', 'George Sakellaris', '76', '', '', 'Eddy Kusnadi Sariaatmadja', '69', '', '', 'Neerja Sethi', '68', '', '', 'Scott Smith', '73', '', '', 'Petter Stordalen & family', '60', '', '', 'Ivan Streshinsky', '53', '', '', 'Sergei Sudarikov', '51', '', '', 'Wijono Tanoko', '70', '', '', 'Haryanto Tjiptodihardjo', '59', '', '', 'David Tran & family', '77', '', '', 'Kenzo Tsujimoto', '82', '', '', 'Murat Vargi', '75', '', '', 'Shigefumi Wada', '70', '', '', 'Wan Feng & family', '54', '', '', 'Wang Jianfeng & family', '53', '', '', 'Masaru Wasami', '77', '', '', 'V. Prem Watsa', '72', '', '', 'Wen Pengcheng & family', '60', '', '', 'Toto Wolff', '51', '', '', 'Franziska Wuerbser', '35', '', '', 'Xie  Billion Dollersingzheng & family', '54', '', '', 'Xu Gang', '59', '', '', 'Yan Junxu', '53', '', '', 'Yi Xianzhong & family', '63', '', '', 'Yu Rong', '51', '', '', 'Richard Yuengling, Jr.', '80', '', '', 'Zhang Gongyun', '60', '', '', 'Zhang Guiping & family', '71', '', '', 'Inigo Zobel', '66', '', '', 'Hari Krishan Agarwal', '66', '', '', 'Farkhad Akhmedov', '67', '', '', 'Prem Kumar Arora', '84', '', '', 'Joseph  Billion Dollersae', '51', '', '', 'Abigail  Billion Dollersennett', '42', '', '', 'Sara  Billion Dollerslakely', '52', '', '', 'Lloyd  Billion Dollerslankfein', '68', '', '', 'Henadiy  Billion Dollersoholyubov', '61', '', '', 'Stephane  Billion Dollersonvin', '56', '', '', 'Oleg  Billion Dollersoyko', '58', '', '', 'Ryan  Billion Dollersreslow', '28', '', '', 'Thomas  Billion Dollersruch', '72', '', '', 'Marina  Billion Dollersudiman', '61', '', '', 'Pradip  Billion Dollersurman', '80', '', '', 'Cai Hongbin', 'N/A', '', '', 'Cao Kejian', '60', '', '', 'Giuliana Caprotti', '82', '', '', 'Marina Caprotti', '45', '', '', 'Chang Jing', '40', '', '', 'Chen  Billion Dollersaohua', '61', '', '', 'Gang Chen', '55', '', '', 'Liying Chen', '47', '', '', 'Tony Chen', '73', '', '', 'Chen Xueling', '55', '', '', 'Cheng Lili', '58', '', '', 'Cho Jyh-jer', 'N/A', '', '', 'Weili Dai', '61', '', '', 'Carmen Daurella Aguilera', 'N/A', '', '', 'Deng Yingzhong', '72', '', '', 'Shlomo Eliahu', '87', '', '', 'Henry Engelhardt', '65', '', '', 'Gabriel Escarrer', '88', '', '', 'Daniel Feffer', '63', '', '', 'Ruben Feffer', '53', '', '', 'Gleb Fetisov', '56', '', '', 'Paul Fireman', '79', '', '', 'Robert Fisher', '69', '', '', ' Billion Dollersernd Freier', '66', '', '', 'Donald Friese', '82', '', '', 'Gan Zhongru', '74', '', '', 'Rahul Gautam', '70', '', '', 'David Golub', '60', '', '', 'Pavel Golubkov', '47', '', '', 'Cristina Green', 'N/A', '', '', 'Philip Green', 'N/A', '', '', 'Said Gutseriev', '34', '', '', 'Polys Haji-Ioannou', '63', '', '', 'He Zuxun', '57', '', '', 'Christian Herz', 'N/A', '', '', 'Michaela Herz', 'N/A', '', '', 'David Hindawi', '78', '', '', 'Huang Shan', '52', '', '', 'Huang Xiaofen & family', '61', '', '', 'Hiroshi Ishibashi', '76', '', '', 'Masayuki Ishihara', '74', '', '', 'Chatchai Kaewbootta', '71', '', '', 'Nikhil Kamath', '36', '', '', 'Jonas Kamprad', '57', '', '', 'Mathias Kamprad', '53', '', '', 'Peter Kamprad', '59', '', '', 'Fumio Kaneko', '66', '', '', 'Sunjay Kapur', '51', '', '', 'Ali Metin Kazanci', '88', '', '', 'Kangbao Ke & family', '60', '', '', 'Carsten Koerl', '58', '', '', 'Koo  Billion Dollerson-sik', '64', '', '', 'Andrei Kosogov', '62', '', '', 'Yogesh Kothari', '74', '', '', 'Arvind Lal', '73', '', '', 'Manuel Lao Hernández', '78', '', '', 'Lee Joong-keun', '82', '', '', 'Nancy Lerner', '62', '', '', 'Norma Lerner', '87', '', '', 'Randolph Lerner', '61', '', '', 'Lin Zhijun', '47', '', '', 'Lin Zhixiong & family', '49', '', '', 'Jeffrey Lorberbaum', '68', '', '', 'Lu Rongfu', '52', '', '', 'Lyu Yixiong', '60', '', '', 'Soichiro Minami', '46', '', '', 'Pawan Munjal', '68', '', '', 'Renu Munjal', '68', '', '', 'Suman Munjal', '70', '', '', 'Dmitry Nikolaev', '56', '', '', 'Sjamsul Nursalim', '81', '', '', 'Adrian Paval', '54', '', '', 'Antonio Percassi', '69', '', '', 'Kevin Plank', '50', '', '', 'G.V. Prasad', '62', '', '', 'Pu Zhongjie & family', '60', '', '', 'Rao Wei & family', '58', '', '', 'Helena Revoredo', '76', '', '', 'Matthew Roszak', '50', '', '', 'Paul Sciarra', '42', '', '', 'Rajesh Sharma', '53', '', '', 'Dean Solon', '58', '', '', 'Michael Spencer', '67', '', '', 'Joseph Steinberg', '79', '', '', 'Zachary Stern', '41', '', '']\n"
     ]
    }
   ],
   "source": [
    "net=driver.find_elements(By.XPATH,'//div[@class=\"Table_dataCell__2QCve\"]')\n",
    "for x in net:\n",
    "    Net_worth.append(x.text.replace('B',' Billion Dollers').replace('$',''))\n",
    "print(len(Net_worth),Net_worth)"
   ]
  },
  {
   "cell_type": "code",
   "execution_count": 146,
   "id": "b6346556",
   "metadata": {},
   "outputs": [
    {
     "name": "stdout",
     "output_type": "stream",
     "text": [
      "1400 ['2540', 'Manohar Lal Agarwal', '$1 B', '68', 'India', 'Snacks', 'Food & Beverage', '2540', 'Christian Angermayer', '$1 B', '44', 'Germany', 'Investments', 'Finance & Investments', '2540', 'Ryuji Arai', '$1 B', '76', 'Japan', 'Retail', 'Fashion & Retail', '2540', 'Anna Maria Braun', '$1 B', '44', 'Germany', 'Medical technology', 'Healthcare', '2540', 'Johanna Braun', '$1 B', '43', 'Germany', 'Medical technology', 'Healthcare', '2540', 'Karl Friedrich Braun', '$1 B', '40', 'Germany', 'Medical technology', 'Healthcare', '2540', 'Ludwig Theodor Braun', '$1 B', '33', 'Germany', 'Medical technology', 'Healthcare', '2540', 'Ana Maria Brescia Cafferata', '$1 B', '98', 'Peru', 'Mining, banking', 'Diversified', '2540', 'Jimmy Buffett', '$1 B', '76', 'United States', 'Entertainment, Margaritaville', 'Media & Entertainment', '2540', 'Hideyuki Busujima', '$1 B', '70', 'Japan', 'Pachinko machines', 'Gambling & Casinos', '2540', 'Edouard Carmignac', '$1 B', '75', 'France', 'Asset management', 'Finance & Investments', '2540', 'Chang Kuo-Ming', '$1 B', 'N/A', 'Taiwan', 'Transportation', 'Logistics', '2540', 'Chen Jiancheng', '$1 B', '64', 'China', 'Manufacturing', 'Manufacturing', '2540', 'Rui Chen', '$1 B', '45', 'China', 'Online entertainment', 'Media & Entertainment', '2540', 'Chen Shiliang', '$1 B', '59', 'China', 'Polyester', 'Manufacturing', '2540', 'Tianqiao Chen', '$1 B', '49', 'China', 'Online games', 'Technology', '2540', 'Yuantai Chen', '$1 B', '55', 'China', 'Batteries', 'Energy', '2540', 'Cheng Antares', '$1 B', '65', 'Hong Kong', 'Liquor', 'Food & Beverage', '2540', 'Kochouseph Chittilappilly', '$1 B', '72', 'India', 'Electrical appliances', 'Manufacturing', '2540', 'John Christodoulou', '$1 B', '57', 'United Kingdom', 'Real estate', 'Real Estate', '2540', 'Pollyanna Chu', '$1 B', '64', 'Hong Kong', 'Financial services, property', 'Finance & Investments', '2540', 'Turgay Ciner', '$1 B', '67', 'Turkey', 'Diversified', 'Diversified', '2540', 'Benoit Dageville', '$1 B', '56', 'United States', 'Software', 'Technology', '2540', 'Mark Dixon', '$1 B', '63', 'United Kingdom', 'Office real estate', 'Real Estate', '2540', 'Du Yulin & family', '$1 B', '50', 'China', 'Software', 'Technology', '2540', 'Feng Yuxia', '$1 B', '58', 'China', 'Pharmaceuticals', 'Healthcare', '2540', 'Benedicte Find', '$1 B', '68', 'Denmark', 'Medical devices', 'Healthcare', '2540', 'William Fisher', '$1 B', '66', 'United States', 'Gap', 'Fashion & Retail', '2540', 'Gao Yunfeng', '$1 B', '56', 'China', 'Industrial lasers', 'Manufacturing', '2540', 'Jianming Geng', '$1 B', '60', 'China', 'Real estate', 'Real Estate', '2540', 'Sven Hagströmer', '$1 B', '79', 'Sweden', 'Financial services', 'Finance & Investments', '2540', 'Clelia Haji-Ioannou', '$1 B', '52', 'Cyprus', 'EasyJet', 'Service', '2540', 'Stelios Haji-Ioannou', '$1 B', '56', 'Cyprus', 'EasyJet', 'Service', '2540', 'Hang Hong', '$1 B', '55', 'China', 'Machinery', 'Manufacturing', '2540', 'He Yamin & family', '$1 B', '66', 'China', 'Manufacturing', 'Manufacturing', '2540', 'Ghan Djoe Hiang', '$1 B', '79', 'Indonesia', 'Coal', 'Energy', '2540', 'Hong Feng', '$1 B', '46', 'China', 'Smartphones', 'Technology', '2540', 'Hong Seok-joh', '$1 B', '70', 'South Korea', 'Convenience stores', 'Fashion & Retail', '2540', 'Hu Gengxi & family', '$1 B', '59', 'China', 'Bio-Pharma', 'Healthcare', '2540', 'Danilo Iervolino', '$1 B', '45', 'Italy', 'Online universities', 'Technology', '2540', 'Hedda im Brahm-Droege', '$1 B', '68', 'Germany', 'Investments', 'Finance & Investments', '2540', 'Inder Jaisinghani', '$1 B', '70', 'India', 'Cables & wires', 'Manufacturing', '2540', 'LeBron James', '$1 B', '38', 'United States', 'Basketball', 'Sports', '2540', 'Johan Johannson', '$1 B', '56', 'Norway', 'Grocery stores', 'Fashion & Retail', '2540', 'Morris Kahn', '$1 B', '93', 'Israel', 'Software', 'Technology', '2540', 'Ashok Kajaria', '$1 B', '75', 'India', 'Tiles', 'Manufacturing', '2540', 'Marcelo Kalim', '$1 B', '53', 'Brazil', 'Banking', 'Finance & Investments', '2540', 'Ken Kendrick', '$1 B', '79', 'United States', 'Banking, sports team', 'Sports', '2540', 'Brad Keywell', '$1 B', '53', 'United States', 'Software, investments', 'Technology', '2540', 'Muhammed Aziz Khan', '$1 B', '68', 'Bangladesh', 'Power', 'Energy', '2540', 'Kim Jung-woong', '$1 B', '48', 'South Korea', 'Cosmetics', 'Fashion & Retail', '2540', 'Ihor Kolomoyskyy', '$1 B', '60', 'Israel', 'Banking, investments', 'Diversified', '2540', 'Kong Jian Min', '$1 B', '55', 'China', 'Real estate', 'Real Estate', '2540', 'Koo Bon-neung', '$1 B', '74', 'South Korea', 'Electronics', 'Manufacturing', '2540', 'Michael Kum', '$1 B', '78', 'Singapore', 'Hotels', 'Real Estate', '2540', 'Richard Kurtz', '$1 B', '82', 'United States', 'Real estate', 'Real Estate', '2540', 'Lev Kvetnoi', '$1 B', '57', 'Russia', 'Cement', 'Finance & Investments', '2540', 'Michiel Le Roux', '$1 B', '73', 'South Africa', 'Banking', 'Finance & Investments', '2540', 'Li Wanqiang', '$1 B', '45', 'China', 'Smartphones', 'Technology', '2540', 'Liu Baolin', '$1 B', '69', 'China', 'Pharmacies', 'Fashion & Retail', '2540', 'Loo Choon Yong', '$1 B', '74', 'Singapore', 'Healthcare', 'Healthcare', '2540', 'Lu Yonghua & family', '$1 B', '59', 'China', 'Electronics', 'Technology', '2540', 'Ma Xiuhui', '$1 B', '52', 'China', 'LED lighting', 'Manufacturing', '2540', 'Apoorva Mehta', '$1 B', '36', 'Canada', 'Grocery delivery service', 'Technology', '2540', 'Gabriella Meister', '$1 B', 'N/A', 'Germany', 'Appliances', 'Manufacturing', '2540', 'Ulrike Meister', '$1 B', '56', 'Germany', 'Appliances', 'Manufacturing', '2540', 'Andrei Molchanov', '$1 B', '51', 'Russia', 'Construction materials', 'Construction & Engineering', '2540', 'Fulvio Montipò & family', '$1 B', '78', 'Italy', 'Hydraulic pumps', 'Manufacturing', '2540', 'Stanley Motta', '$1 B', '77', 'Panama', 'Finance', 'Finance & Investments', '2540', 'Tyler Perry', '$1 B', '53', 'United States', 'Movies, television', 'Media & Entertainment', '2540', 'Réal Plourde', '$1 B', 'N/A', 'Canada', 'Convenience stores', 'Fashion & Retail', '2540', 'Vera Rechulski Santo Domingo', '$1 B', '74', 'Brazil', 'Beer', 'Food & Beverage', '2540', 'George Sakellaris', '$1 B', '76', 'United States', 'Energy services', 'Energy', '2540', 'Eddy Kusnadi Sariaatmadja', '$1 B', '69', 'Indonesia', 'Media, tech', 'Media & Entertainment', '2540', 'Neerja Sethi', '$1 B', '68', 'United States', 'IT consulting, outsourcing', 'Technology', '2540', 'Scott Smith', '$1 B', '73', 'United States', 'Cloud computing', 'Technology', '2540', 'Petter Stordalen & family', '$1 B', '60', 'Norway', 'Hotels', 'Service', '2540', 'Ivan Streshinsky', '$1 B', '53', 'Russia', 'Metals, telecom', 'Diversified', '2540', 'Sergei Sudarikov', '$1 B', '51', 'Russia', 'Finance, development', 'Finance & Investments', '2540', 'Wijono Tanoko', '$1 B', '70', 'Indonesia', 'Paints', 'Manufacturing', '2540', 'Haryanto Tjiptodihardjo', '$1 B', '59', 'Indonesia', 'Manufacturing', 'Manufacturing', '2540', 'David Tran & family', '$1 B', '77', 'United States', 'Hot sauce', 'Food & Beverage', '2540', 'Kenzo Tsujimoto', '$1 B', '82', 'Japan', 'Video games', 'Media & Entertainment', '2540', 'Murat Vargi', '$1 B', '75', 'Turkey', 'Telecom', 'Telecom', '2540', 'Shigefumi Wada', '$1 B', '70', 'Japan', 'Software', 'Technology', '2540', 'Wan Feng & family', '$1 B', '54', 'China', 'Medical equipment', 'Healthcare', '2540', 'Wang Jianfeng & family', '$1 B', '53', 'China', 'Auto parts', 'Automotive', '2540', 'Masaru Wasami', '$1 B', '77', 'Japan', 'Logistics', 'Logistics', '2540', 'V. Prem Watsa', '$1 B', '72', 'Canada', 'Insurance, investments', 'Finance & Investments', '2540', 'Wen Pengcheng & family', '$1 B', '60', 'China', 'Agribusiness', 'Food & Beverage', '2540', 'Toto Wolff', '$1 B', '51', 'Austria', 'Sports', 'Sports', '2540', 'Franziska Wuerbser', '$1 B', '35', 'Germany', 'Kitchen appliances', 'Manufacturing', '2540', 'Xie Bingzheng & family', '$1 B', '54', 'China', 'Apparel', 'Fashion & Retail', '2540', 'Xu Gang', '$1 B', '59', 'China', 'Chemicals', 'Manufacturing', '2540', 'Yan Junxu', '$1 B', '53', 'China', 'Manufacturing', 'Manufacturing', '2540', 'Yi Xianzhong & family', '$1 B', '63', 'China', 'Pharmaceuticals', 'Healthcare', '2540', 'Yu Rong', '$1 B', '51', 'China', 'Health clinics', 'Healthcare', '2540', 'Richard Yuengling, Jr.', '$1 B', '80', 'United States', 'Beer', 'Food & Beverage', '2540', 'Zhang Gongyun', '$1 B', '60', 'China', 'Tyre manufacturing machinery', 'Manufacturing', '2540', 'Zhang Guiping & family', '$1 B', '71', 'China', 'Real estate', 'Real Estate', '2540', 'Inigo Zobel', '$1 B', '66', 'Philippines', 'Diversified', 'Diversified', '2405', 'Hari Krishan Agarwal', '$1.1 B', '66', 'India', 'Sports shoes', 'Fashion & Retail', '2405', 'Farkhad Akhmedov', '$1.1 B', '67', 'Russia', 'Investments', 'Energy', '2405', 'Prem Kumar Arora', '$1.1 B', '84', 'India', 'Pharmaceuticals', 'Healthcare', '2405', 'Joseph Bae', '$1.1 B', '51', 'United States', 'Private equity', 'Finance & Investments', '2405', 'Abigail Bennett', '$1.1 B', '42', 'United States', 'Liquor', 'Food & Beverage', '2405', 'Sara Blakely', '$1.1 B', '52', 'United States', 'Spanx', 'Fashion & Retail', '2405', 'Lloyd Blankfein', '$1.1 B', '68', 'United States', 'Banking', 'Finance & Investments', '2405', 'Henadiy Boholyubov', '$1.1 B', '61', 'Ukraine', 'Banking, investments', 'Diversified', '2405', 'Stephane Bonvin', '$1.1 B', '56', 'Switzerland', 'Real estate', 'Real Estate', '2405', 'Oleg Boyko', '$1.1 B', '58', 'Russia', 'Diversified', 'Diversified', '2405', 'Ryan Breslow', '$1.1 B', '28', 'United States', 'E-commerce software', 'Technology', '2405', 'Thomas Bruch', '$1.1 B', '72', 'Germany', 'Retail', 'Fashion & Retail', '2405', 'Marina Budiman', '$1.1 B', '61', 'Indonesia', 'Data centers', 'Technology', '2405', 'Pradip Burman', '$1.1 B', '80', 'India', 'Consumer goods', 'Food & Beverage', '2405', 'Cai Hongbin', '$1.1 B', 'N/A', 'China', 'Pharmaceuticals', 'Healthcare', '2405', 'Cao Kejian', '$1.1 B', '60', 'China', 'Air compressors', 'Manufacturing', '2405', 'Giuliana Caprotti', '$1.1 B', '82', 'Italy', 'Supermarkets', 'Food & Beverage', '2405', 'Marina Caprotti', '$1.1 B', '45', 'Italy', 'Supermarkets', 'Food & Beverage', '2405', 'Chang Jing', '$1.1 B', '40', 'China', 'Technology', 'Technology', '2405', 'Chen Baohua', '$1.1 B', '61', 'China', 'Pharmaceutical', 'Healthcare', '2405', 'Gang Chen', '$1.1 B', '55', 'China', 'Solar energy', 'Energy', '2405', 'Liying Chen', '$1.1 B', '47', 'China', 'Package delivery', 'Logistics', '2405', 'Tony Chen', '$1.1 B', '73', 'Taiwan', 'Electronics', 'Technology', '2405', 'Chen Xueling', '$1.1 B', '55', 'China', 'Stationery', 'Manufacturing', '2405', 'Cheng Lili', '$1.1 B', '58', 'China', 'Poultry breeding', 'Food & Beverage', '2405', 'Cho Jyh-jer', '$1.1 B', 'N/A', 'Taiwan', 'Semiconductors', 'Technology', '2405', 'Weili Dai', '$1.1 B', '61', 'United States', 'Semiconductors', 'Technology', '2405', 'Carmen Daurella Aguilera', '$1.1 B', 'N/A', 'Spain', 'Coca-Cola bottler', 'Food & Beverage', '2405', 'Deng Yingzhong', '$1.1 B', '72', 'China', 'Paper', 'Manufacturing', '2405', 'Shlomo Eliahu', '$1.1 B', '87', 'Israel', 'Insurance', 'Finance & Investments', '2405', 'Henry Engelhardt', '$1.1 B', '65', 'United States', 'Insurance', 'Finance & Investments', '2405', 'Gabriel Escarrer', '$1.1 B', '88', 'Spain', 'Hotels', 'Service', '2405', 'Daniel Feffer', '$1.1 B', '63', 'Brazil', 'Pulp and paper', 'Manufacturing', '2405', 'Ruben Feffer', '$1.1 B', '53', 'Brazil', 'Pulp and paper', 'Manufacturing', '2405', 'Gleb Fetisov', '$1.1 B', '56', 'Russia', 'Investments', 'Telecom', '2405', 'Paul Fireman', '$1.1 B', '79', 'United States', 'Reebok', 'Fashion & Retail', '2405', 'Robert Fisher', '$1.1 B', '69', 'United States', 'Gap', 'Fashion & Retail', '2405', 'Bernd Freier', '$1.1 B', '66', 'Germany', 'Fashion retail', 'Fashion & Retail', '2405', 'Donald Friese', '$1.1 B', '82', 'United States', 'Manufacturing', 'Manufacturing', '2405', 'Gan Zhongru', '$1.1 B', '74', 'China', 'Pharmaceuticals', 'Healthcare', '2405', 'Rahul Gautam', '$1.1 B', '70', 'India', 'Mattresses', 'Fashion & Retail', '2405', 'David Golub', '$1.1 B', '60', 'United States', 'Private equity', 'Finance & Investments', '2405', 'Pavel Golubkov', '$1.1 B', '47', 'Russia', 'Building, development', 'Real Estate', '2405', 'Cristina Green', '$1.1 B', 'N/A', 'United Kingdom', 'Fashion retail', 'Fashion & Retail', '2405', 'Philip Green', '$1.1 B', 'N/A', 'United Kingdom', 'Fashion retail', 'Fashion & Retail', '2405', 'Said Gutseriev', '$1.1 B', '34', 'Russia', 'Retail, investments', 'Energy', '2405', 'Polys Haji-Ioannou', '$1.1 B', '63', 'Cyprus', 'EasyJet', 'Service', '2405', 'He Zuxun', '$1.1 B', '57', 'China', 'Pig breeding', 'Food & Beverage', '2405', 'Christian Herz', '$1.1 B', 'N/A', 'Germany', 'Coffee', 'Finance & Investments', '2405', 'Michaela Herz', '$1.1 B', 'N/A', 'Germany', 'Coffee', 'Finance & Investments', '2405', 'David Hindawi', '$1.1 B', '78', 'United States', 'Software', 'Technology', '2405', 'Huang Shan', '$1.1 B', '52', 'China', 'Software', 'Technology', '2405', 'Huang Xiaofen & family', '$1.1 B', '61', 'China', 'Printed circuit boards', 'Technology', '2405', 'Hiroshi Ishibashi', '$1.1 B', '76', 'Japan', 'Tires', 'Automotive', '2405', 'Masayuki Ishihara', '$1.1 B', '74', 'Japan', 'Pachinko machines', 'Gambling & Casinos', '2405', 'Chatchai Kaewbootta', '$1.1 B', '71', 'Thailand', 'Auto loans', 'Finance & Investments', '2405', 'Nikhil Kamath', '$1.1 B', '36', 'India', 'Financial services', 'Finance & Investments', '2405', 'Jonas Kamprad', '$1.1 B', '57', 'Sweden', 'IKEA', 'Finance & Investments', '2405', 'Mathias Kamprad', '$1.1 B', '53', 'Sweden', 'IKEA', 'Finance & Investments', '2405', 'Peter Kamprad', '$1.1 B', '59', 'Sweden', 'IKEA', 'Finance & Investments', '2405', 'Fumio Kaneko', '$1.1 B', '66', 'Japan', 'Waste management', 'Service', '2405', 'Sunjay Kapur', '$1.1 B', '51', 'United States', 'Auto parts', 'Automotive', '2405', 'Ali Metin Kazanci', '$1.1 B', '88', 'Turkey', 'Energy', 'Energy', '2405', 'Kangbao Ke & family', '$1.1 B', '60', 'China', 'Retailing', 'Healthcare', '2405', 'Carsten Koerl', '$1.1 B', '58', 'Germany', 'Sports data', 'Sports', '2405', 'Koo Bon-sik', '$1.1 B', '64', 'South Korea', 'LG', 'Technology', '2405', 'Andrei Kosogov', '$1.1 B', '62', 'Russia', 'Banking', 'Energy', '2405', 'Yogesh Kothari', '$1.1 B', '74', 'India', 'Specialty chemicals', 'Manufacturing', '2405', 'Arvind Lal', '$1.1 B', '73', 'India', 'Medical diagnostics', 'Healthcare', '2405', 'Manuel Lao Hernández', '$1.1 B', '78', 'Spain', 'Casinos', 'Gambling & Casinos', '2405', 'Lee Joong-keun', '$1.1 B', '82', 'South Korea', 'Construction, real estate', 'Construction & Engineering', '2405', 'Nancy Lerner', '$1.1 B', '62', 'United States', 'Banking, credit cards', 'Finance & Investments', '2405', 'Norma Lerner', '$1.1 B', '87', 'United States', 'Banking', 'Finance & Investments', '2405', 'Randolph Lerner', '$1.1 B', '61', 'United States', 'Banking, credit cards', 'Finance & Investments', '2405', 'Lin Zhijun', '$1.1 B', '47', 'China', 'Medical devices', 'Healthcare', '2405', 'Lin Zhixiong & family', '$1.1 B', '49', 'China', 'Medical devices', 'Healthcare', '2405', 'Jeffrey Lorberbaum', '$1.1 B', '68', 'United States', 'Flooring', 'Manufacturing', '2405', 'Lu Rongfu', '$1.1 B', '52', 'China', 'Telecommunication', 'Telecom', '2405', 'Lyu Yixiong', '$1.1 B', '60', 'China', 'Cosmetics', 'Fashion & Retail', '2405', 'Soichiro Minami', '$1.1 B', '46', 'Japan', 'Internet and software', 'Technology', '2405', 'Pawan Munjal', '$1.1 B', '68', 'India', 'Two wheelers', 'Automotive', '2405', 'Renu Munjal', '$1.1 B', '68', 'India', 'Two wheelers', 'Automotive', '2405', 'Suman Munjal', '$1.1 B', '70', 'India', 'Motorcycles', 'Automotive', '2405', 'Dmitry Nikolaev', '$1.1 B', '56', 'Russia', 'Coal', 'Energy', '2405', 'Sjamsul Nursalim', '$1.1 B', '81', 'Indonesia', 'Tires, retail', 'Automotive', '2405', 'Adrian Paval', '$1.1 B', '54', 'Romania', 'Retail', 'Fashion & Retail', '2405', 'Antonio Percassi', '$1.1 B', '69', 'Italy', 'Real estate, diversified', 'Diversified', '2405', 'Kevin Plank', '$1.1 B', '50', 'United States', 'Under Armour', 'Fashion & Retail', '2405', 'G.V. Prasad', '$1.1 B', '62', 'India', 'Pharmaceuticals', 'Healthcare', '2405', 'Pu Zhongjie & family', '$1.1 B', '60', 'China', 'Medical equipment', 'Healthcare', '2405', 'Rao Wei & family', '$1.1 B', '58', 'China', 'Pharmaceuticals', 'Healthcare', '2405', 'Helena Revoredo', '$1.1 B', '76', 'Spain', 'Security services', 'Service', '2405', 'Matthew Roszak', '$1.1 B', '50', 'United States', 'Cryptocurrency', 'Finance & Investments', '2405', 'Paul Sciarra', '$1.1 B', '42', 'United States', 'Pinterest', 'Technology', '2405', 'Rajesh Sharma', '$1.1 B', '53', 'India', 'Finance', 'Finance & Investments', '2405', 'Dean Solon', '$1.1 B', '58', 'United States', 'Solar systems', 'Energy', '2405', 'Michael Spencer', '$1.1 B', '67', 'United Kingdom', 'Stock exchange', 'Finance & Investments', '2405', 'Joseph Steinberg', '$1.1 B', '79', 'United States', 'Investments', 'Finance & Investments', '2405', 'Zachary Stern', '$1.1 B', '41', 'United States', 'Liquor', 'Food & Beverage']\n"
     ]
    }
   ],
   "source": [
    "citizenship=driver.find_elements(By.XPATH,'//div[@class=\"TableRow_cell__db-hv Table_cell__houv9\"]')\n",
    "for x in citizenship:\n",
    "    Citizenship.append(x.text)\n",
    "print(len(Citizenship),Citizenship)"
   ]
  },
  {
   "cell_type": "code",
   "execution_count": 147,
   "id": "59573556",
   "metadata": {},
   "outputs": [
    {
     "name": "stdout",
     "output_type": "stream",
     "text": [
      "800 ['Manohar Lal Agarwal', '68', 'Snacks', 'Food & Beverage', 'Christian Angermayer', '44', 'Investments', 'Finance & Investments', 'Ryuji Arai', '76', 'Retail', 'Fashion & Retail', 'Anna Maria Braun', '44', 'Medical technology', 'Healthcare', 'Johanna Braun', '43', 'Medical technology', 'Healthcare', 'Karl Friedrich Braun', '40', 'Medical technology', 'Healthcare', 'Ludwig Theodor Braun', '33', 'Medical technology', 'Healthcare', 'Ana Maria Brescia Cafferata', '98', 'Mining, banking', 'Diversified', 'Jimmy Buffett', '76', 'Entertainment, Margaritaville', 'Media & Entertainment', 'Hideyuki Busujima', '70', 'Pachinko machines', 'Gambling & Casinos', 'Edouard Carmignac', '75', 'Asset management', 'Finance & Investments', 'Chang Kuo-Ming', 'N/A', 'Transportation', 'Logistics', 'Chen Jiancheng', '64', 'Manufacturing', 'Manufacturing', 'Rui Chen', '45', 'Online entertainment', 'Media & Entertainment', 'Chen Shiliang', '59', 'Polyester', 'Manufacturing', 'Tianqiao Chen', '49', 'Online games', 'Technology', 'Yuantai Chen', '55', 'Batteries', 'Energy', 'Cheng Antares', '65', 'Liquor', 'Food & Beverage', 'Kochouseph Chittilappilly', '72', 'Electrical appliances', 'Manufacturing', 'John Christodoulou', '57', 'Real estate', 'Real Estate', 'Pollyanna Chu', '64', 'Financial services, property', 'Finance & Investments', 'Turgay Ciner', '67', 'Diversified', 'Diversified', 'Benoit Dageville', '56', 'Software', 'Technology', 'Mark Dixon', '63', 'Office real estate', 'Real Estate', 'Du Yulin & family', '50', 'Software', 'Technology', 'Feng Yuxia', '58', 'Pharmaceuticals', 'Healthcare', 'Benedicte Find', '68', 'Medical devices', 'Healthcare', 'William Fisher', '66', 'Gap', 'Fashion & Retail', 'Gao Yunfeng', '56', 'Industrial lasers', 'Manufacturing', 'Jianming Geng', '60', 'Real estate', 'Real Estate', 'Sven Hagströmer', '79', 'Financial services', 'Finance & Investments', 'Clelia Haji-Ioannou', '52', 'EasyJet', 'Service', 'Stelios Haji-Ioannou', '56', 'EasyJet', 'Service', 'Hang Hong', '55', 'Machinery', 'Manufacturing', 'He Yamin & family', '66', 'Manufacturing', 'Manufacturing', 'Ghan Djoe Hiang', '79', 'Coal', 'Energy', 'Hong Feng', '46', 'Smartphones', 'Technology', 'Hong Seok-joh', '70', 'Convenience stores', 'Fashion & Retail', 'Hu Gengxi & family', '59', 'Bio-Pharma', 'Healthcare', 'Danilo Iervolino', '45', 'Online universities', 'Technology', 'Hedda im Brahm-Droege', '68', 'Investments', 'Finance & Investments', 'Inder Jaisinghani', '70', 'Cables & wires', 'Manufacturing', 'LeBron James', '38', 'Basketball', 'Sports', 'Johan Johannson', '56', 'Grocery stores', 'Fashion & Retail', 'Morris Kahn', '93', 'Software', 'Technology', 'Ashok Kajaria', '75', 'Tiles', 'Manufacturing', 'Marcelo Kalim', '53', 'Banking', 'Finance & Investments', 'Ken Kendrick', '79', 'Banking, sports team', 'Sports', 'Brad Keywell', '53', 'Software, investments', 'Technology', 'Muhammed Aziz Khan', '68', 'Power', 'Energy', 'Kim Jung-woong', '48', 'Cosmetics', 'Fashion & Retail', 'Ihor Kolomoyskyy', '60', 'Banking, investments', 'Diversified', 'Kong Jian Min', '55', 'Real estate', 'Real Estate', 'Koo Bon-neung', '74', 'Electronics', 'Manufacturing', 'Michael Kum', '78', 'Hotels', 'Real Estate', 'Richard Kurtz', '82', 'Real estate', 'Real Estate', 'Lev Kvetnoi', '57', 'Cement', 'Finance & Investments', 'Michiel Le Roux', '73', 'Banking', 'Finance & Investments', 'Li Wanqiang', '45', 'Smartphones', 'Technology', 'Liu Baolin', '69', 'Pharmacies', 'Fashion & Retail', 'Loo Choon Yong', '74', 'Healthcare', 'Healthcare', 'Lu Yonghua & family', '59', 'Electronics', 'Technology', 'Ma Xiuhui', '52', 'LED lighting', 'Manufacturing', 'Apoorva Mehta', '36', 'Grocery delivery service', 'Technology', 'Gabriella Meister', 'N/A', 'Appliances', 'Manufacturing', 'Ulrike Meister', '56', 'Appliances', 'Manufacturing', 'Andrei Molchanov', '51', 'Construction materials', 'Construction & Engineering', 'Fulvio Montipò & family', '78', 'Hydraulic pumps', 'Manufacturing', 'Stanley Motta', '77', 'Finance', 'Finance & Investments', 'Tyler Perry', '53', 'Movies, television', 'Media & Entertainment', 'Réal Plourde', 'N/A', 'Convenience stores', 'Fashion & Retail', 'Vera Rechulski Santo Domingo', '74', 'Beer', 'Food & Beverage', 'George Sakellaris', '76', 'Energy services', 'Energy', 'Eddy Kusnadi Sariaatmadja', '69', 'Media, tech', 'Media & Entertainment', 'Neerja Sethi', '68', 'IT consulting, outsourcing', 'Technology', 'Scott Smith', '73', 'Cloud computing', 'Technology', 'Petter Stordalen & family', '60', 'Hotels', 'Service', 'Ivan Streshinsky', '53', 'Metals, telecom', 'Diversified', 'Sergei Sudarikov', '51', 'Finance, development', 'Finance & Investments', 'Wijono Tanoko', '70', 'Paints', 'Manufacturing', 'Haryanto Tjiptodihardjo', '59', 'Manufacturing', 'Manufacturing', 'David Tran & family', '77', 'Hot sauce', 'Food & Beverage', 'Kenzo Tsujimoto', '82', 'Video games', 'Media & Entertainment', 'Murat Vargi', '75', 'Telecom', 'Telecom', 'Shigefumi Wada', '70', 'Software', 'Technology', 'Wan Feng & family', '54', 'Medical equipment', 'Healthcare', 'Wang Jianfeng & family', '53', 'Auto parts', 'Automotive', 'Masaru Wasami', '77', 'Logistics', 'Logistics', 'V. Prem Watsa', '72', 'Insurance, investments', 'Finance & Investments', 'Wen Pengcheng & family', '60', 'Agribusiness', 'Food & Beverage', 'Toto Wolff', '51', 'Sports', 'Sports', 'Franziska Wuerbser', '35', 'Kitchen appliances', 'Manufacturing', 'Xie Bingzheng & family', '54', 'Apparel', 'Fashion & Retail', 'Xu Gang', '59', 'Chemicals', 'Manufacturing', 'Yan Junxu', '53', 'Manufacturing', 'Manufacturing', 'Yi Xianzhong & family', '63', 'Pharmaceuticals', 'Healthcare', 'Yu Rong', '51', 'Health clinics', 'Healthcare', 'Richard Yuengling, Jr.', '80', 'Beer', 'Food & Beverage', 'Zhang Gongyun', '60', 'Tyre manufacturing machinery', 'Manufacturing', 'Zhang Guiping & family', '71', 'Real estate', 'Real Estate', 'Inigo Zobel', '66', 'Diversified', 'Diversified', 'Hari Krishan Agarwal', '66', 'Sports shoes', 'Fashion & Retail', 'Farkhad Akhmedov', '67', 'Investments', 'Energy', 'Prem Kumar Arora', '84', 'Pharmaceuticals', 'Healthcare', 'Joseph Bae', '51', 'Private equity', 'Finance & Investments', 'Abigail Bennett', '42', 'Liquor', 'Food & Beverage', 'Sara Blakely', '52', 'Spanx', 'Fashion & Retail', 'Lloyd Blankfein', '68', 'Banking', 'Finance & Investments', 'Henadiy Boholyubov', '61', 'Banking, investments', 'Diversified', 'Stephane Bonvin', '56', 'Real estate', 'Real Estate', 'Oleg Boyko', '58', 'Diversified', 'Diversified', 'Ryan Breslow', '28', 'E-commerce software', 'Technology', 'Thomas Bruch', '72', 'Retail', 'Fashion & Retail', 'Marina Budiman', '61', 'Data centers', 'Technology', 'Pradip Burman', '80', 'Consumer goods', 'Food & Beverage', 'Cai Hongbin', 'N/A', 'Pharmaceuticals', 'Healthcare', 'Cao Kejian', '60', 'Air compressors', 'Manufacturing', 'Giuliana Caprotti', '82', 'Supermarkets', 'Food & Beverage', 'Marina Caprotti', '45', 'Supermarkets', 'Food & Beverage', 'Chang Jing', '40', 'Technology', 'Technology', 'Chen Baohua', '61', 'Pharmaceutical', 'Healthcare', 'Gang Chen', '55', 'Solar energy', 'Energy', 'Liying Chen', '47', 'Package delivery', 'Logistics', 'Tony Chen', '73', 'Electronics', 'Technology', 'Chen Xueling', '55', 'Stationery', 'Manufacturing', 'Cheng Lili', '58', 'Poultry breeding', 'Food & Beverage', 'Cho Jyh-jer', 'N/A', 'Semiconductors', 'Technology', 'Weili Dai', '61', 'Semiconductors', 'Technology', 'Carmen Daurella Aguilera', 'N/A', 'Coca-Cola bottler', 'Food & Beverage', 'Deng Yingzhong', '72', 'Paper', 'Manufacturing', 'Shlomo Eliahu', '87', 'Insurance', 'Finance & Investments', 'Henry Engelhardt', '65', 'Insurance', 'Finance & Investments', 'Gabriel Escarrer', '88', 'Hotels', 'Service', 'Daniel Feffer', '63', 'Pulp and paper', 'Manufacturing', 'Ruben Feffer', '53', 'Pulp and paper', 'Manufacturing', 'Gleb Fetisov', '56', 'Investments', 'Telecom', 'Paul Fireman', '79', 'Reebok', 'Fashion & Retail', 'Robert Fisher', '69', 'Gap', 'Fashion & Retail', 'Bernd Freier', '66', 'Fashion retail', 'Fashion & Retail', 'Donald Friese', '82', 'Manufacturing', 'Manufacturing', 'Gan Zhongru', '74', 'Pharmaceuticals', 'Healthcare', 'Rahul Gautam', '70', 'Mattresses', 'Fashion & Retail', 'David Golub', '60', 'Private equity', 'Finance & Investments', 'Pavel Golubkov', '47', 'Building, development', 'Real Estate', 'Cristina Green', 'N/A', 'Fashion retail', 'Fashion & Retail', 'Philip Green', 'N/A', 'Fashion retail', 'Fashion & Retail', 'Said Gutseriev', '34', 'Retail, investments', 'Energy', 'Polys Haji-Ioannou', '63', 'EasyJet', 'Service', 'He Zuxun', '57', 'Pig breeding', 'Food & Beverage', 'Christian Herz', 'N/A', 'Coffee', 'Finance & Investments', 'Michaela Herz', 'N/A', 'Coffee', 'Finance & Investments', 'David Hindawi', '78', 'Software', 'Technology', 'Huang Shan', '52', 'Software', 'Technology', 'Huang Xiaofen & family', '61', 'Printed circuit boards', 'Technology', 'Hiroshi Ishibashi', '76', 'Tires', 'Automotive', 'Masayuki Ishihara', '74', 'Pachinko machines', 'Gambling & Casinos', 'Chatchai Kaewbootta', '71', 'Auto loans', 'Finance & Investments', 'Nikhil Kamath', '36', 'Financial services', 'Finance & Investments', 'Jonas Kamprad', '57', 'IKEA', 'Finance & Investments', 'Mathias Kamprad', '53', 'IKEA', 'Finance & Investments', 'Peter Kamprad', '59', 'IKEA', 'Finance & Investments', 'Fumio Kaneko', '66', 'Waste management', 'Service', 'Sunjay Kapur', '51', 'Auto parts', 'Automotive', 'Ali Metin Kazanci', '88', 'Energy', 'Energy', 'Kangbao Ke & family', '60', 'Retailing', 'Healthcare', 'Carsten Koerl', '58', 'Sports data', 'Sports', 'Koo Bon-sik', '64', 'LG', 'Technology', 'Andrei Kosogov', '62', 'Banking', 'Energy', 'Yogesh Kothari', '74', 'Specialty chemicals', 'Manufacturing', 'Arvind Lal', '73', 'Medical diagnostics', 'Healthcare', 'Manuel Lao Hernández', '78', 'Casinos', 'Gambling & Casinos', 'Lee Joong-keun', '82', 'Construction, real estate', 'Construction & Engineering', 'Nancy Lerner', '62', 'Banking, credit cards', 'Finance & Investments', 'Norma Lerner', '87', 'Banking', 'Finance & Investments', 'Randolph Lerner', '61', 'Banking, credit cards', 'Finance & Investments', 'Lin Zhijun', '47', 'Medical devices', 'Healthcare', 'Lin Zhixiong & family', '49', 'Medical devices', 'Healthcare', 'Jeffrey Lorberbaum', '68', 'Flooring', 'Manufacturing', 'Lu Rongfu', '52', 'Telecommunication', 'Telecom', 'Lyu Yixiong', '60', 'Cosmetics', 'Fashion & Retail', 'Soichiro Minami', '46', 'Internet and software', 'Technology', 'Pawan Munjal', '68', 'Two wheelers', 'Automotive', 'Renu Munjal', '68', 'Two wheelers', 'Automotive', 'Suman Munjal', '70', 'Motorcycles', 'Automotive', 'Dmitry Nikolaev', '56', 'Coal', 'Energy', 'Sjamsul Nursalim', '81', 'Tires, retail', 'Automotive', 'Adrian Paval', '54', 'Retail', 'Fashion & Retail', 'Antonio Percassi', '69', 'Real estate, diversified', 'Diversified', 'Kevin Plank', '50', 'Under Armour', 'Fashion & Retail', 'G.V. Prasad', '62', 'Pharmaceuticals', 'Healthcare', 'Pu Zhongjie & family', '60', 'Medical equipment', 'Healthcare', 'Rao Wei & family', '58', 'Pharmaceuticals', 'Healthcare', 'Helena Revoredo', '76', 'Security services', 'Service', 'Matthew Roszak', '50', 'Cryptocurrency', 'Finance & Investments', 'Paul Sciarra', '42', 'Pinterest', 'Technology', 'Rajesh Sharma', '53', 'Finance', 'Finance & Investments', 'Dean Solon', '58', 'Solar systems', 'Energy', 'Michael Spencer', '67', 'Stock exchange', 'Finance & Investments', 'Joseph Steinberg', '79', 'Investments', 'Finance & Investments', 'Zachary Stern', '41', 'Liquor', 'Food & Beverage']\n"
     ]
    }
   ],
   "source": [
    "Source=[]\n",
    "source=driver.find_elements(By.XPATH,'//div[@class=\"Table_dataCell__2QCve\"]')\n",
    "for x in source:\n",
    "    Source.append(x.text)\n",
    "print(len(Source),Source)"
   ]
  },
  {
   "cell_type": "code",
   "execution_count": 149,
   "id": "56c88054",
   "metadata": {},
   "outputs": [],
   "source": [
    "billionaires=pd.DataFrame()\n",
    "\n",
    "billionaires['Name']=Name\n",
    "billionaires['Net Worth']=Net_worth\n",
    "billionaires['Source']=Source"
   ]
  },
  {
   "cell_type": "code",
   "execution_count": 150,
   "id": "b53e74ac",
   "metadata": {},
   "outputs": [
    {
     "data": {
      "text/html": [
       "<div>\n",
       "<style scoped>\n",
       "    .dataframe tbody tr th:only-of-type {\n",
       "        vertical-align: middle;\n",
       "    }\n",
       "\n",
       "    .dataframe tbody tr th {\n",
       "        vertical-align: top;\n",
       "    }\n",
       "\n",
       "    .dataframe thead th {\n",
       "        text-align: right;\n",
       "    }\n",
       "</style>\n",
       "<table border=\"1\" class=\"dataframe\">\n",
       "  <thead>\n",
       "    <tr style=\"text-align: right;\">\n",
       "      <th></th>\n",
       "      <th>Name</th>\n",
       "      <th>Net Worth</th>\n",
       "      <th>Source</th>\n",
       "    </tr>\n",
       "  </thead>\n",
       "  <tbody>\n",
       "    <tr>\n",
       "      <th>0</th>\n",
       "      <td>Bernard Arnault &amp; family</td>\n",
       "      <td>Manohar Lal Agarwal</td>\n",
       "      <td>Manohar Lal Agarwal</td>\n",
       "    </tr>\n",
       "    <tr>\n",
       "      <th>1</th>\n",
       "      <td>74</td>\n",
       "      <td>68</td>\n",
       "      <td>68</td>\n",
       "    </tr>\n",
       "    <tr>\n",
       "      <th>2</th>\n",
       "      <td>LVMH</td>\n",
       "      <td></td>\n",
       "      <td>Snacks</td>\n",
       "    </tr>\n",
       "    <tr>\n",
       "      <th>3</th>\n",
       "      <td>Fashion &amp; Retail</td>\n",
       "      <td></td>\n",
       "      <td>Food &amp; Beverage</td>\n",
       "    </tr>\n",
       "    <tr>\n",
       "      <th>4</th>\n",
       "      <td>Elon Musk</td>\n",
       "      <td>Christian Angermayer</td>\n",
       "      <td>Christian Angermayer</td>\n",
       "    </tr>\n",
       "    <tr>\n",
       "      <th>...</th>\n",
       "      <td>...</td>\n",
       "      <td>...</td>\n",
       "      <td>...</td>\n",
       "    </tr>\n",
       "    <tr>\n",
       "      <th>795</th>\n",
       "      <td>Food &amp; Beverage</td>\n",
       "      <td></td>\n",
       "      <td>Finance &amp; Investments</td>\n",
       "    </tr>\n",
       "    <tr>\n",
       "      <th>796</th>\n",
       "      <td>Valerie Mars</td>\n",
       "      <td>Zachary Stern</td>\n",
       "      <td>Zachary Stern</td>\n",
       "    </tr>\n",
       "    <tr>\n",
       "      <th>797</th>\n",
       "      <td>64</td>\n",
       "      <td>41</td>\n",
       "      <td>41</td>\n",
       "    </tr>\n",
       "    <tr>\n",
       "      <th>798</th>\n",
       "      <td>Candy, pet food</td>\n",
       "      <td></td>\n",
       "      <td>Liquor</td>\n",
       "    </tr>\n",
       "    <tr>\n",
       "      <th>799</th>\n",
       "      <td>Food &amp; Beverage</td>\n",
       "      <td></td>\n",
       "      <td>Food &amp; Beverage</td>\n",
       "    </tr>\n",
       "  </tbody>\n",
       "</table>\n",
       "<p>800 rows × 3 columns</p>\n",
       "</div>"
      ],
      "text/plain": [
       "                         Name             Net Worth                 Source\n",
       "0    Bernard Arnault & family   Manohar Lal Agarwal    Manohar Lal Agarwal\n",
       "1                          74                    68                     68\n",
       "2                        LVMH                                       Snacks\n",
       "3            Fashion & Retail                              Food & Beverage\n",
       "4                   Elon Musk  Christian Angermayer   Christian Angermayer\n",
       "..                        ...                   ...                    ...\n",
       "795           Food & Beverage                        Finance & Investments\n",
       "796              Valerie Mars         Zachary Stern          Zachary Stern\n",
       "797                        64                    41                     41\n",
       "798           Candy, pet food                                       Liquor\n",
       "799           Food & Beverage                              Food & Beverage\n",
       "\n",
       "[800 rows x 3 columns]"
      ]
     },
     "execution_count": 150,
     "metadata": {},
     "output_type": "execute_result"
    }
   ],
   "source": [
    "billionaires"
   ]
  },
  {
   "cell_type": "code",
   "execution_count": null,
   "id": "e0cda679",
   "metadata": {},
   "outputs": [],
   "source": []
  },
  {
   "cell_type": "code",
   "execution_count": null,
   "id": "6b1b8f40",
   "metadata": {},
   "outputs": [],
   "source": []
  },
  {
   "cell_type": "code",
   "execution_count": null,
   "id": "1aace0f9",
   "metadata": {},
   "outputs": [],
   "source": []
  },
  {
   "cell_type": "code",
   "execution_count": null,
   "id": "e57aed44",
   "metadata": {},
   "outputs": [],
   "source": []
  },
  {
   "cell_type": "code",
   "execution_count": null,
   "id": "1e1b81ef",
   "metadata": {},
   "outputs": [],
   "source": []
  },
  {
   "cell_type": "code",
   "execution_count": null,
   "id": "93e5c300",
   "metadata": {},
   "outputs": [],
   "source": []
  },
  {
   "cell_type": "markdown",
   "id": "49b4a7a7",
   "metadata": {},
   "source": [
    "# 8. Write a program to extract at least 500 Comments, Comment upvote and time when comment was posted"
   ]
  },
  {
   "cell_type": "code",
   "execution_count": 75,
   "id": "77c71966",
   "metadata": {},
   "outputs": [],
   "source": [
    "driver=webdriver.Chrome()"
   ]
  },
  {
   "cell_type": "code",
   "execution_count": 76,
   "id": "08b334b9",
   "metadata": {},
   "outputs": [],
   "source": [
    "url='https://www.youtube.com/watch?v=geWjooaLm1I'"
   ]
  },
  {
   "cell_type": "code",
   "execution_count": 29,
   "id": "98c8dafa",
   "metadata": {},
   "outputs": [],
   "source": [
    "driver.get(url)"
   ]
  },
  {
   "cell_type": "code",
   "execution_count": 72,
   "id": "15587a9d",
   "metadata": {},
   "outputs": [
    {
     "name": "stdout",
     "output_type": "stream",
     "text": [
      "20 ['We want arjun and parvathi again to start their journeys in saregamapa', \"Arjun and Charan deserve this opportunity\\nKeerthana too is a great singer. \\nLet's hope that the best gets this opportunity.\", 'ధన్యవాదములు zee tv పార్వతి గారి ని మళ్ళీ స రి గా మా ప లో చూడడం చాలా హ్యాపీ గా ఉంది ️ big fan of పార్వతి గారు', 'My vote for Parvathi Dasari garu she deserved ', 'Arjun is soo good he must come back', 'Arun Vijay and Vinod Sharma are the two most deserving candidates than the rest.', 'Keerthana deserves this wild card entry,wow fantastic singer she is ', 'I wish that kalyani garu should come back ️', 'Parvathi will come definately  again sarigamapa show', 'పార్వతి sister all the best', 'I want see again both sing a song pranav and pravathi  on saregamapa ', 'Always parvathi .....best singer..', 'We want Paarvati.....', 'Arjun Vijay deserves the wild card entry', 'Parvathi ️', \"True talent should come without any bias  and don't let any one come for trps. it is about talent .\", 'పార్వతి మళ్ళి రావడం so happy all the best పార్వతి', 'V want PARVATHI ️', 'charan tej ️how innocent he is ️️and his voice is too gud ️', 'Vinod lekapovadam badhagaa undi, he is capable enough to give tough competition to existing contestants']\n"
     ]
    }
   ],
   "source": [
    "comments=[]\n",
    "comment=driver.find_elements(By.XPATH,'//yt-formatted-string[@class=\"style-scope ytd-comment-renderer\"]')\n",
    "for x in comment:\n",
    "    comments.append(x.text)\n",
    "print(len(comments),comments)"
   ]
  },
  {
   "cell_type": "code",
   "execution_count": 73,
   "id": "e48abee0",
   "metadata": {},
   "outputs": [
    {
     "name": "stdout",
     "output_type": "stream",
     "text": [
      "40 ['', '486', '', '25', '', '27', '', '18', '', '287', '', '151', '', '', '', '21', '', '46', '', '40', '', '9', '', '14', '', '9', '', '12', '', '5', '', '156', '', '6', '', '5', '', '7', '', '7']\n"
     ]
    }
   ],
   "source": [
    "upvote=[]\n",
    "vote=driver.find_elements(By.XPATH,'//span[@class=\"style-scope ytd-comment-action-buttons-renderer\"]')\n",
    "for x in vote:\n",
    "    upvote.append(x.text)\n",
    "print(len(upvote),upvote)"
   ]
  },
  {
   "cell_type": "code",
   "execution_count": 74,
   "id": "9a18d516",
   "metadata": {},
   "outputs": [
    {
     "name": "stdout",
     "output_type": "stream",
     "text": [
      "0 []\n"
     ]
    }
   ],
   "source": [
    "time=[]\n",
    "tm=driver.find_elements(By.XPATH,'//yt-formatted-string[@class=\"published-time-text above-comment style-scope ytd-comment-renderer\"]/a[1]')\n",
    "for x in tm:\n",
    "    time.append(x.text)\n",
    "print(len(time),time)"
   ]
  },
  {
   "cell_type": "code",
   "execution_count": 75,
   "id": "fd02893d",
   "metadata": {},
   "outputs": [],
   "source": [
    "for i in range(0,40):\n",
    "    if i%2==0:\n",
    "        time.insert(i,'-')\n",
    "    else:\n",
    "        continue"
   ]
  },
  {
   "cell_type": "code",
   "execution_count": 78,
   "id": "cb570982",
   "metadata": {},
   "outputs": [
    {
     "ename": "ValueError",
     "evalue": "Length of values (40) does not match length of index (20)",
     "output_type": "error",
     "traceback": [
      "\u001b[1;31m---------------------------------------------------------------------------\u001b[0m",
      "\u001b[1;31mValueError\u001b[0m                                Traceback (most recent call last)",
      "Cell \u001b[1;32mIn[78], line 3\u001b[0m\n\u001b[0;32m      1\u001b[0m df\u001b[38;5;241m=\u001b[39mpd\u001b[38;5;241m.\u001b[39mDataFrame()\n\u001b[0;32m      2\u001b[0m df[\u001b[38;5;124m'\u001b[39m\u001b[38;5;124mComments\u001b[39m\u001b[38;5;124m'\u001b[39m]\u001b[38;5;241m=\u001b[39mcomments\n\u001b[1;32m----> 3\u001b[0m df[\u001b[38;5;124m'\u001b[39m\u001b[38;5;124mUp Vote\u001b[39m\u001b[38;5;124m'\u001b[39m]\u001b[38;5;241m=\u001b[39mupvote\n\u001b[0;32m      4\u001b[0m df[\u001b[38;5;124m'\u001b[39m\u001b[38;5;124mTime of Comments\u001b[39m\u001b[38;5;124m'\u001b[39m]\u001b[38;5;241m=\u001b[39mtime\n\u001b[0;32m      5\u001b[0m df\n",
      "File \u001b[1;32m~\\anaconda3\\lib\\site-packages\\pandas\\core\\frame.py:3980\u001b[0m, in \u001b[0;36mDataFrame.__setitem__\u001b[1;34m(self, key, value)\u001b[0m\n\u001b[0;32m   3977\u001b[0m     \u001b[38;5;28mself\u001b[39m\u001b[38;5;241m.\u001b[39m_setitem_array([key], value)\n\u001b[0;32m   3978\u001b[0m \u001b[38;5;28;01melse\u001b[39;00m:\n\u001b[0;32m   3979\u001b[0m     \u001b[38;5;66;03m# set column\u001b[39;00m\n\u001b[1;32m-> 3980\u001b[0m     \u001b[38;5;28;43mself\u001b[39;49m\u001b[38;5;241;43m.\u001b[39;49m\u001b[43m_set_item\u001b[49m\u001b[43m(\u001b[49m\u001b[43mkey\u001b[49m\u001b[43m,\u001b[49m\u001b[43m \u001b[49m\u001b[43mvalue\u001b[49m\u001b[43m)\u001b[49m\n",
      "File \u001b[1;32m~\\anaconda3\\lib\\site-packages\\pandas\\core\\frame.py:4174\u001b[0m, in \u001b[0;36mDataFrame._set_item\u001b[1;34m(self, key, value)\u001b[0m\n\u001b[0;32m   4164\u001b[0m \u001b[38;5;28;01mdef\u001b[39;00m \u001b[38;5;21m_set_item\u001b[39m(\u001b[38;5;28mself\u001b[39m, key, value) \u001b[38;5;241m-\u001b[39m\u001b[38;5;241m>\u001b[39m \u001b[38;5;28;01mNone\u001b[39;00m:\n\u001b[0;32m   4165\u001b[0m     \u001b[38;5;124;03m\"\"\"\u001b[39;00m\n\u001b[0;32m   4166\u001b[0m \u001b[38;5;124;03m    Add series to DataFrame in specified column.\u001b[39;00m\n\u001b[0;32m   4167\u001b[0m \n\u001b[1;32m   (...)\u001b[0m\n\u001b[0;32m   4172\u001b[0m \u001b[38;5;124;03m    ensure homogeneity.\u001b[39;00m\n\u001b[0;32m   4173\u001b[0m \u001b[38;5;124;03m    \"\"\"\u001b[39;00m\n\u001b[1;32m-> 4174\u001b[0m     value \u001b[38;5;241m=\u001b[39m \u001b[38;5;28;43mself\u001b[39;49m\u001b[38;5;241;43m.\u001b[39;49m\u001b[43m_sanitize_column\u001b[49m\u001b[43m(\u001b[49m\u001b[43mvalue\u001b[49m\u001b[43m)\u001b[49m\n\u001b[0;32m   4176\u001b[0m     \u001b[38;5;28;01mif\u001b[39;00m (\n\u001b[0;32m   4177\u001b[0m         key \u001b[38;5;129;01min\u001b[39;00m \u001b[38;5;28mself\u001b[39m\u001b[38;5;241m.\u001b[39mcolumns\n\u001b[0;32m   4178\u001b[0m         \u001b[38;5;129;01mand\u001b[39;00m value\u001b[38;5;241m.\u001b[39mndim \u001b[38;5;241m==\u001b[39m \u001b[38;5;241m1\u001b[39m\n\u001b[0;32m   4179\u001b[0m         \u001b[38;5;129;01mand\u001b[39;00m \u001b[38;5;129;01mnot\u001b[39;00m is_extension_array_dtype(value)\n\u001b[0;32m   4180\u001b[0m     ):\n\u001b[0;32m   4181\u001b[0m         \u001b[38;5;66;03m# broadcast across multiple columns if necessary\u001b[39;00m\n\u001b[0;32m   4182\u001b[0m         \u001b[38;5;28;01mif\u001b[39;00m \u001b[38;5;129;01mnot\u001b[39;00m \u001b[38;5;28mself\u001b[39m\u001b[38;5;241m.\u001b[39mcolumns\u001b[38;5;241m.\u001b[39mis_unique \u001b[38;5;129;01mor\u001b[39;00m \u001b[38;5;28misinstance\u001b[39m(\u001b[38;5;28mself\u001b[39m\u001b[38;5;241m.\u001b[39mcolumns, MultiIndex):\n",
      "File \u001b[1;32m~\\anaconda3\\lib\\site-packages\\pandas\\core\\frame.py:4915\u001b[0m, in \u001b[0;36mDataFrame._sanitize_column\u001b[1;34m(self, value)\u001b[0m\n\u001b[0;32m   4912\u001b[0m     \u001b[38;5;28;01mreturn\u001b[39;00m _reindex_for_setitem(Series(value), \u001b[38;5;28mself\u001b[39m\u001b[38;5;241m.\u001b[39mindex)\n\u001b[0;32m   4914\u001b[0m \u001b[38;5;28;01mif\u001b[39;00m is_list_like(value):\n\u001b[1;32m-> 4915\u001b[0m     \u001b[43mcom\u001b[49m\u001b[38;5;241;43m.\u001b[39;49m\u001b[43mrequire_length_match\u001b[49m\u001b[43m(\u001b[49m\u001b[43mvalue\u001b[49m\u001b[43m,\u001b[49m\u001b[43m \u001b[49m\u001b[38;5;28;43mself\u001b[39;49m\u001b[38;5;241;43m.\u001b[39;49m\u001b[43mindex\u001b[49m\u001b[43m)\u001b[49m\n\u001b[0;32m   4916\u001b[0m \u001b[38;5;28;01mreturn\u001b[39;00m sanitize_array(value, \u001b[38;5;28mself\u001b[39m\u001b[38;5;241m.\u001b[39mindex, copy\u001b[38;5;241m=\u001b[39m\u001b[38;5;28;01mTrue\u001b[39;00m, allow_2d\u001b[38;5;241m=\u001b[39m\u001b[38;5;28;01mTrue\u001b[39;00m)\n",
      "File \u001b[1;32m~\\anaconda3\\lib\\site-packages\\pandas\\core\\common.py:571\u001b[0m, in \u001b[0;36mrequire_length_match\u001b[1;34m(data, index)\u001b[0m\n\u001b[0;32m    567\u001b[0m \u001b[38;5;124;03m\"\"\"\u001b[39;00m\n\u001b[0;32m    568\u001b[0m \u001b[38;5;124;03mCheck the length of data matches the length of the index.\u001b[39;00m\n\u001b[0;32m    569\u001b[0m \u001b[38;5;124;03m\"\"\"\u001b[39;00m\n\u001b[0;32m    570\u001b[0m \u001b[38;5;28;01mif\u001b[39;00m \u001b[38;5;28mlen\u001b[39m(data) \u001b[38;5;241m!=\u001b[39m \u001b[38;5;28mlen\u001b[39m(index):\n\u001b[1;32m--> 571\u001b[0m     \u001b[38;5;28;01mraise\u001b[39;00m \u001b[38;5;167;01mValueError\u001b[39;00m(\n\u001b[0;32m    572\u001b[0m         \u001b[38;5;124m\"\u001b[39m\u001b[38;5;124mLength of values \u001b[39m\u001b[38;5;124m\"\u001b[39m\n\u001b[0;32m    573\u001b[0m         \u001b[38;5;124mf\u001b[39m\u001b[38;5;124m\"\u001b[39m\u001b[38;5;124m(\u001b[39m\u001b[38;5;132;01m{\u001b[39;00m\u001b[38;5;28mlen\u001b[39m(data)\u001b[38;5;132;01m}\u001b[39;00m\u001b[38;5;124m) \u001b[39m\u001b[38;5;124m\"\u001b[39m\n\u001b[0;32m    574\u001b[0m         \u001b[38;5;124m\"\u001b[39m\u001b[38;5;124mdoes not match length of index \u001b[39m\u001b[38;5;124m\"\u001b[39m\n\u001b[0;32m    575\u001b[0m         \u001b[38;5;124mf\u001b[39m\u001b[38;5;124m\"\u001b[39m\u001b[38;5;124m(\u001b[39m\u001b[38;5;132;01m{\u001b[39;00m\u001b[38;5;28mlen\u001b[39m(index)\u001b[38;5;132;01m}\u001b[39;00m\u001b[38;5;124m)\u001b[39m\u001b[38;5;124m\"\u001b[39m\n\u001b[0;32m    576\u001b[0m     )\n",
      "\u001b[1;31mValueError\u001b[0m: Length of values (40) does not match length of index (20)"
     ]
    }
   ],
   "source": [
    "df=pd.DataFrame()\n",
    "df['Comments']=comments\n",
    "df['Up Vote']=upvote\n",
    "df['Time of Comments']=time\n",
    "df"
   ]
  },
  {
   "cell_type": "markdown",
   "id": "237b8e1a",
   "metadata": {},
   "source": [
    "# 9. Write a python program to scrape a data for all available Hostels from https://www.hostelworld.com/ in"
   ]
  },
  {
   "cell_type": "code",
   "execution_count": 124,
   "id": "76045610",
   "metadata": {},
   "outputs": [],
   "source": [
    "driver=webdriver.Chrome()"
   ]
  },
  {
   "cell_type": "code",
   "execution_count": 125,
   "id": "cff41d54",
   "metadata": {},
   "outputs": [],
   "source": [
    "url='https://www.hostelworld.com/s?q=London,%20England&city=London&country=England&type=city&id=3&from=2022-05-24&to=2022-05-27&guests=2&page=1'\n"
   ]
  },
  {
   "cell_type": "code",
   "execution_count": 126,
   "id": "4394bc3a",
   "metadata": {},
   "outputs": [],
   "source": [
    "driver.get(url)"
   ]
  },
  {
   "cell_type": "code",
   "execution_count": 127,
   "id": "c599b2ea",
   "metadata": {},
   "outputs": [
    {
     "name": "stdout",
     "output_type": "stream",
     "text": [
      "32 [\"St Christopher's Village\", 'Palmers Lodge - Swiss Cottage', \"Wombat's City Hostel London\", \"St Christopher's Village\", 'Onefam Notting Hill', 'Urbany Hostel London', 'Palmers Lodge - Swiss Cottage', 'Generator London', 'Safestay London Elephant & Castle', 'Astor Hyde Park', 'NX London Hostel', 'Safestay London Kensington Holland Park', 'Astor Museum Inn', 'Clink261', 'Smart Russell Square Hostel', 'Destinations Hostels @ The Gallery', 'Smart Hyde Park Inn Hostel', 'Phoenix Hostel', 'The Walrus Hostel', 'YHA London Oxford Street', 'Hostelle - women only hostel London', \"St Christopher's Hammersmith\", 'Barmy Badger Backpackers', 'Prime Backpackers Angel', 'London Backpackers', 'Astor Victoria', 'Saint James Backpackers', 'Kabannas London St Pancras', \"St Christopher's Inn - London Bridge\", 'Astor Kensington', 'Smart Camden Inn Hostel', \"St Christopher's Oasis-Female Only\"]\n"
     ]
    }
   ],
   "source": [
    "hotel_name=[]\n",
    "name=driver.find_elements(By.XPATH,'//div[@class=\"property-name\"]')\n",
    "for x in name:\n",
    "    hotel_name.append(x.text)\n",
    "print(len(hotel_name),hotel_name)\n"
   ]
  },
  {
   "cell_type": "code",
   "execution_count": 128,
   "id": "99fe7742",
   "metadata": {},
   "outputs": [
    {
     "name": "stdout",
     "output_type": "stream",
     "text": [
      "30 ['- 3.6km from city centre', '- 1.8km from city centre', '- 5.5km from city centre', '- 5.4km from city centre', '- 6.5km from city centre', '- 3km from city centre', '- 1.7km from city centre', '- 4.3km from city centre', '- 6.1km from city centre', '- 5.8km from city centre', '- 2.2km from city centre', '- 3.2km from city centre', '- 2.6km from city centre', '- 1.7km from city centre', '- 5km from city centre', '- 4.2km from city centre', '- 0.2km from city centre', '- 2.1km from city centre', '- 5.1km from city centre', '- 7.5km from city centre', '- 5.5km from city centre', '- 3.6km from city centre', '- 11.9km from city centre', '- 1.8km from city centre', '- 5.5km from city centre', '- 3.3km from city centre', '- 1.8km from city centre', '- 4.9km from city centre', '- 4.4km from city centre', '- 1.8km from city centre']\n"
     ]
    }
   ],
   "source": [
    "distance=[]\n",
    "dis=driver.find_elements(By.XPATH,'//span[@class=\"distance-description\"]')\n",
    "for x in dis:\n",
    "    distance.append(x.text)\n",
    "print(len(distance),distance)"
   ]
  },
  {
   "cell_type": "code",
   "execution_count": 129,
   "id": "46446dfa",
   "metadata": {},
   "outputs": [
    {
     "name": "stdout",
     "output_type": "stream",
     "text": [
      "32 ['8.2\\nFabulous', '8.8\\nFabulous', '9.0\\nSuperb', '8.2\\nFabulous', '9.6\\nSuperb', '9.5\\nSuperb', '8.8\\nFabulous', '7.5\\nVery Good', '7.1\\nVery Good', '8.2\\nFabulous', '8.3\\nFabulous', '6.9\\nGood', '8.4\\nFabulous', '8.0\\nFabulous', '7.5\\nVery Good', '9.1\\nSuperb', '7.6\\nVery Good', '7.1\\nVery Good', '8.3\\nFabulous', '9.0\\nSuperb', '8.8\\nFabulous', '7.6\\nVery Good', '9.0\\nSuperb', '8.1\\nFabulous', '8.0\\nFabulous', '7.1\\nVery Good', '7.7\\nVery Good', '8.3\\nFabulous', '7.8\\nVery Good', '8.7\\nFabulous', '8.1\\nFabulous', '8.1\\nFabulous']\n"
     ]
    }
   ],
   "source": [
    "ratings=[]\n",
    "rate=driver.find_elements(By.XPATH,'//div[@class=\"rating-score\"]')\n",
    "for x in rate:\n",
    "    ratings.append(x.text)\n",
    "print(len(ratings),ratings)"
   ]
  },
  {
   "cell_type": "code",
   "execution_count": 133,
   "id": "15e24c24",
   "metadata": {},
   "outputs": [
    {
     "name": "stdout",
     "output_type": "stream",
     "text": [
      "30 ['(15569)', '(12630)', '(2386)', '(1013)', '(15812)', '(7920)', '(5194)', '(12243)', '(2045)', '(1718)', '(9399)', '(448)', '(10144)', '(275)', '(6766)', '(4538)', '(4250)', '(4673)', '(77)', '(4340)', '(2009)', '(835)', '(4544)', '(15056)', '(1940)', '(2941)', '(3566)', '(6558)', '(3115)', '(787)']\n"
     ]
    }
   ],
   "source": [
    "reviews=[]\n",
    "review=driver.find_elements(By.XPATH,'//div[@class=\"review\"]')\n",
    "for x in review:\n",
    "    reviews.append(x.text)\n",
    "print(len(reviews),reviews)"
   ]
  },
  {
   "cell_type": "code",
   "execution_count": 134,
   "id": "21337084",
   "metadata": {},
   "outputs": [
    {
     "ename": "ValueError",
     "evalue": "Length of values (30) does not match length of index (32)",
     "output_type": "error",
     "traceback": [
      "\u001b[1;31m---------------------------------------------------------------------------\u001b[0m",
      "\u001b[1;31mValueError\u001b[0m                                Traceback (most recent call last)",
      "Cell \u001b[1;32mIn[134], line 3\u001b[0m\n\u001b[0;32m      1\u001b[0m df\u001b[38;5;241m=\u001b[39mpd\u001b[38;5;241m.\u001b[39mDataFrame()\n\u001b[0;32m      2\u001b[0m df[\u001b[38;5;124m'\u001b[39m\u001b[38;5;124mHostel_Name\u001b[39m\u001b[38;5;124m'\u001b[39m]\u001b[38;5;241m=\u001b[39mhotel_name\n\u001b[1;32m----> 3\u001b[0m df[\u001b[38;5;124m'\u001b[39m\u001b[38;5;124mdistance from city centre\u001b[39m\u001b[38;5;124m'\u001b[39m]\u001b[38;5;241m=\u001b[39mdistance\n\u001b[0;32m      4\u001b[0m df[\u001b[38;5;124m'\u001b[39m\u001b[38;5;124mRatings\u001b[39m\u001b[38;5;124m'\u001b[39m]\u001b[38;5;241m=\u001b[39mratings\n\u001b[0;32m      5\u001b[0m df[\u001b[38;5;124m'\u001b[39m\u001b[38;5;124mReviews\u001b[39m\u001b[38;5;124m'\u001b[39m]\u001b[38;5;241m=\u001b[39mreviews\n",
      "File \u001b[1;32m~\\anaconda3\\lib\\site-packages\\pandas\\core\\frame.py:3980\u001b[0m, in \u001b[0;36mDataFrame.__setitem__\u001b[1;34m(self, key, value)\u001b[0m\n\u001b[0;32m   3977\u001b[0m     \u001b[38;5;28mself\u001b[39m\u001b[38;5;241m.\u001b[39m_setitem_array([key], value)\n\u001b[0;32m   3978\u001b[0m \u001b[38;5;28;01melse\u001b[39;00m:\n\u001b[0;32m   3979\u001b[0m     \u001b[38;5;66;03m# set column\u001b[39;00m\n\u001b[1;32m-> 3980\u001b[0m     \u001b[38;5;28;43mself\u001b[39;49m\u001b[38;5;241;43m.\u001b[39;49m\u001b[43m_set_item\u001b[49m\u001b[43m(\u001b[49m\u001b[43mkey\u001b[49m\u001b[43m,\u001b[49m\u001b[43m \u001b[49m\u001b[43mvalue\u001b[49m\u001b[43m)\u001b[49m\n",
      "File \u001b[1;32m~\\anaconda3\\lib\\site-packages\\pandas\\core\\frame.py:4174\u001b[0m, in \u001b[0;36mDataFrame._set_item\u001b[1;34m(self, key, value)\u001b[0m\n\u001b[0;32m   4164\u001b[0m \u001b[38;5;28;01mdef\u001b[39;00m \u001b[38;5;21m_set_item\u001b[39m(\u001b[38;5;28mself\u001b[39m, key, value) \u001b[38;5;241m-\u001b[39m\u001b[38;5;241m>\u001b[39m \u001b[38;5;28;01mNone\u001b[39;00m:\n\u001b[0;32m   4165\u001b[0m     \u001b[38;5;124;03m\"\"\"\u001b[39;00m\n\u001b[0;32m   4166\u001b[0m \u001b[38;5;124;03m    Add series to DataFrame in specified column.\u001b[39;00m\n\u001b[0;32m   4167\u001b[0m \n\u001b[1;32m   (...)\u001b[0m\n\u001b[0;32m   4172\u001b[0m \u001b[38;5;124;03m    ensure homogeneity.\u001b[39;00m\n\u001b[0;32m   4173\u001b[0m \u001b[38;5;124;03m    \"\"\"\u001b[39;00m\n\u001b[1;32m-> 4174\u001b[0m     value \u001b[38;5;241m=\u001b[39m \u001b[38;5;28;43mself\u001b[39;49m\u001b[38;5;241;43m.\u001b[39;49m\u001b[43m_sanitize_column\u001b[49m\u001b[43m(\u001b[49m\u001b[43mvalue\u001b[49m\u001b[43m)\u001b[49m\n\u001b[0;32m   4176\u001b[0m     \u001b[38;5;28;01mif\u001b[39;00m (\n\u001b[0;32m   4177\u001b[0m         key \u001b[38;5;129;01min\u001b[39;00m \u001b[38;5;28mself\u001b[39m\u001b[38;5;241m.\u001b[39mcolumns\n\u001b[0;32m   4178\u001b[0m         \u001b[38;5;129;01mand\u001b[39;00m value\u001b[38;5;241m.\u001b[39mndim \u001b[38;5;241m==\u001b[39m \u001b[38;5;241m1\u001b[39m\n\u001b[0;32m   4179\u001b[0m         \u001b[38;5;129;01mand\u001b[39;00m \u001b[38;5;129;01mnot\u001b[39;00m is_extension_array_dtype(value)\n\u001b[0;32m   4180\u001b[0m     ):\n\u001b[0;32m   4181\u001b[0m         \u001b[38;5;66;03m# broadcast across multiple columns if necessary\u001b[39;00m\n\u001b[0;32m   4182\u001b[0m         \u001b[38;5;28;01mif\u001b[39;00m \u001b[38;5;129;01mnot\u001b[39;00m \u001b[38;5;28mself\u001b[39m\u001b[38;5;241m.\u001b[39mcolumns\u001b[38;5;241m.\u001b[39mis_unique \u001b[38;5;129;01mor\u001b[39;00m \u001b[38;5;28misinstance\u001b[39m(\u001b[38;5;28mself\u001b[39m\u001b[38;5;241m.\u001b[39mcolumns, MultiIndex):\n",
      "File \u001b[1;32m~\\anaconda3\\lib\\site-packages\\pandas\\core\\frame.py:4915\u001b[0m, in \u001b[0;36mDataFrame._sanitize_column\u001b[1;34m(self, value)\u001b[0m\n\u001b[0;32m   4912\u001b[0m     \u001b[38;5;28;01mreturn\u001b[39;00m _reindex_for_setitem(Series(value), \u001b[38;5;28mself\u001b[39m\u001b[38;5;241m.\u001b[39mindex)\n\u001b[0;32m   4914\u001b[0m \u001b[38;5;28;01mif\u001b[39;00m is_list_like(value):\n\u001b[1;32m-> 4915\u001b[0m     \u001b[43mcom\u001b[49m\u001b[38;5;241;43m.\u001b[39;49m\u001b[43mrequire_length_match\u001b[49m\u001b[43m(\u001b[49m\u001b[43mvalue\u001b[49m\u001b[43m,\u001b[49m\u001b[43m \u001b[49m\u001b[38;5;28;43mself\u001b[39;49m\u001b[38;5;241;43m.\u001b[39;49m\u001b[43mindex\u001b[49m\u001b[43m)\u001b[49m\n\u001b[0;32m   4916\u001b[0m \u001b[38;5;28;01mreturn\u001b[39;00m sanitize_array(value, \u001b[38;5;28mself\u001b[39m\u001b[38;5;241m.\u001b[39mindex, copy\u001b[38;5;241m=\u001b[39m\u001b[38;5;28;01mTrue\u001b[39;00m, allow_2d\u001b[38;5;241m=\u001b[39m\u001b[38;5;28;01mTrue\u001b[39;00m)\n",
      "File \u001b[1;32m~\\anaconda3\\lib\\site-packages\\pandas\\core\\common.py:571\u001b[0m, in \u001b[0;36mrequire_length_match\u001b[1;34m(data, index)\u001b[0m\n\u001b[0;32m    567\u001b[0m \u001b[38;5;124;03m\"\"\"\u001b[39;00m\n\u001b[0;32m    568\u001b[0m \u001b[38;5;124;03mCheck the length of data matches the length of the index.\u001b[39;00m\n\u001b[0;32m    569\u001b[0m \u001b[38;5;124;03m\"\"\"\u001b[39;00m\n\u001b[0;32m    570\u001b[0m \u001b[38;5;28;01mif\u001b[39;00m \u001b[38;5;28mlen\u001b[39m(data) \u001b[38;5;241m!=\u001b[39m \u001b[38;5;28mlen\u001b[39m(index):\n\u001b[1;32m--> 571\u001b[0m     \u001b[38;5;28;01mraise\u001b[39;00m \u001b[38;5;167;01mValueError\u001b[39;00m(\n\u001b[0;32m    572\u001b[0m         \u001b[38;5;124m\"\u001b[39m\u001b[38;5;124mLength of values \u001b[39m\u001b[38;5;124m\"\u001b[39m\n\u001b[0;32m    573\u001b[0m         \u001b[38;5;124mf\u001b[39m\u001b[38;5;124m\"\u001b[39m\u001b[38;5;124m(\u001b[39m\u001b[38;5;132;01m{\u001b[39;00m\u001b[38;5;28mlen\u001b[39m(data)\u001b[38;5;132;01m}\u001b[39;00m\u001b[38;5;124m) \u001b[39m\u001b[38;5;124m\"\u001b[39m\n\u001b[0;32m    574\u001b[0m         \u001b[38;5;124m\"\u001b[39m\u001b[38;5;124mdoes not match length of index \u001b[39m\u001b[38;5;124m\"\u001b[39m\n\u001b[0;32m    575\u001b[0m         \u001b[38;5;124mf\u001b[39m\u001b[38;5;124m\"\u001b[39m\u001b[38;5;124m(\u001b[39m\u001b[38;5;132;01m{\u001b[39;00m\u001b[38;5;28mlen\u001b[39m(index)\u001b[38;5;132;01m}\u001b[39;00m\u001b[38;5;124m)\u001b[39m\u001b[38;5;124m\"\u001b[39m\n\u001b[0;32m    576\u001b[0m     )\n",
      "\u001b[1;31mValueError\u001b[0m: Length of values (30) does not match length of index (32)"
     ]
    }
   ],
   "source": [
    "df=pd.DataFrame()\n",
    "df['Hostel_Name']=hotel_name\n",
    "df['distance from city centre']=distance\n",
    "df['Ratings']=ratings\n",
    "df['Reviews']=reviews"
   ]
  },
  {
   "cell_type": "code",
   "execution_count": null,
   "id": "e64d9c3a",
   "metadata": {},
   "outputs": [],
   "source": []
  }
 ],
 "metadata": {
  "kernelspec": {
   "display_name": "Python 3 (ipykernel)",
   "language": "python",
   "name": "python3"
  },
  "language_info": {
   "codemirror_mode": {
    "name": "ipython",
    "version": 3
   },
   "file_extension": ".py",
   "mimetype": "text/x-python",
   "name": "python",
   "nbconvert_exporter": "python",
   "pygments_lexer": "ipython3",
   "version": "3.10.9"
  }
 },
 "nbformat": 4,
 "nbformat_minor": 5
}
