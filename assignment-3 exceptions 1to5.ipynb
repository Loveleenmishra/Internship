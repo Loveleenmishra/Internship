{
 "cells": [
  {
   "cell_type": "code",
   "execution_count": 1,
   "id": "dd727f87",
   "metadata": {},
   "outputs": [
    {
     "name": "stdout",
     "output_type": "stream",
     "text": [
      "Collecting webdriver-manager\n",
      "  Downloading webdriver_manager-4.0.1-py2.py3-none-any.whl (27 kB)\n",
      "Requirement already satisfied: requests in c:\\users\\admin\\anaconda3\\lib\\site-packages (from webdriver-manager) (2.28.1)\n",
      "Requirement already satisfied: packaging in c:\\users\\admin\\anaconda3\\lib\\site-packages (from webdriver-manager) (22.0)\n",
      "Collecting python-dotenv\n",
      "  Downloading python_dotenv-1.0.0-py3-none-any.whl (19 kB)\n",
      "Requirement already satisfied: charset-normalizer<3,>=2 in c:\\users\\admin\\anaconda3\\lib\\site-packages (from requests->webdriver-manager) (2.0.4)\n",
      "Requirement already satisfied: idna<4,>=2.5 in c:\\users\\admin\\anaconda3\\lib\\site-packages (from requests->webdriver-manager) (3.4)\n",
      "Requirement already satisfied: certifi>=2017.4.17 in c:\\users\\admin\\anaconda3\\lib\\site-packages (from requests->webdriver-manager) (2022.12.7)\n",
      "Requirement already satisfied: urllib3<1.27,>=1.21.1 in c:\\users\\admin\\anaconda3\\lib\\site-packages (from requests->webdriver-manager) (1.26.14)\n",
      "Installing collected packages: python-dotenv, webdriver-manager\n",
      "Successfully installed python-dotenv-1.0.0 webdriver-manager-4.0.1\n",
      "Note: you may need to restart the kernel to use updated packages.\n"
     ]
    }
   ],
   "source": [
    "pip install webdriver-manager"
   ]
  },
  {
   "cell_type": "code",
   "execution_count": 2,
   "id": "88afd064",
   "metadata": {},
   "outputs": [
    {
     "name": "stdout",
     "output_type": "stream",
     "text": [
      "Requirement already satisfied: selectorlib in c:\\users\\admin\\anaconda3\\lib\\site-packages (0.16.0)\n",
      "Requirement already satisfied: Click>=6.0 in c:\\users\\admin\\anaconda3\\lib\\site-packages (from selectorlib) (8.0.4)\n",
      "Requirement already satisfied: pyyaml>=3.12 in c:\\users\\admin\\anaconda3\\lib\\site-packages (from selectorlib) (6.0)\n",
      "Requirement already satisfied: parsel>=1.5.1 in c:\\users\\admin\\anaconda3\\lib\\site-packages (from selectorlib) (1.6.0)\n",
      "Requirement already satisfied: colorama in c:\\users\\admin\\anaconda3\\lib\\site-packages (from Click>=6.0->selectorlib) (0.4.6)\n",
      "Requirement already satisfied: six>=1.6.0 in c:\\users\\admin\\anaconda3\\lib\\site-packages (from parsel>=1.5.1->selectorlib) (1.16.0)\n",
      "Requirement already satisfied: lxml in c:\\users\\admin\\anaconda3\\lib\\site-packages (from parsel>=1.5.1->selectorlib) (4.9.1)\n",
      "Requirement already satisfied: cssselect>=0.9 in c:\\users\\admin\\anaconda3\\lib\\site-packages (from parsel>=1.5.1->selectorlib) (1.1.0)\n",
      "Requirement already satisfied: w3lib>=1.19.0 in c:\\users\\admin\\anaconda3\\lib\\site-packages (from parsel>=1.5.1->selectorlib) (1.21.0)\n",
      "Note: you may need to restart the kernel to use updated packages.\n"
     ]
    }
   ],
   "source": [
    "pip install selectorlib"
   ]
  },
  {
   "cell_type": "markdown",
   "id": "3dbddf69",
   "metadata": {},
   "source": [
    "# 1. Write a python program which searches all the product under a particular product from www.amazon.in."
   ]
  },
  {
   "cell_type": "markdown",
   "id": "42522d56",
   "metadata": {},
   "source": [
    "# 2. In the above question, now scrape the following details of each product listed in first 3 pages of your"
   ]
  },
  {
   "cell_type": "code",
   "execution_count": 4,
   "id": "604f1a36",
   "metadata": {},
   "outputs": [],
   "source": [
    "#import needed libraries\n",
    "from selenium import webdriver\n",
    "import numpy as np\n",
    "import pandas as pd\n",
    "import time\n",
    "import warnings\n",
    "warnings.filterwarnings('ignore')\n",
    "\n",
    "from selenium.common.exceptions import NoSuchElementException"
   ]
  },
  {
   "cell_type": "code",
   "execution_count": 6,
   "id": "02c05711",
   "metadata": {},
   "outputs": [],
   "source": [
    "driver=webdriver.Chrome()"
   ]
  },
  {
   "cell_type": "code",
   "execution_count": 7,
   "id": "4bae650c",
   "metadata": {},
   "outputs": [],
   "source": [
    "driver.get('https://www.amazon.in/')"
   ]
  },
  {
   "cell_type": "code",
   "execution_count": 8,
   "id": "d7272672",
   "metadata": {},
   "outputs": [],
   "source": [
    "from selenium.webdriver.common.by import By"
   ]
  },
  {
   "cell_type": "code",
   "execution_count": 9,
   "id": "dae10d9f",
   "metadata": {},
   "outputs": [
    {
     "name": "stdout",
     "output_type": "stream",
     "text": [
      "Enter the Product:-guitar\n"
     ]
    }
   ],
   "source": [
    "#for job search bar\n",
    "search_for_job_role=driver.find_element(By.XPATH,'/html/body/div[1]/header/div/div[1]/div[2]/div/form/div[2]/div[1]/input')\n",
    "search_for_job_role.send_keys(input(\"Enter the Product:-\"))"
   ]
  },
  {
   "cell_type": "code",
   "execution_count": 10,
   "id": "4522fb09",
   "metadata": {},
   "outputs": [],
   "source": [
    "#for clicking search button\n",
    "search_button=driver.find_element(By.XPATH,'/html/body/div[1]/header/div/div[1]/div[2]/div/form/div[3]/div/span/input')\n",
    "search_button.click()\n",
    "time.sleep(5)\n",
    "driver.implicitly_wait(5)"
   ]
  },
  {
   "cell_type": "code",
   "execution_count": 11,
   "id": "d2f0ebec",
   "metadata": {},
   "outputs": [],
   "source": [
    "guitar_name1=[]\n",
    "try:\n",
    "    guitar_tag1=driver.find_elements(By.XPATH,'//span[@class=\"a-size-base-plus a-color-base a-text-normal\"]')\n",
    "except NoSuchElementException as e:\n",
    "    print('Type of Error:',e) \n",
    "for x in guitar_tag1:\n",
    "    guitar_name1.append(x.text)\n",
    "time.sleep(4)"
   ]
  },
  {
   "cell_type": "code",
   "execution_count": 13,
   "id": "95fe00b1",
   "metadata": {},
   "outputs": [],
   "source": [
    "guitar_price1=[]\n",
    "try:\n",
    "    guitar_tag1=driver.find_elements(By.XPATH,'//span[@class=\"a-price-whole\"]')\n",
    "except NoSuchElementException as e:\n",
    "    print('Type of Error:',e)\n",
    "for x in guitar_tag1:\n",
    "    guitar_price1.append(x.text)\n",
    "time.sleep(5)\n",
    "guitar_price1.insert(25,'-')\n",
    "time.sleep(5)\n",
    "guitar_price1.insert(51,'-')"
   ]
  },
  {
   "cell_type": "code",
   "execution_count": 15,
   "id": "562148d8",
   "metadata": {},
   "outputs": [],
   "source": [
    "guitar_delivery1=[]\n",
    "try:\n",
    "    guitar_tag1=driver.find_elements(By.XPATH,'//span[@class=\"a-color-secondary\"]')\n",
    "except NoSuchElementException as e:\n",
    "    print('Type of Error:',e)\n",
    "for x in guitar_tag1:\n",
    "    guitar_delivery1.append(x.text)\n",
    "time.sleep(5)\n",
    "guitar_delivery1.insert(20,'-')\n",
    "time.sleep(5)\n",
    "guitar_delivery1.insert(25,'-')\n",
    "time.sleep(5)\n",
    "guitar_delivery1.insert(51,'-')"
   ]
  },
  {
   "cell_type": "code",
   "execution_count": 17,
   "id": "de0ffadd",
   "metadata": {},
   "outputs": [],
   "source": [
    "next_page1=driver.find_element(By.XPATH,'/html/body/div[1]/div[1]/div[1]/div[1]/div/span[1]/div[1]/div[67]/div/div/span/a[3]')\n",
    "next_page1.click()\n"
   ]
  },
  {
   "cell_type": "code",
   "execution_count": 18,
   "id": "b3f72d51",
   "metadata": {},
   "outputs": [],
   "source": [
    "guitar_tag1=driver.find_elements(By.XPATH,'//span[@class=\"a-size-base-plus a-color-base a-text-normal\"]')\n",
    "for x in guitar_tag1:\n",
    "    guitar_name1.append(x.text)\n",
    "time.sleep(5)"
   ]
  },
  {
   "cell_type": "code",
   "execution_count": 33,
   "id": "98b1f46e",
   "metadata": {},
   "outputs": [],
   "source": [
    "guitar_tag1=driver.find_elements(By.XPATH,'/html/body/div[1]/div[1]/div[1]/div[1]/div/span[1]/div[1]/div[3]/div/div/div/div/div/div/div[2]/div[3]/div[2]/div[1]/a/span/span[2]/span[2]')\n",
    "for x in guitar_tag1:\n",
    "    guitar_price1.append(x.text)\n",
    "time.sleep(5)\n",
    "guitar_price1.insert(93,'-')"
   ]
  },
  {
   "cell_type": "code",
   "execution_count": 37,
   "id": "8e0011b7",
   "metadata": {},
   "outputs": [],
   "source": [
    "guitar_tag1=driver.find_elements(By.XPATH,'/html/body/div[1]/div[1]/div[1]/div[1]/div/span[1]/div[1]/div[3]/div/div/div/div/div/div/div[2]/div[4]/div/div[1]/span[2]/span[2]')\n",
    "for x in guitar_tag1:\n",
    "    guitar_delivery1.append(x.text)\n",
    "time.sleep(5)\n",
    "guitar_delivery1.insert(62,'-')\n",
    "time.sleep(5)\n",
    "guitar_delivery1.insert(79,'-')\n",
    "time.sleep(5)\n",
    "guitar_delivery1.insert(90,'-')\n",
    "time.sleep(5)\n",
    "guitar_delivery1.insert(93,'-')\n",
    "time.sleep(5)"
   ]
  },
  {
   "cell_type": "code",
   "execution_count": 38,
   "id": "b22f48e9",
   "metadata": {},
   "outputs": [
    {
     "name": "stdout",
     "output_type": "stream",
     "text": [
      "114 126 93\n"
     ]
    }
   ],
   "source": [
    "print(len(guitar_name1),len(guitar_price1),len(guitar_delivery1))"
   ]
  },
  {
   "cell_type": "code",
   "execution_count": 39,
   "id": "3595624a",
   "metadata": {},
   "outputs": [
    {
     "name": "stdout",
     "output_type": "stream",
     "text": [
      "60\n"
     ]
    }
   ],
   "source": [
    "guitar_name2=guitar_name1[0:60]\n",
    "print(len(guitar_name2))"
   ]
  },
  {
   "cell_type": "code",
   "execution_count": 40,
   "id": "95a5cecb",
   "metadata": {},
   "outputs": [
    {
     "name": "stdout",
     "output_type": "stream",
     "text": [
      "60\n"
     ]
    }
   ],
   "source": [
    "guitar_price2=guitar_price1[0:60]\n",
    "print(len(guitar_price2))"
   ]
  },
  {
   "cell_type": "code",
   "execution_count": 41,
   "id": "25f33e0c",
   "metadata": {},
   "outputs": [
    {
     "name": "stdout",
     "output_type": "stream",
     "text": [
      "93\n"
     ]
    }
   ],
   "source": [
    "print(len(guitar_delivery1))"
   ]
  },
  {
   "cell_type": "code",
   "execution_count": 43,
   "id": "c3e31200",
   "metadata": {},
   "outputs": [],
   "source": [
    "#create dataframe\n",
    "df=pd.DataFrame()\n",
    "df['Guitar Name']=guitar_name2\n",
    "df['Guitar Price']=guitar_price2\n"
   ]
  },
  {
   "cell_type": "code",
   "execution_count": 44,
   "id": "3309bbda",
   "metadata": {},
   "outputs": [
    {
     "data": {
      "text/html": [
       "<div>\n",
       "<style scoped>\n",
       "    .dataframe tbody tr th:only-of-type {\n",
       "        vertical-align: middle;\n",
       "    }\n",
       "\n",
       "    .dataframe tbody tr th {\n",
       "        vertical-align: top;\n",
       "    }\n",
       "\n",
       "    .dataframe thead th {\n",
       "        text-align: right;\n",
       "    }\n",
       "</style>\n",
       "<table border=\"1\" class=\"dataframe\">\n",
       "  <thead>\n",
       "    <tr style=\"text-align: right;\">\n",
       "      <th></th>\n",
       "      <th>Guitar Name</th>\n",
       "      <th>Guitar Price</th>\n",
       "    </tr>\n",
       "  </thead>\n",
       "  <tbody>\n",
       "    <tr>\n",
       "      <th>0</th>\n",
       "      <td>Henrix 38C PRO 38 Inch Cutaway Acoustic Guitar...</td>\n",
       "      <td>6,651</td>\n",
       "    </tr>\n",
       "    <tr>\n",
       "      <th>1</th>\n",
       "      <td>BLUEBERRY B-D38, Acoustic Guitar Kit Inbuilt T...</td>\n",
       "      <td>5,999</td>\n",
       "    </tr>\n",
       "    <tr>\n",
       "      <th>2</th>\n",
       "      <td>“ALL WOODEN” 38” INCH \"BOLT\" Guitar Combo Pack...</td>\n",
       "      <td>6,999</td>\n",
       "    </tr>\n",
       "    <tr>\n",
       "      <th>3</th>\n",
       "      <td>Festra 38C, Acoustic Guitar Kit with Bag, Stra...</td>\n",
       "      <td>3,405</td>\n",
       "    </tr>\n",
       "    <tr>\n",
       "      <th>4</th>\n",
       "      <td>Juârez Acoustic Guitar, 38 Inch Cutaway, 038C ...</td>\n",
       "      <td>2,515</td>\n",
       "    </tr>\n",
       "    <tr>\n",
       "      <th>5</th>\n",
       "      <td>Intern INT-38C Right hand Acoustic Guitar Kit,...</td>\n",
       "      <td>2,550</td>\n",
       "    </tr>\n",
       "    <tr>\n",
       "      <th>6</th>\n",
       "      <td>Juarez JRZ-ST01 38 Inches Wood 6-String Electr...</td>\n",
       "      <td>2,327</td>\n",
       "    </tr>\n",
       "    <tr>\n",
       "      <th>7</th>\n",
       "      <td>Juarez Lindenwood Acoustic Guitar Kit, 38 Inch...</td>\n",
       "      <td>1,899</td>\n",
       "    </tr>\n",
       "    <tr>\n",
       "      <th>8</th>\n",
       "      <td>Intern INT-38C Acoustic Guitar Kit (Blue)</td>\n",
       "      <td>1,929</td>\n",
       "    </tr>\n",
       "    <tr>\n",
       "      <th>9</th>\n",
       "      <td>Intern 38C Ebony Wood Cutaway Design Acoustic ...</td>\n",
       "      <td>5,299</td>\n",
       "    </tr>\n",
       "    <tr>\n",
       "      <th>10</th>\n",
       "      <td>Juarez Lindenwood Acoustic Guitar Kit, 38 Inch...</td>\n",
       "      <td>6,651</td>\n",
       "    </tr>\n",
       "    <tr>\n",
       "      <th>11</th>\n",
       "      <td>Juarez Acoustic Guitar, 38 Inch Cutaway, JRZ38...</td>\n",
       "      <td>1,899</td>\n",
       "    </tr>\n",
       "    <tr>\n",
       "      <th>12</th>\n",
       "      <td>Yamaha F280 Acoustic Rosewood Guitar (Natural,...</td>\n",
       "      <td>2,204</td>\n",
       "    </tr>\n",
       "    <tr>\n",
       "      <th>13</th>\n",
       "      <td>Intern INT-38C-BK-G Cutaway Right Handed Acous...</td>\n",
       "      <td>2,106</td>\n",
       "    </tr>\n",
       "    <tr>\n",
       "      <th>14</th>\n",
       "      <td>Yamaha 16 Incheses wood Acoustic Guitar F280 D...</td>\n",
       "      <td>1,899</td>\n",
       "    </tr>\n",
       "    <tr>\n",
       "      <th>15</th>\n",
       "      <td>Revel 38 Inches Lindenwood Cutaway Design Acou...</td>\n",
       "      <td>1,789</td>\n",
       "    </tr>\n",
       "    <tr>\n",
       "      <th>16</th>\n",
       "      <td>Juarez JRZ38C/3TSNA Acoustic Guitar, 38 Inch C...</td>\n",
       "      <td>7,499</td>\n",
       "    </tr>\n",
       "    <tr>\n",
       "      <th>17</th>\n",
       "      <td>Ibanez MD39C-NT Rose Wood Acoustic Guitar (Nat...</td>\n",
       "      <td>2,199</td>\n",
       "    </tr>\n",
       "    <tr>\n",
       "      <th>18</th>\n",
       "      <td>Juarez Acoustic Guitar, 38 Inch Cutaway, JRZ38...</td>\n",
       "      <td>8,790</td>\n",
       "    </tr>\n",
       "    <tr>\n",
       "      <th>19</th>\n",
       "      <td>JUAREZ JRZ38C 38 Inches Lindenwood Right Hande...</td>\n",
       "      <td>1,919</td>\n",
       "    </tr>\n",
       "    <tr>\n",
       "      <th>20</th>\n",
       "      <td>“ALL WOODEN \"BOLT” 38” INCH Guitar Combo Pack ...</td>\n",
       "      <td>1,789</td>\n",
       "    </tr>\n",
       "    <tr>\n",
       "      <th>21</th>\n",
       "      <td>“ALL WOODEN” 38” INCH \"BOLT\"Guitar Combo Pack ...</td>\n",
       "      <td>7,249</td>\n",
       "    </tr>\n",
       "    <tr>\n",
       "      <th>22</th>\n",
       "      <td>Henrix 38C 38 Inch Cutaway Acoustic Guitar Wit...</td>\n",
       "      <td>1,789</td>\n",
       "    </tr>\n",
       "    <tr>\n",
       "      <th>23</th>\n",
       "      <td>Intern INT-38C Acoustic Guitar Kit (Red)</td>\n",
       "      <td>2,634</td>\n",
       "    </tr>\n",
       "    <tr>\n",
       "      <th>24</th>\n",
       "      <td>Kadence Slowhand Premium Jumbo Semi Acoustic G...</td>\n",
       "      <td>2,550</td>\n",
       "    </tr>\n",
       "    <tr>\n",
       "      <th>25</th>\n",
       "      <td>INTERN 41 inches Acoustic Guitar with truss ro...</td>\n",
       "      <td>-</td>\n",
       "    </tr>\n",
       "    <tr>\n",
       "      <th>26</th>\n",
       "      <td>Intern Int-38c Sunburst Linden Wood Acoustic G...</td>\n",
       "      <td>2,550</td>\n",
       "    </tr>\n",
       "    <tr>\n",
       "      <th>27</th>\n",
       "      <td>Kadence Frontier Series, Acoustic Guitar With/...</td>\n",
       "      <td>2,799</td>\n",
       "    </tr>\n",
       "    <tr>\n",
       "      <th>28</th>\n",
       "      <td>Intern INT-38C-NT-G 38 Incheses lindenwood Rig...</td>\n",
       "      <td>2,249</td>\n",
       "    </tr>\n",
       "    <tr>\n",
       "      <th>29</th>\n",
       "      <td>Intern INT-38C Acoustic Guitar Kit (Purple)</td>\n",
       "      <td>7,999</td>\n",
       "    </tr>\n",
       "    <tr>\n",
       "      <th>30</th>\n",
       "      <td>JUAREZ Arpeggio 41 Inch Acoustic Guitar Kit, S...</td>\n",
       "      <td>3,949</td>\n",
       "    </tr>\n",
       "    <tr>\n",
       "      <th>31</th>\n",
       "      <td>BLUEBERRY B-D38, Acoustic Guitar Kit Inbuilt T...</td>\n",
       "      <td>2,260</td>\n",
       "    </tr>\n",
       "    <tr>\n",
       "      <th>32</th>\n",
       "      <td>Intern INT-38C Acoustic Guitar Kit (Natural)</td>\n",
       "      <td>4,799</td>\n",
       "    </tr>\n",
       "    <tr>\n",
       "      <th>33</th>\n",
       "      <td>Fender Squier 39 Inch 6 String Cutaway Acousti...</td>\n",
       "      <td>2,099</td>\n",
       "    </tr>\n",
       "    <tr>\n",
       "      <th>34</th>\n",
       "      <td>Intern INT-38C Natural Linden Wood Acoustic Gu...</td>\n",
       "      <td>2,249</td>\n",
       "    </tr>\n",
       "    <tr>\n",
       "      <th>35</th>\n",
       "      <td>Medellin 38\" Acoustic Guitar premium wood with...</td>\n",
       "      <td>5,415</td>\n",
       "    </tr>\n",
       "    <tr>\n",
       "      <th>36</th>\n",
       "      <td>INTERN Cutaway Design Acoustic Guitar Pack -Hu...</td>\n",
       "      <td>2,515</td>\n",
       "    </tr>\n",
       "    <tr>\n",
       "      <th>37</th>\n",
       "      <td>Fender Acoustic Guitar Dreadnought CD60 V3 Bla...</td>\n",
       "      <td>2,399</td>\n",
       "    </tr>\n",
       "    <tr>\n",
       "      <th>38</th>\n",
       "      <td>ORANGEWOOD GUITARS Rey-M Grand Auditorium Cuta...</td>\n",
       "      <td>7,448</td>\n",
       "    </tr>\n",
       "    <tr>\n",
       "      <th>39</th>\n",
       "      <td>Ibanez Electric Guitar series Gio GRG170DX-BKN</td>\n",
       "      <td>2,106</td>\n",
       "    </tr>\n",
       "    <tr>\n",
       "      <th>40</th>\n",
       "      <td>Intern INT-38C-VT-G 38 Incheses Cutaway Right ...</td>\n",
       "      <td>2,699</td>\n",
       "    </tr>\n",
       "    <tr>\n",
       "      <th>41</th>\n",
       "      <td>Juarez Lindenwood Acoustic Guitar, 38 Inches C...</td>\n",
       "      <td>2,799</td>\n",
       "    </tr>\n",
       "    <tr>\n",
       "      <th>42</th>\n",
       "      <td>Kadence BB01 Dreadnought Acoustic Guitar + (fr...</td>\n",
       "      <td>12,591</td>\n",
       "    </tr>\n",
       "    <tr>\n",
       "      <th>43</th>\n",
       "      <td>JUAREZ Arpeggio 99.06 cm (39 Inch) Semi-Acoust...</td>\n",
       "      <td>15,479</td>\n",
       "    </tr>\n",
       "    <tr>\n",
       "      <th>44</th>\n",
       "      <td>Juarez Acoustic Guitar, [ LEFT HANDED] 38 Inch...</td>\n",
       "      <td>24,101</td>\n",
       "    </tr>\n",
       "    <tr>\n",
       "      <th>45</th>\n",
       "      <td>Intern Int-38c Linden Wood Acoustic Guitar Kit...</td>\n",
       "      <td>2,399</td>\n",
       "    </tr>\n",
       "    <tr>\n",
       "      <th>46</th>\n",
       "      <td>Juârez JRZ38C/VTS 6 Strings Acoustic Guitar 38...</td>\n",
       "      <td>2,411</td>\n",
       "    </tr>\n",
       "    <tr>\n",
       "      <th>47</th>\n",
       "      <td>Intern INT-38C-SB-G Linden Wood Cutaway Right ...</td>\n",
       "      <td>3,999</td>\n",
       "    </tr>\n",
       "    <tr>\n",
       "      <th>48</th>\n",
       "      <td>Vault EA20 Guitar Kit with Learn to Play Ebook...</td>\n",
       "      <td>6,769</td>\n",
       "    </tr>\n",
       "    <tr>\n",
       "      <th>49</th>\n",
       "      <td>Fender Acoustic Guitar Dreadnought Cutaway Ele...</td>\n",
       "      <td>2,669</td>\n",
       "    </tr>\n",
       "    <tr>\n",
       "      <th>50</th>\n",
       "      <td>YAMAHA FS80C NATURAL CONCERT CUTAWAY GUITAR</td>\n",
       "      <td>1,999</td>\n",
       "    </tr>\n",
       "    <tr>\n",
       "      <th>51</th>\n",
       "      <td>Juârez JRZ38C/WH 6 Strings Acoustic Guitar 38 ...</td>\n",
       "      <td>-</td>\n",
       "    </tr>\n",
       "    <tr>\n",
       "      <th>52</th>\n",
       "      <td>Kadence rosewood Guitar Frontier Series, Elect...</td>\n",
       "      <td>2,759</td>\n",
       "    </tr>\n",
       "    <tr>\n",
       "      <th>53</th>\n",
       "      <td>YAMAHA FX280 Natural Electro Acoustic Guitar</td>\n",
       "      <td>2,351</td>\n",
       "    </tr>\n",
       "    <tr>\n",
       "      <th>54</th>\n",
       "      <td>Henrix 40C 40-Inch Cutaway Acoustic Guitar wit...</td>\n",
       "      <td>4,649</td>\n",
       "    </tr>\n",
       "    <tr>\n",
       "      <th>55</th>\n",
       "      <td>Minicreature- Miniature Electrical Guitar/Home...</td>\n",
       "      <td>17,727</td>\n",
       "    </tr>\n",
       "    <tr>\n",
       "      <th>56</th>\n",
       "      <td>Vault DA40 41 Inch Premium Solid Spruce-Top Dr...</td>\n",
       "      <td>8,350</td>\n",
       "    </tr>\n",
       "    <tr>\n",
       "      <th>57</th>\n",
       "      <td>BLUEBERRY VIP-380, Acoustic Guitar Kit With Ba...</td>\n",
       "      <td>2,659</td>\n",
       "    </tr>\n",
       "    <tr>\n",
       "      <th>58</th>\n",
       "      <td>Kadence Guitar Frontier Series, Blue Acoustic ...</td>\n",
       "      <td>4,275</td>\n",
       "    </tr>\n",
       "    <tr>\n",
       "      <th>59</th>\n",
       "      <td>Kadence A281BK Professional Acoustic Rosewood ...</td>\n",
       "      <td>10,949</td>\n",
       "    </tr>\n",
       "  </tbody>\n",
       "</table>\n",
       "</div>"
      ],
      "text/plain": [
       "                                          Guitar Name Guitar Price\n",
       "0   Henrix 38C PRO 38 Inch Cutaway Acoustic Guitar...        6,651\n",
       "1   BLUEBERRY B-D38, Acoustic Guitar Kit Inbuilt T...        5,999\n",
       "2   “ALL WOODEN” 38” INCH \"BOLT\" Guitar Combo Pack...        6,999\n",
       "3   Festra 38C, Acoustic Guitar Kit with Bag, Stra...        3,405\n",
       "4   Juârez Acoustic Guitar, 38 Inch Cutaway, 038C ...        2,515\n",
       "5   Intern INT-38C Right hand Acoustic Guitar Kit,...        2,550\n",
       "6   Juarez JRZ-ST01 38 Inches Wood 6-String Electr...        2,327\n",
       "7   Juarez Lindenwood Acoustic Guitar Kit, 38 Inch...        1,899\n",
       "8           Intern INT-38C Acoustic Guitar Kit (Blue)        1,929\n",
       "9   Intern 38C Ebony Wood Cutaway Design Acoustic ...        5,299\n",
       "10  Juarez Lindenwood Acoustic Guitar Kit, 38 Inch...        6,651\n",
       "11  Juarez Acoustic Guitar, 38 Inch Cutaway, JRZ38...        1,899\n",
       "12  Yamaha F280 Acoustic Rosewood Guitar (Natural,...        2,204\n",
       "13  Intern INT-38C-BK-G Cutaway Right Handed Acous...        2,106\n",
       "14  Yamaha 16 Incheses wood Acoustic Guitar F280 D...        1,899\n",
       "15  Revel 38 Inches Lindenwood Cutaway Design Acou...        1,789\n",
       "16  Juarez JRZ38C/3TSNA Acoustic Guitar, 38 Inch C...        7,499\n",
       "17  Ibanez MD39C-NT Rose Wood Acoustic Guitar (Nat...        2,199\n",
       "18  Juarez Acoustic Guitar, 38 Inch Cutaway, JRZ38...        8,790\n",
       "19  JUAREZ JRZ38C 38 Inches Lindenwood Right Hande...        1,919\n",
       "20  “ALL WOODEN \"BOLT” 38” INCH Guitar Combo Pack ...        1,789\n",
       "21  “ALL WOODEN” 38” INCH \"BOLT\"Guitar Combo Pack ...        7,249\n",
       "22  Henrix 38C 38 Inch Cutaway Acoustic Guitar Wit...        1,789\n",
       "23           Intern INT-38C Acoustic Guitar Kit (Red)        2,634\n",
       "24  Kadence Slowhand Premium Jumbo Semi Acoustic G...        2,550\n",
       "25  INTERN 41 inches Acoustic Guitar with truss ro...            -\n",
       "26  Intern Int-38c Sunburst Linden Wood Acoustic G...        2,550\n",
       "27  Kadence Frontier Series, Acoustic Guitar With/...        2,799\n",
       "28  Intern INT-38C-NT-G 38 Incheses lindenwood Rig...        2,249\n",
       "29        Intern INT-38C Acoustic Guitar Kit (Purple)        7,999\n",
       "30  JUAREZ Arpeggio 41 Inch Acoustic Guitar Kit, S...        3,949\n",
       "31  BLUEBERRY B-D38, Acoustic Guitar Kit Inbuilt T...        2,260\n",
       "32       Intern INT-38C Acoustic Guitar Kit (Natural)        4,799\n",
       "33  Fender Squier 39 Inch 6 String Cutaway Acousti...        2,099\n",
       "34  Intern INT-38C Natural Linden Wood Acoustic Gu...        2,249\n",
       "35  Medellin 38\" Acoustic Guitar premium wood with...        5,415\n",
       "36  INTERN Cutaway Design Acoustic Guitar Pack -Hu...        2,515\n",
       "37  Fender Acoustic Guitar Dreadnought CD60 V3 Bla...        2,399\n",
       "38  ORANGEWOOD GUITARS Rey-M Grand Auditorium Cuta...        7,448\n",
       "39     Ibanez Electric Guitar series Gio GRG170DX-BKN        2,106\n",
       "40  Intern INT-38C-VT-G 38 Incheses Cutaway Right ...        2,699\n",
       "41  Juarez Lindenwood Acoustic Guitar, 38 Inches C...        2,799\n",
       "42  Kadence BB01 Dreadnought Acoustic Guitar + (fr...       12,591\n",
       "43  JUAREZ Arpeggio 99.06 cm (39 Inch) Semi-Acoust...       15,479\n",
       "44  Juarez Acoustic Guitar, [ LEFT HANDED] 38 Inch...       24,101\n",
       "45  Intern Int-38c Linden Wood Acoustic Guitar Kit...        2,399\n",
       "46  Juârez JRZ38C/VTS 6 Strings Acoustic Guitar 38...        2,411\n",
       "47  Intern INT-38C-SB-G Linden Wood Cutaway Right ...        3,999\n",
       "48  Vault EA20 Guitar Kit with Learn to Play Ebook...        6,769\n",
       "49  Fender Acoustic Guitar Dreadnought Cutaway Ele...        2,669\n",
       "50        YAMAHA FS80C NATURAL CONCERT CUTAWAY GUITAR        1,999\n",
       "51  Juârez JRZ38C/WH 6 Strings Acoustic Guitar 38 ...            -\n",
       "52  Kadence rosewood Guitar Frontier Series, Elect...        2,759\n",
       "53       YAMAHA FX280 Natural Electro Acoustic Guitar        2,351\n",
       "54  Henrix 40C 40-Inch Cutaway Acoustic Guitar wit...        4,649\n",
       "55  Minicreature- Miniature Electrical Guitar/Home...       17,727\n",
       "56  Vault DA40 41 Inch Premium Solid Spruce-Top Dr...        8,350\n",
       "57  BLUEBERRY VIP-380, Acoustic Guitar Kit With Ba...        2,659\n",
       "58  Kadence Guitar Frontier Series, Blue Acoustic ...        4,275\n",
       "59  Kadence A281BK Professional Acoustic Rosewood ...       10,949"
      ]
     },
     "execution_count": 44,
     "metadata": {},
     "output_type": "execute_result"
    }
   ],
   "source": [
    "df"
   ]
  },
  {
   "cell_type": "markdown",
   "id": "ee4b557a",
   "metadata": {},
   "source": [
    "# 3. Write a python program to access the search bar and search button on images.google.com and scrape 10"
   ]
  },
  {
   "cell_type": "code",
   "execution_count": 45,
   "id": "908bc034",
   "metadata": {},
   "outputs": [],
   "source": [
    "import os\n",
    "import selenium\n",
    "from selenium import webdriver\n",
    "import time\n",
    "from PIL import Image\n",
    "import io\n",
    "import requests\n",
    "from webdriver_manager.chrome import ChromeDriverManager\n",
    "from selenium.common.exceptions import ElementClickInterceptedException"
   ]
  },
  {
   "cell_type": "code",
   "execution_count": 46,
   "id": "9080a14b",
   "metadata": {},
   "outputs": [],
   "source": [
    "from selenium.webdriver.common.keys import Keys"
   ]
  },
  {
   "cell_type": "code",
   "execution_count": 52,
   "id": "34e47c36",
   "metadata": {},
   "outputs": [
    {
     "ename": "AttributeError",
     "evalue": "'str' object has no attribute 'capabilities'",
     "output_type": "error",
     "traceback": [
      "\u001b[1;31m---------------------------------------------------------------------------\u001b[0m",
      "\u001b[1;31mAttributeError\u001b[0m                            Traceback (most recent call last)",
      "File \u001b[1;32m~\\anaconda3\\lib\\site-packages\\selenium\\webdriver\\common\\driver_finder.py:38\u001b[0m, in \u001b[0;36mDriverFinder.get_path\u001b[1;34m(service, options)\u001b[0m\n\u001b[0;32m     37\u001b[0m \u001b[38;5;28;01mtry\u001b[39;00m:\n\u001b[1;32m---> 38\u001b[0m     path \u001b[38;5;241m=\u001b[39m \u001b[43mSeleniumManager\u001b[49m\u001b[43m(\u001b[49m\u001b[43m)\u001b[49m\u001b[38;5;241;43m.\u001b[39;49m\u001b[43mdriver_location\u001b[49m\u001b[43m(\u001b[49m\u001b[43moptions\u001b[49m\u001b[43m)\u001b[49m \u001b[38;5;28;01mif\u001b[39;00m path \u001b[38;5;129;01mis\u001b[39;00m \u001b[38;5;28;01mNone\u001b[39;00m \u001b[38;5;28;01melse\u001b[39;00m path\n\u001b[0;32m     39\u001b[0m \u001b[38;5;28;01mexcept\u001b[39;00m \u001b[38;5;167;01mException\u001b[39;00m \u001b[38;5;28;01mas\u001b[39;00m err:\n",
      "File \u001b[1;32m~\\anaconda3\\lib\\site-packages\\selenium\\webdriver\\common\\selenium_manager.py:75\u001b[0m, in \u001b[0;36mSeleniumManager.driver_location\u001b[1;34m(self, options)\u001b[0m\n\u001b[0;32m     68\u001b[0m \u001b[38;5;124;03m\"\"\"Determines the path of the correct driver.\u001b[39;00m\n\u001b[0;32m     69\u001b[0m \n\u001b[0;32m     70\u001b[0m \u001b[38;5;124;03m:Args:\u001b[39;00m\n\u001b[0;32m     71\u001b[0m \u001b[38;5;124;03m - browser: which browser to get the driver path for.\u001b[39;00m\n\u001b[0;32m     72\u001b[0m \u001b[38;5;124;03m:Returns: The driver path to use\u001b[39;00m\n\u001b[0;32m     73\u001b[0m \u001b[38;5;124;03m\"\"\"\u001b[39;00m\n\u001b[1;32m---> 75\u001b[0m browser \u001b[38;5;241m=\u001b[39m \u001b[43moptions\u001b[49m\u001b[38;5;241;43m.\u001b[39;49m\u001b[43mcapabilities\u001b[49m[\u001b[38;5;124m\"\u001b[39m\u001b[38;5;124mbrowserName\u001b[39m\u001b[38;5;124m\"\u001b[39m]\n\u001b[0;32m     77\u001b[0m args \u001b[38;5;241m=\u001b[39m [\u001b[38;5;28mstr\u001b[39m(\u001b[38;5;28mself\u001b[39m\u001b[38;5;241m.\u001b[39mget_binary()), \u001b[38;5;124m\"\u001b[39m\u001b[38;5;124m--browser\u001b[39m\u001b[38;5;124m\"\u001b[39m, browser]\n",
      "\u001b[1;31mAttributeError\u001b[0m: 'str' object has no attribute 'capabilities'",
      "\nDuring handling of the above exception, another exception occurred:\n",
      "\u001b[1;31mAttributeError\u001b[0m                            Traceback (most recent call last)",
      "Cell \u001b[1;32mIn[52], line 2\u001b[0m\n\u001b[0;32m      1\u001b[0m \u001b[38;5;66;03m#Open Driver\u001b[39;00m\n\u001b[1;32m----> 2\u001b[0m driver\u001b[38;5;241m=\u001b[39m\u001b[43mwebdriver\u001b[49m\u001b[38;5;241;43m.\u001b[39;49m\u001b[43mChrome\u001b[49m\u001b[43m(\u001b[49m\u001b[38;5;124;43mr\u001b[39;49m\u001b[38;5;124;43m\"\u001b[39;49m\u001b[38;5;124;43mC:\u001b[39;49m\u001b[38;5;124;43m\\\u001b[39;49m\u001b[38;5;124;43mUsers\u001b[39;49m\u001b[38;5;124;43m\\\u001b[39;49m\u001b[38;5;124;43mprinc\u001b[39;49m\u001b[38;5;124;43m\\\u001b[39;49m\u001b[38;5;124;43mDownloads\u001b[39;49m\u001b[38;5;124;43m\\\u001b[39;49m\u001b[38;5;124;43mchromedriver_win32 (3)\u001b[39;49m\u001b[38;5;124;43m\\\u001b[39;49m\u001b[38;5;124;43mchromedriver.exe\u001b[39;49m\u001b[38;5;124;43m\"\u001b[39;49m\u001b[43m)\u001b[49m\n\u001b[0;32m      3\u001b[0m \u001b[38;5;66;03m#open driver with url\u001b[39;00m\n\u001b[0;32m      4\u001b[0m driver\u001b[38;5;241m.\u001b[39mget(\u001b[38;5;124m'\u001b[39m\u001b[38;5;124mhttps://images.google.com/\u001b[39m\u001b[38;5;124m'\u001b[39m)\n",
      "File \u001b[1;32m~\\anaconda3\\lib\\site-packages\\selenium\\webdriver\\chrome\\webdriver.py:45\u001b[0m, in \u001b[0;36mWebDriver.__init__\u001b[1;34m(self, options, service, keep_alive)\u001b[0m\n\u001b[0;32m     42\u001b[0m service \u001b[38;5;241m=\u001b[39m service \u001b[38;5;28;01mif\u001b[39;00m service \u001b[38;5;28;01melse\u001b[39;00m Service()\n\u001b[0;32m     43\u001b[0m options \u001b[38;5;241m=\u001b[39m options \u001b[38;5;28;01mif\u001b[39;00m options \u001b[38;5;28;01melse\u001b[39;00m Options()\n\u001b[1;32m---> 45\u001b[0m \u001b[38;5;28;43msuper\u001b[39;49m\u001b[43m(\u001b[49m\u001b[43m)\u001b[49m\u001b[38;5;241;43m.\u001b[39;49m\u001b[38;5;21;43m__init__\u001b[39;49m\u001b[43m(\u001b[49m\n\u001b[0;32m     46\u001b[0m \u001b[43m    \u001b[49m\u001b[43mDesiredCapabilities\u001b[49m\u001b[38;5;241;43m.\u001b[39;49m\u001b[43mCHROME\u001b[49m\u001b[43m[\u001b[49m\u001b[38;5;124;43m\"\u001b[39;49m\u001b[38;5;124;43mbrowserName\u001b[39;49m\u001b[38;5;124;43m\"\u001b[39;49m\u001b[43m]\u001b[49m\u001b[43m,\u001b[49m\n\u001b[0;32m     47\u001b[0m \u001b[43m    \u001b[49m\u001b[38;5;124;43m\"\u001b[39;49m\u001b[38;5;124;43mgoog\u001b[39;49m\u001b[38;5;124;43m\"\u001b[39;49m\u001b[43m,\u001b[49m\n\u001b[0;32m     48\u001b[0m \u001b[43m    \u001b[49m\u001b[43moptions\u001b[49m\u001b[43m,\u001b[49m\n\u001b[0;32m     49\u001b[0m \u001b[43m    \u001b[49m\u001b[43mservice\u001b[49m\u001b[43m,\u001b[49m\n\u001b[0;32m     50\u001b[0m \u001b[43m    \u001b[49m\u001b[43mkeep_alive\u001b[49m\u001b[43m,\u001b[49m\n\u001b[0;32m     51\u001b[0m \u001b[43m\u001b[49m\u001b[43m)\u001b[49m\n",
      "File \u001b[1;32m~\\anaconda3\\lib\\site-packages\\selenium\\webdriver\\chromium\\webdriver.py:51\u001b[0m, in \u001b[0;36mChromiumDriver.__init__\u001b[1;34m(self, browser_name, vendor_prefix, options, service, keep_alive)\u001b[0m\n\u001b[0;32m     47\u001b[0m \u001b[38;5;28mself\u001b[39m\u001b[38;5;241m.\u001b[39mvendor_prefix \u001b[38;5;241m=\u001b[39m vendor_prefix\n\u001b[0;32m     49\u001b[0m \u001b[38;5;28mself\u001b[39m\u001b[38;5;241m.\u001b[39mservice \u001b[38;5;241m=\u001b[39m service\n\u001b[1;32m---> 51\u001b[0m \u001b[38;5;28mself\u001b[39m\u001b[38;5;241m.\u001b[39mservice\u001b[38;5;241m.\u001b[39mpath \u001b[38;5;241m=\u001b[39m \u001b[43mDriverFinder\u001b[49m\u001b[38;5;241;43m.\u001b[39;49m\u001b[43mget_path\u001b[49m\u001b[43m(\u001b[49m\u001b[38;5;28;43mself\u001b[39;49m\u001b[38;5;241;43m.\u001b[39;49m\u001b[43mservice\u001b[49m\u001b[43m,\u001b[49m\u001b[43m \u001b[49m\u001b[43moptions\u001b[49m\u001b[43m)\u001b[49m\n\u001b[0;32m     53\u001b[0m \u001b[38;5;28mself\u001b[39m\u001b[38;5;241m.\u001b[39mservice\u001b[38;5;241m.\u001b[39mstart()\n\u001b[0;32m     55\u001b[0m \u001b[38;5;28;01mtry\u001b[39;00m:\n",
      "File \u001b[1;32m~\\anaconda3\\lib\\site-packages\\selenium\\webdriver\\common\\driver_finder.py:40\u001b[0m, in \u001b[0;36mDriverFinder.get_path\u001b[1;34m(service, options)\u001b[0m\n\u001b[0;32m     38\u001b[0m     path \u001b[38;5;241m=\u001b[39m SeleniumManager()\u001b[38;5;241m.\u001b[39mdriver_location(options) \u001b[38;5;28;01mif\u001b[39;00m path \u001b[38;5;129;01mis\u001b[39;00m \u001b[38;5;28;01mNone\u001b[39;00m \u001b[38;5;28;01melse\u001b[39;00m path\n\u001b[0;32m     39\u001b[0m \u001b[38;5;28;01mexcept\u001b[39;00m \u001b[38;5;167;01mException\u001b[39;00m \u001b[38;5;28;01mas\u001b[39;00m err:\n\u001b[1;32m---> 40\u001b[0m     msg \u001b[38;5;241m=\u001b[39m \u001b[38;5;124mf\u001b[39m\u001b[38;5;124m\"\u001b[39m\u001b[38;5;124mUnable to obtain driver for \u001b[39m\u001b[38;5;132;01m{\u001b[39;00moptions\u001b[38;5;241m.\u001b[39mcapabilities[\u001b[38;5;124m'\u001b[39m\u001b[38;5;124mbrowserName\u001b[39m\u001b[38;5;124m'\u001b[39m]\u001b[38;5;132;01m}\u001b[39;00m\u001b[38;5;124m using Selenium Manager.\u001b[39m\u001b[38;5;124m\"\u001b[39m\n\u001b[0;32m     41\u001b[0m     \u001b[38;5;28;01mraise\u001b[39;00m NoSuchDriverException(msg) \u001b[38;5;28;01mfrom\u001b[39;00m \u001b[38;5;21;01merr\u001b[39;00m\n\u001b[0;32m     43\u001b[0m \u001b[38;5;28;01mif\u001b[39;00m path \u001b[38;5;129;01mis\u001b[39;00m \u001b[38;5;28;01mNone\u001b[39;00m \u001b[38;5;129;01mor\u001b[39;00m \u001b[38;5;129;01mnot\u001b[39;00m Path(path)\u001b[38;5;241m.\u001b[39mis_file():\n",
      "\u001b[1;31mAttributeError\u001b[0m: 'str' object has no attribute 'capabilities'"
     ]
    }
   ],
   "source": [
    "#Open Driver\n",
    "driver=webdriver.Chrome(r\"C:\\Users\\princ\\Downloads\\chromedriver_win32 (3)\\chromedriver.exe\")\n",
    "#open driver with url\n",
    "driver.get('https://images.google.com/')\n",
    "\n",
    "time.sleep(5)\n",
    "# get web element for search button\n",
    "search_wbe=driver.find_element(By.XPATH,\"/html/body/div[1]/div[3]/form/div[1]/div[1]/div[1]/div/div[2]/input\")\n",
    "#enter text into search bar\n",
    "search_wbe.send_keys('fruits',Keys.ENTER)\n",
    "# give time to load the images page\n",
    "time.sleep(5)\n",
    "# get webelement for 1st image\n",
    "first_image_wbe=driver.find_element(By.XPATH,\"//div[@class='bRMDJf islir']//following::img\")\n",
    "# get web element for 'more results' buttom\n",
    "more_btn=driver.find_element(By.XPATH,\"//div[@class='qvfT1']\")\n",
    "# scroll to 'more results' button\n",
    "for i in range(5):\n",
    "    driver.execute_script(\"arguments[0].scrollIntoView(true);\",more_btn)\n",
    "    time.sleep(10)\n",
    "# get to the top of page\n",
    "driver.execute_script(\"arguments[0].scrollIntoView(true);\",first_image_wbe)\n",
    "# initiate list before using it\n",
    "images=[]\n",
    "images.clear()\n",
    "# get webelemnts for images on the page\n",
    "images = driver.find_elements(By.XPATH,\"//div[@class='bRMDJf islir']//following::img\")\n",
    "# loop for 100 webelements\n",
    "for i in range(100):\n",
    "    images[i].screenshot('F:/fruit_pics/fruits_'+str(i)+'.png')"
   ]
  },
  {
   "cell_type": "code",
   "execution_count": 53,
   "id": "ae609fbb",
   "metadata": {},
   "outputs": [
    {
     "ename": "SyntaxError",
     "evalue": "invalid syntax (2675371738.py, line 1)",
     "output_type": "error",
     "traceback": [
      "\u001b[1;36m  Cell \u001b[1;32mIn[53], line 1\u001b[1;36m\u001b[0m\n\u001b[1;33m    Open Driver\u001b[0m\n\u001b[1;37m         ^\u001b[0m\n\u001b[1;31mSyntaxError\u001b[0m\u001b[1;31m:\u001b[0m invalid syntax\n"
     ]
    }
   ],
   "source": [
    "Open Driver\n",
    "driver=webdriver.Chrome(r\"C:\\Users\\princ\\Downloads\\chromedriver_win32 (3)\\chromedriver.exe\")\n",
    "#open driver with url\n",
    "driver.get('https://images.google.com/')\n",
    "\n",
    "time.sleep(5)\n",
    "# get web element for search button\n",
    "search_wbe=driver.find_element(By.XPATH,\"/html/body/div[1]/div[3]/form/div[1]/div[1]/div[1]/div/div[2]/input\")\n",
    "#enter text into search bar\n",
    "search_wbe.send_keys('fruits',Keys.ENTER)\n",
    "# give time to load the images page\n",
    "time.sleep(5)\n",
    "# get webelement for 1st image\n",
    "first_image_wbe=driver.find_element(By.XPATH,\"//div[@class='bRMDJf islir']//following::img\")\n",
    "# get web element for 'more results' buttom\n",
    "more_btn=driver.find_element(By.XPATH,\"//div[@class='qvfT1']\")\n",
    "# scroll to 'more results' button\n",
    "for i in range(5):\n",
    "    driver.execute_script(\"arguments[0].scrollIntoView(true);\",more_btn)\n",
    "    time.sleep(10)\n",
    "# get to the top of page\n",
    "driver.execute_script(\"arguments[0].scrollIntoView(true);\",first_image_wbe)\n",
    "# initiate list before using it\n",
    "images=[]\n",
    "images.clear()\n",
    "# get webelemnts for images on the page\n",
    "images = driver.find_elements(By.XPATH,\"//div[@class='bRMDJf islir']//following::img\")\n",
    "# loop for 100 webelements\n",
    "for i in range(100):\n",
    "    images[i].screenshot('F:/fruit_pics/fruits_'+str(i)+'.png')"
   ]
  },
  {
   "cell_type": "code",
   "execution_count": 54,
   "id": "e382626e",
   "metadata": {},
   "outputs": [
    {
     "ename": "AttributeError",
     "evalue": "'str' object has no attribute 'capabilities'",
     "output_type": "error",
     "traceback": [
      "\u001b[1;31m---------------------------------------------------------------------------\u001b[0m",
      "\u001b[1;31mAttributeError\u001b[0m                            Traceback (most recent call last)",
      "File \u001b[1;32m~\\anaconda3\\lib\\site-packages\\selenium\\webdriver\\common\\driver_finder.py:38\u001b[0m, in \u001b[0;36mDriverFinder.get_path\u001b[1;34m(service, options)\u001b[0m\n\u001b[0;32m     37\u001b[0m \u001b[38;5;28;01mtry\u001b[39;00m:\n\u001b[1;32m---> 38\u001b[0m     path \u001b[38;5;241m=\u001b[39m \u001b[43mSeleniumManager\u001b[49m\u001b[43m(\u001b[49m\u001b[43m)\u001b[49m\u001b[38;5;241;43m.\u001b[39;49m\u001b[43mdriver_location\u001b[49m\u001b[43m(\u001b[49m\u001b[43moptions\u001b[49m\u001b[43m)\u001b[49m \u001b[38;5;28;01mif\u001b[39;00m path \u001b[38;5;129;01mis\u001b[39;00m \u001b[38;5;28;01mNone\u001b[39;00m \u001b[38;5;28;01melse\u001b[39;00m path\n\u001b[0;32m     39\u001b[0m \u001b[38;5;28;01mexcept\u001b[39;00m \u001b[38;5;167;01mException\u001b[39;00m \u001b[38;5;28;01mas\u001b[39;00m err:\n",
      "File \u001b[1;32m~\\anaconda3\\lib\\site-packages\\selenium\\webdriver\\common\\selenium_manager.py:75\u001b[0m, in \u001b[0;36mSeleniumManager.driver_location\u001b[1;34m(self, options)\u001b[0m\n\u001b[0;32m     68\u001b[0m \u001b[38;5;124;03m\"\"\"Determines the path of the correct driver.\u001b[39;00m\n\u001b[0;32m     69\u001b[0m \n\u001b[0;32m     70\u001b[0m \u001b[38;5;124;03m:Args:\u001b[39;00m\n\u001b[0;32m     71\u001b[0m \u001b[38;5;124;03m - browser: which browser to get the driver path for.\u001b[39;00m\n\u001b[0;32m     72\u001b[0m \u001b[38;5;124;03m:Returns: The driver path to use\u001b[39;00m\n\u001b[0;32m     73\u001b[0m \u001b[38;5;124;03m\"\"\"\u001b[39;00m\n\u001b[1;32m---> 75\u001b[0m browser \u001b[38;5;241m=\u001b[39m \u001b[43moptions\u001b[49m\u001b[38;5;241;43m.\u001b[39;49m\u001b[43mcapabilities\u001b[49m[\u001b[38;5;124m\"\u001b[39m\u001b[38;5;124mbrowserName\u001b[39m\u001b[38;5;124m\"\u001b[39m]\n\u001b[0;32m     77\u001b[0m args \u001b[38;5;241m=\u001b[39m [\u001b[38;5;28mstr\u001b[39m(\u001b[38;5;28mself\u001b[39m\u001b[38;5;241m.\u001b[39mget_binary()), \u001b[38;5;124m\"\u001b[39m\u001b[38;5;124m--browser\u001b[39m\u001b[38;5;124m\"\u001b[39m, browser]\n",
      "\u001b[1;31mAttributeError\u001b[0m: 'str' object has no attribute 'capabilities'",
      "\nDuring handling of the above exception, another exception occurred:\n",
      "\u001b[1;31mAttributeError\u001b[0m                            Traceback (most recent call last)",
      "Cell \u001b[1;32mIn[54], line 2\u001b[0m\n\u001b[0;32m      1\u001b[0m \u001b[38;5;66;03m#Open Driver\u001b[39;00m\n\u001b[1;32m----> 2\u001b[0m driver\u001b[38;5;241m=\u001b[39m\u001b[43mwebdriver\u001b[49m\u001b[38;5;241;43m.\u001b[39;49m\u001b[43mChrome\u001b[49m\u001b[43m(\u001b[49m\u001b[38;5;124;43mr\u001b[39;49m\u001b[38;5;124;43m\"\u001b[39;49m\u001b[38;5;124;43mC:\u001b[39;49m\u001b[38;5;124;43m\\\u001b[39;49m\u001b[38;5;124;43mUsers\u001b[39;49m\u001b[38;5;124;43m\\\u001b[39;49m\u001b[38;5;124;43mprinc\u001b[39;49m\u001b[38;5;124;43m\\\u001b[39;49m\u001b[38;5;124;43mDownloads\u001b[39;49m\u001b[38;5;124;43m\\\u001b[39;49m\u001b[38;5;124;43mchromedriver_win32 (3)\u001b[39;49m\u001b[38;5;124;43m\\\u001b[39;49m\u001b[38;5;124;43mchromedriver.exe\u001b[39;49m\u001b[38;5;124;43m\"\u001b[39;49m\u001b[43m)\u001b[49m\n\u001b[0;32m      3\u001b[0m \u001b[38;5;66;03m#open driver with url\u001b[39;00m\n\u001b[0;32m      4\u001b[0m driver\u001b[38;5;241m.\u001b[39mget(\u001b[38;5;124m'\u001b[39m\u001b[38;5;124mhttps://images.google.com/\u001b[39m\u001b[38;5;124m'\u001b[39m)\n",
      "File \u001b[1;32m~\\anaconda3\\lib\\site-packages\\selenium\\webdriver\\chrome\\webdriver.py:45\u001b[0m, in \u001b[0;36mWebDriver.__init__\u001b[1;34m(self, options, service, keep_alive)\u001b[0m\n\u001b[0;32m     42\u001b[0m service \u001b[38;5;241m=\u001b[39m service \u001b[38;5;28;01mif\u001b[39;00m service \u001b[38;5;28;01melse\u001b[39;00m Service()\n\u001b[0;32m     43\u001b[0m options \u001b[38;5;241m=\u001b[39m options \u001b[38;5;28;01mif\u001b[39;00m options \u001b[38;5;28;01melse\u001b[39;00m Options()\n\u001b[1;32m---> 45\u001b[0m \u001b[38;5;28;43msuper\u001b[39;49m\u001b[43m(\u001b[49m\u001b[43m)\u001b[49m\u001b[38;5;241;43m.\u001b[39;49m\u001b[38;5;21;43m__init__\u001b[39;49m\u001b[43m(\u001b[49m\n\u001b[0;32m     46\u001b[0m \u001b[43m    \u001b[49m\u001b[43mDesiredCapabilities\u001b[49m\u001b[38;5;241;43m.\u001b[39;49m\u001b[43mCHROME\u001b[49m\u001b[43m[\u001b[49m\u001b[38;5;124;43m\"\u001b[39;49m\u001b[38;5;124;43mbrowserName\u001b[39;49m\u001b[38;5;124;43m\"\u001b[39;49m\u001b[43m]\u001b[49m\u001b[43m,\u001b[49m\n\u001b[0;32m     47\u001b[0m \u001b[43m    \u001b[49m\u001b[38;5;124;43m\"\u001b[39;49m\u001b[38;5;124;43mgoog\u001b[39;49m\u001b[38;5;124;43m\"\u001b[39;49m\u001b[43m,\u001b[49m\n\u001b[0;32m     48\u001b[0m \u001b[43m    \u001b[49m\u001b[43moptions\u001b[49m\u001b[43m,\u001b[49m\n\u001b[0;32m     49\u001b[0m \u001b[43m    \u001b[49m\u001b[43mservice\u001b[49m\u001b[43m,\u001b[49m\n\u001b[0;32m     50\u001b[0m \u001b[43m    \u001b[49m\u001b[43mkeep_alive\u001b[49m\u001b[43m,\u001b[49m\n\u001b[0;32m     51\u001b[0m \u001b[43m\u001b[49m\u001b[43m)\u001b[49m\n",
      "File \u001b[1;32m~\\anaconda3\\lib\\site-packages\\selenium\\webdriver\\chromium\\webdriver.py:51\u001b[0m, in \u001b[0;36mChromiumDriver.__init__\u001b[1;34m(self, browser_name, vendor_prefix, options, service, keep_alive)\u001b[0m\n\u001b[0;32m     47\u001b[0m \u001b[38;5;28mself\u001b[39m\u001b[38;5;241m.\u001b[39mvendor_prefix \u001b[38;5;241m=\u001b[39m vendor_prefix\n\u001b[0;32m     49\u001b[0m \u001b[38;5;28mself\u001b[39m\u001b[38;5;241m.\u001b[39mservice \u001b[38;5;241m=\u001b[39m service\n\u001b[1;32m---> 51\u001b[0m \u001b[38;5;28mself\u001b[39m\u001b[38;5;241m.\u001b[39mservice\u001b[38;5;241m.\u001b[39mpath \u001b[38;5;241m=\u001b[39m \u001b[43mDriverFinder\u001b[49m\u001b[38;5;241;43m.\u001b[39;49m\u001b[43mget_path\u001b[49m\u001b[43m(\u001b[49m\u001b[38;5;28;43mself\u001b[39;49m\u001b[38;5;241;43m.\u001b[39;49m\u001b[43mservice\u001b[49m\u001b[43m,\u001b[49m\u001b[43m \u001b[49m\u001b[43moptions\u001b[49m\u001b[43m)\u001b[49m\n\u001b[0;32m     53\u001b[0m \u001b[38;5;28mself\u001b[39m\u001b[38;5;241m.\u001b[39mservice\u001b[38;5;241m.\u001b[39mstart()\n\u001b[0;32m     55\u001b[0m \u001b[38;5;28;01mtry\u001b[39;00m:\n",
      "File \u001b[1;32m~\\anaconda3\\lib\\site-packages\\selenium\\webdriver\\common\\driver_finder.py:40\u001b[0m, in \u001b[0;36mDriverFinder.get_path\u001b[1;34m(service, options)\u001b[0m\n\u001b[0;32m     38\u001b[0m     path \u001b[38;5;241m=\u001b[39m SeleniumManager()\u001b[38;5;241m.\u001b[39mdriver_location(options) \u001b[38;5;28;01mif\u001b[39;00m path \u001b[38;5;129;01mis\u001b[39;00m \u001b[38;5;28;01mNone\u001b[39;00m \u001b[38;5;28;01melse\u001b[39;00m path\n\u001b[0;32m     39\u001b[0m \u001b[38;5;28;01mexcept\u001b[39;00m \u001b[38;5;167;01mException\u001b[39;00m \u001b[38;5;28;01mas\u001b[39;00m err:\n\u001b[1;32m---> 40\u001b[0m     msg \u001b[38;5;241m=\u001b[39m \u001b[38;5;124mf\u001b[39m\u001b[38;5;124m\"\u001b[39m\u001b[38;5;124mUnable to obtain driver for \u001b[39m\u001b[38;5;132;01m{\u001b[39;00moptions\u001b[38;5;241m.\u001b[39mcapabilities[\u001b[38;5;124m'\u001b[39m\u001b[38;5;124mbrowserName\u001b[39m\u001b[38;5;124m'\u001b[39m]\u001b[38;5;132;01m}\u001b[39;00m\u001b[38;5;124m using Selenium Manager.\u001b[39m\u001b[38;5;124m\"\u001b[39m\n\u001b[0;32m     41\u001b[0m     \u001b[38;5;28;01mraise\u001b[39;00m NoSuchDriverException(msg) \u001b[38;5;28;01mfrom\u001b[39;00m \u001b[38;5;21;01merr\u001b[39;00m\n\u001b[0;32m     43\u001b[0m \u001b[38;5;28;01mif\u001b[39;00m path \u001b[38;5;129;01mis\u001b[39;00m \u001b[38;5;28;01mNone\u001b[39;00m \u001b[38;5;129;01mor\u001b[39;00m \u001b[38;5;129;01mnot\u001b[39;00m Path(path)\u001b[38;5;241m.\u001b[39mis_file():\n",
      "\u001b[1;31mAttributeError\u001b[0m: 'str' object has no attribute 'capabilities'"
     ]
    }
   ],
   "source": [
    "#Open Driver\n",
    "driver=webdriver.Chrome(r\"C:\\Users\\princ\\Downloads\\chromedriver_win32 (3)\\chromedriver.exe\")\n",
    "#open driver with url\n",
    "driver.get('https://images.google.com/')\n",
    "\n",
    "time.sleep(5)\n",
    "# get web element for search button\n",
    "search_wbe=driver.find_element(By.XPATH,\"/html/body/div[1]/div[3]/form/div[1]/div[1]/div[1]/div/div[2]/input\")\n",
    "#enter text into search bar\n",
    "search_wbe.send_keys('Machine Learning',Keys.ENTER)\n",
    "# give time to load the images page\n",
    "time.sleep(5)\n",
    "# get webelement for 1st image\n",
    "first_image_wbe=driver.find_element(By.XPATH,\"//div[@class='bRMDJf islir']//following::img\")\n",
    "# get web element for 'more results' buttom\n",
    "more_btn=driver.find_element(By.XPATH,\"//div[@class='qvfT1']\")\n",
    "# scroll to 'more results' button\n",
    "for i in range(5):\n",
    "    driver.execute_script(\"arguments[0].scrollIntoView(true);\",more_btn)\n",
    "    time.sleep(10)\n",
    "# get to the top of page\n",
    "driver.execute_script(\"arguments[0].scrollIntoView(true);\",first_image_wbe)\n",
    "# initiate list before using it\n",
    "images=[]\n",
    "images.clear()\n",
    "# get webelemnts for images on the page\n",
    "images = driver.find_elements(By.XPATH,\"//div[@class='bRMDJf islir']//following::img\")\n",
    "# loop for 100 webelements\n",
    "for i in range(100):\n",
    "    images[i].screenshot('F:/ml_pics/ml_'+str(i)+'.png')"
   ]
  },
  {
   "cell_type": "markdown",
   "id": "8df65310",
   "metadata": {},
   "source": [
    "# 4. Write a python program to search for a smartphone(e.g.: Oneplus Nord, pixel 4A, etc.) on\n",
    "www.flipkart.com and scrape following details for all the search results displayed on 1st page. Details to be scraped: “Brand Name”, “Smartphone name”, “Colour”, “RAM”, “Storage(ROM)”, “Primary Camera”, “Secondary Camera”, “Display Size”, “Battery Capacity”, “Price”, “Product URL”. Incase if any of the details is missing then replace it by “- “. Save your results in a dataframe and CSV."
   ]
  },
  {
   "cell_type": "code",
   "execution_count": 58,
   "id": "eceeb740",
   "metadata": {},
   "outputs": [],
   "source": [
    "#Open Driver\n",
    "driver=webdriver.Chrome()\n",
    "#open driver with url\n",
    "driver.get('https://www.flipkart.com/')"
   ]
  },
  {
   "cell_type": "code",
   "execution_count": 59,
   "id": "0b7a7967",
   "metadata": {},
   "outputs": [],
   "source": [
    "search=driver.find_element(By.XPATH,'/html/body/div[1]/div/div[1]/div/div/div/div/div[1]/div/div[1]/div/div[1]/header/div[1]/div[2]/form/div/div/input')\n",
    "search.send_keys('smartphone')"
   ]
  },
  {
   "cell_type": "code",
   "execution_count": 61,
   "id": "39452c31",
   "metadata": {},
   "outputs": [],
   "source": [
    "search_bar=driver.find_element(By.XPATH,'/html/body/div/div/div[1]/div[1]/div[2]/div[2]/form/div/button')\n",
    "search_bar.click()"
   ]
  },
  {
   "cell_type": "code",
   "execution_count": 62,
   "id": "6605665e",
   "metadata": {},
   "outputs": [],
   "source": [
    "Brand_Name=[]\n",
    "Colour=[]\n",
    "P_F_Camera=[]\n",
    "Display_size_Resolution=[]\n",
    "ProcessorAndCores=[]\n",
    "Battery=[]\n",
    "Price=[]\n",
    "Product_URL=[]"
   ]
  },
  {
   "cell_type": "code",
   "execution_count": 63,
   "id": "35bc7ea7",
   "metadata": {},
   "outputs": [
    {
     "name": "stdout",
     "output_type": "stream",
     "text": [
      "24 ['POCO X5 5G (Supernova Green, 256 GB)', 'POCO X5 5G (Wildcat Blue, 256 GB)', 'APPLE iPhone 14 (Blue, 128 GB)', 'APPLE iPhone 14 (Starlight, 128 GB)', 'APPLE iPhone 14 (Midnight, 128 GB)', 'APPLE iPhone 14 Plus (Blue, 128 GB)', 'MOTOROLA g54 5G (Mint Green, 256 GB)', 'POCO X5 5G (Supernova Green, 128 GB)', 'MOTOROLA g84 5G (Marshmallow Blue, 256 GB)', 'POCO C51 (Royal Blue, 64 GB)', 'POCO X5 5G (Jaguar Black, 256 GB)', 'POCO X5 5G (Wildcat Blue, 128 GB)', 'realme C51 (Mint Green, 64 GB)', 'realme C51 (Carbon Black, 64 GB)', 'vivo T2x 5G (Aurora Gold, 128 GB)', 'vivo T2x 5G (Glimmer Black, 128 GB)', 'POCO X5 5G (Jaguar Black, 128 GB)', 'POCO X5 Pro 5G (Yellow, 256 GB)', 'vivo T2x 5G (Marine Blue, 128 GB)', 'POCO M6 Pro 5G (Power Black, 128 GB)', 'POCO X5 Pro 5G (Horizon Blue, 256 GB)', 'POCO X5 Pro 5G (Horizon Blue, 128 GB)', 'vivo T2x 5G (Aurora Gold, 128 GB)', 'vivo T2x 5G (Glimmer Black, 128 GB)']\n"
     ]
    }
   ],
   "source": [
    "#scraping the Brand_Name \n",
    "BName=driver.find_elements(By.XPATH,\"//div[@class='_4rR01T']\")\n",
    "for i in BName:\n",
    "    if i.text is None :\n",
    "        Brand_Name.append(\"--\") \n",
    "    else:\n",
    "        Brand_Name.append(i.text)\n",
    "print(len(Brand_Name),Brand_Name)"
   ]
  },
  {
   "cell_type": "code",
   "execution_count": 64,
   "id": "8ddb5a04",
   "metadata": {},
   "outputs": [],
   "source": [
    "Storage_RAM_ROM=[]"
   ]
  },
  {
   "cell_type": "code",
   "execution_count": 65,
   "id": "b6e55b10",
   "metadata": {},
   "outputs": [
    {
     "name": "stdout",
     "output_type": "stream",
     "text": [
      "24 ['8 GB RAM | 256 GB ROM | Expandable Upto 1 TB', '8 GB RAM | 256 GB ROM | Expandable Upto 1 TB', '128 GB ROM', '128 GB ROM', '128 GB ROM', '128 GB ROM', '12 GB RAM | 256 GB ROM | Expandable Upto 1 TB', '6 GB RAM | 128 GB ROM | Expandable Upto 1 TB', '12 GB RAM | 256 GB ROM', '4 GB RAM | 64 GB ROM | Expandable Upto 1 TB', '8 GB RAM | 256 GB ROM | Expandable Upto 1 TB', '6 GB RAM | 128 GB ROM | Expandable Upto 1 TB', '4 GB RAM | 64 GB ROM | Expandable Upto 2 TB', '4 GB RAM | 64 GB ROM | Expandable Upto 2 TB', '8 GB RAM | 128 GB ROM', '8 GB RAM | 128 GB ROM', '6 GB RAM | 128 GB ROM | Expandable Upto 1 TB', '8 GB RAM | 256 GB ROM', '8 GB RAM | 128 GB ROM', '6 GB RAM | 128 GB ROM | Expandable Upto 1 TB', '8 GB RAM | 256 GB ROM', '6 GB RAM | 128 GB ROM', '6 GB RAM | 128 GB ROM', '6 GB RAM | 128 GB ROM']\n"
     ]
    }
   ],
   "source": [
    "#scraping the Storage_RAM_ROM \n",
    "ram=driver.find_elements(By.XPATH,\"//ul[@class='_1xgFaf']//li[1]\")\n",
    "for i in ram:\n",
    "    if i.text is None :\n",
    "        Storage_RAM_ROM.append(\"--\") \n",
    "    else:\n",
    "        Storage_RAM_ROM.append(i.text)\n",
    "print(len(Storage_RAM_ROM),Storage_RAM_ROM)"
   ]
  },
  {
   "cell_type": "code",
   "execution_count": 66,
   "id": "54a88b7c",
   "metadata": {},
   "outputs": [
    {
     "name": "stdout",
     "output_type": "stream",
     "text": [
      "24 ['16.94 cm (6.67 inch) Full HD+ Display', '16.94 cm (6.67 inch) Full HD+ Display', '15.49 cm (6.1 inch) Super Retina XDR Display', '15.49 cm (6.1 inch) Super Retina XDR Display', '15.49 cm (6.1 inch) Super Retina XDR Display', '17.02 cm (6.7 inch) Super Retina XDR Display', '16.51 cm (6.5 inch) Full HD+ Display', '16.94 cm (6.67 inch) Full HD+ Display', '16.64 cm (6.55 inch) Full HD+ Display', '16.56 cm (6.52 inch) HD+ Display', '16.94 cm (6.67 inch) Full HD+ Display', '16.94 cm (6.67 inch) Full HD+ Display', '17.12 cm (6.74 inch) HD Display', '17.12 cm (6.74 inch) HD Display', '16.71 cm (6.58 inch) Full HD+ Display', '16.71 cm (6.58 inch) Full HD+ Display', '16.94 cm (6.67 inch) Full HD+ Display', '16.94 cm (6.67 inch) Full HD+ Display', '16.71 cm (6.58 inch) Full HD+ Display', '17.25 cm (6.79 inch) Full HD+ Display', '16.94 cm (6.67 inch) Full HD+ Display', '16.94 cm (6.67 inch) Full HD+ Display', '16.71 cm (6.58 inch) Full HD+ Display', '16.71 cm (6.58 inch) Full HD+ Display']\n"
     ]
    }
   ],
   "source": [
    "#scraping the Display_size_Resolution \n",
    "DS=driver.find_elements(By.XPATH,\"//ul[@class='_1xgFaf']//li[2]\")\n",
    "for i in DS:\n",
    "    if i.text is None :\n",
    "        Display_size_Resolution.append(\"--\") \n",
    "    else:\n",
    "        Display_size_Resolution.append(i.text)\n",
    "print(len(Display_size_Resolution),Display_size_Resolution)"
   ]
  },
  {
   "cell_type": "code",
   "execution_count": 67,
   "id": "cfeae750",
   "metadata": {},
   "outputs": [
    {
     "name": "stdout",
     "output_type": "stream",
     "text": [
      "24 ['Qualcomm Snapdragon 695 Processor', 'Qualcomm Snapdragon 695 Processor', '1 Year Warranty for Phone and 6 Months Warranty for In-Box Accessories', '1 Year Warranty for Phone and 6 Months Warranty for In-Box Accessories', '1 Year Warranty for Phone and 6 Months Warranty for In-Box Accessories', '1 Year Warranty for Phone and 6 Months Warranty for In-Box Accessories', 'Dimensity 7020 Processor', 'Qualcomm Snapdragon 695 Processor', 'Snapdragon 695 Processor', 'Helio G36 Processor', 'Qualcomm Snapdragon 695 Processor', 'Qualcomm Snapdragon 695 Processor', 'T612 Processor', 'T612 Processor', 'Dimensity 6020 Processor', 'Dimensity 6020 Processor', 'Qualcomm Snapdragon 695 Processor', 'Qualcomm Snapdragon 778G Processor', 'Dimensity 6020 Processor', 'Snapdragon 4 Gen 2 Processor', 'Qualcomm Snapdragon 778G Processor', 'Qualcomm Snapdragon 778G Processor', 'Dimensity 6020 Processor', 'Dimensity 6020 Processor']\n"
     ]
    }
   ],
   "source": [
    "#scraping the ProcessorAndCores \n",
    "P=driver.find_elements(By.XPATH,\"//ul[@class='_1xgFaf']//li[5]\")\n",
    "for i in P:\n",
    "    if i.text is None :\n",
    "        ProcessorAndCores.append(\"--\") \n",
    "    else:\n",
    "        ProcessorAndCores.append(i.text)\n",
    "print(len(ProcessorAndCores),ProcessorAndCores)"
   ]
  },
  {
   "cell_type": "code",
   "execution_count": 68,
   "id": "aab2dd57",
   "metadata": {},
   "outputs": [
    {
     "name": "stdout",
     "output_type": "stream",
     "text": [
      "24 ['5000 mAh Battery', '5000 mAh Battery', 'A15 Bionic Chip, 6 Core Processor Processor', 'A15 Bionic Chip, 6 Core Processor Processor', 'A15 Bionic Chip, 6 Core Processor Processor', 'A15 Bionic Chip, 6 Core Processor Processor', '6000 mAh Battery', '5000 mAh Battery', '5000 mAh Battery', '5000 mAh Battery', '5000 mAh Battery', '5000 mAh Battery', '5000 mAh Battery', '5000 mAh Battery', '5000 mAh Battery', '5000 mAh Battery', '5000 mAh Battery', '5000 mAh Battery', '5000 mAh Battery', '5000 mAh Battery', '5000 mAh Battery', '5000 mAh Battery', '5000 mAh Battery', '5000 mAh Battery']\n"
     ]
    }
   ],
   "source": [
    "#scraping the Battery \n",
    "B=driver.find_elements(By.XPATH,\"//ul[@class='_1xgFaf']//li[4]\")\n",
    "for i in B:\n",
    "    if i.text is None :\n",
    "        Battery.append(\"--\") \n",
    "    else:\n",
    "        Battery.append(i.text)\n",
    "print(len(Battery),Battery)"
   ]
  },
  {
   "cell_type": "code",
   "execution_count": 69,
   "id": "91ebb6f4",
   "metadata": {},
   "outputs": [
    {
     "name": "stdout",
     "output_type": "stream",
     "text": [
      "24 ['₹14,999', '₹14,999', '₹57,999', '₹58,999', '₹58,999', '₹63,999', '₹15,999', '₹13,999', '₹18,999', '₹5,999', '₹14,999', '₹13,999', '₹7,999', '₹7,999', '₹14,999', '₹14,999', '₹13,999', '₹19,499', '₹14,999', '₹11,999', '₹19,499', '₹18,499', '₹12,999', '₹12,999']\n"
     ]
    }
   ],
   "source": [
    "#scraping the Price \n",
    "price=driver.find_elements(By.XPATH,\"//div[@class='_30jeq3 _1_WHN1']\")\n",
    "for i in price:\n",
    "    if i.text is None :\n",
    "        Price.append(\"--\") \n",
    "    else:\n",
    "        Price.append(i.text)\n",
    "print(len(Price),Price)"
   ]
  },
  {
   "cell_type": "code",
   "execution_count": 70,
   "id": "bfbd8e0b",
   "metadata": {},
   "outputs": [],
   "source": [
    "FlipKart=pd.DataFrame([])\n",
    "FlipKart['Brand_Name']=Brand_Name\n",
    "FlipKart['Storage_RAM_ROM']=Storage_RAM_ROM\n",
    "FlipKart['Display_size_Resolution']=Display_size_Resolution\n",
    "FlipKart['ProcessorAndCores']=ProcessorAndCores\n",
    "FlipKart['Battery']=Battery\n",
    "FlipKart['Price']=Price"
   ]
  },
  {
   "cell_type": "code",
   "execution_count": 71,
   "id": "533f2839",
   "metadata": {},
   "outputs": [
    {
     "data": {
      "text/html": [
       "<div>\n",
       "<style scoped>\n",
       "    .dataframe tbody tr th:only-of-type {\n",
       "        vertical-align: middle;\n",
       "    }\n",
       "\n",
       "    .dataframe tbody tr th {\n",
       "        vertical-align: top;\n",
       "    }\n",
       "\n",
       "    .dataframe thead th {\n",
       "        text-align: right;\n",
       "    }\n",
       "</style>\n",
       "<table border=\"1\" class=\"dataframe\">\n",
       "  <thead>\n",
       "    <tr style=\"text-align: right;\">\n",
       "      <th></th>\n",
       "      <th>Brand_Name</th>\n",
       "      <th>Storage_RAM_ROM</th>\n",
       "      <th>Display_size_Resolution</th>\n",
       "      <th>ProcessorAndCores</th>\n",
       "      <th>Battery</th>\n",
       "      <th>Price</th>\n",
       "    </tr>\n",
       "  </thead>\n",
       "  <tbody>\n",
       "    <tr>\n",
       "      <th>0</th>\n",
       "      <td>POCO X5 5G (Supernova Green, 256 GB)</td>\n",
       "      <td>8 GB RAM | 256 GB ROM | Expandable Upto 1 TB</td>\n",
       "      <td>16.94 cm (6.67 inch) Full HD+ Display</td>\n",
       "      <td>Qualcomm Snapdragon 695 Processor</td>\n",
       "      <td>5000 mAh Battery</td>\n",
       "      <td>₹14,999</td>\n",
       "    </tr>\n",
       "    <tr>\n",
       "      <th>1</th>\n",
       "      <td>POCO X5 5G (Wildcat Blue, 256 GB)</td>\n",
       "      <td>8 GB RAM | 256 GB ROM | Expandable Upto 1 TB</td>\n",
       "      <td>16.94 cm (6.67 inch) Full HD+ Display</td>\n",
       "      <td>Qualcomm Snapdragon 695 Processor</td>\n",
       "      <td>5000 mAh Battery</td>\n",
       "      <td>₹14,999</td>\n",
       "    </tr>\n",
       "    <tr>\n",
       "      <th>2</th>\n",
       "      <td>APPLE iPhone 14 (Blue, 128 GB)</td>\n",
       "      <td>128 GB ROM</td>\n",
       "      <td>15.49 cm (6.1 inch) Super Retina XDR Display</td>\n",
       "      <td>1 Year Warranty for Phone and 6 Months Warrant...</td>\n",
       "      <td>A15 Bionic Chip, 6 Core Processor Processor</td>\n",
       "      <td>₹57,999</td>\n",
       "    </tr>\n",
       "    <tr>\n",
       "      <th>3</th>\n",
       "      <td>APPLE iPhone 14 (Starlight, 128 GB)</td>\n",
       "      <td>128 GB ROM</td>\n",
       "      <td>15.49 cm (6.1 inch) Super Retina XDR Display</td>\n",
       "      <td>1 Year Warranty for Phone and 6 Months Warrant...</td>\n",
       "      <td>A15 Bionic Chip, 6 Core Processor Processor</td>\n",
       "      <td>₹58,999</td>\n",
       "    </tr>\n",
       "    <tr>\n",
       "      <th>4</th>\n",
       "      <td>APPLE iPhone 14 (Midnight, 128 GB)</td>\n",
       "      <td>128 GB ROM</td>\n",
       "      <td>15.49 cm (6.1 inch) Super Retina XDR Display</td>\n",
       "      <td>1 Year Warranty for Phone and 6 Months Warrant...</td>\n",
       "      <td>A15 Bionic Chip, 6 Core Processor Processor</td>\n",
       "      <td>₹58,999</td>\n",
       "    </tr>\n",
       "  </tbody>\n",
       "</table>\n",
       "</div>"
      ],
      "text/plain": [
       "                             Brand_Name  \\\n",
       "0  POCO X5 5G (Supernova Green, 256 GB)   \n",
       "1     POCO X5 5G (Wildcat Blue, 256 GB)   \n",
       "2        APPLE iPhone 14 (Blue, 128 GB)   \n",
       "3   APPLE iPhone 14 (Starlight, 128 GB)   \n",
       "4    APPLE iPhone 14 (Midnight, 128 GB)   \n",
       "\n",
       "                                Storage_RAM_ROM  \\\n",
       "0  8 GB RAM | 256 GB ROM | Expandable Upto 1 TB   \n",
       "1  8 GB RAM | 256 GB ROM | Expandable Upto 1 TB   \n",
       "2                                    128 GB ROM   \n",
       "3                                    128 GB ROM   \n",
       "4                                    128 GB ROM   \n",
       "\n",
       "                        Display_size_Resolution  \\\n",
       "0         16.94 cm (6.67 inch) Full HD+ Display   \n",
       "1         16.94 cm (6.67 inch) Full HD+ Display   \n",
       "2  15.49 cm (6.1 inch) Super Retina XDR Display   \n",
       "3  15.49 cm (6.1 inch) Super Retina XDR Display   \n",
       "4  15.49 cm (6.1 inch) Super Retina XDR Display   \n",
       "\n",
       "                                   ProcessorAndCores  \\\n",
       "0                  Qualcomm Snapdragon 695 Processor   \n",
       "1                  Qualcomm Snapdragon 695 Processor   \n",
       "2  1 Year Warranty for Phone and 6 Months Warrant...   \n",
       "3  1 Year Warranty for Phone and 6 Months Warrant...   \n",
       "4  1 Year Warranty for Phone and 6 Months Warrant...   \n",
       "\n",
       "                                       Battery    Price  \n",
       "0                             5000 mAh Battery  ₹14,999  \n",
       "1                             5000 mAh Battery  ₹14,999  \n",
       "2  A15 Bionic Chip, 6 Core Processor Processor  ₹57,999  \n",
       "3  A15 Bionic Chip, 6 Core Processor Processor  ₹58,999  \n",
       "4  A15 Bionic Chip, 6 Core Processor Processor  ₹58,999  "
      ]
     },
     "execution_count": 71,
     "metadata": {},
     "output_type": "execute_result"
    }
   ],
   "source": [
    "FlipKart.head()"
   ]
  },
  {
   "cell_type": "code",
   "execution_count": 72,
   "id": "b7947831",
   "metadata": {},
   "outputs": [],
   "source": [
    "#import needed libraries\n",
    "from selenium import webdriver\n",
    "import numpy as np\n",
    "import pandas as pd\n",
    "import time\n",
    "import warnings\n",
    "warnings.filterwarnings('ignore')\n",
    "\n",
    "from selenium.common.exceptions import NoSuchElementException\n",
    "from selenium.webdriver.common.by import By"
   ]
  },
  {
   "cell_type": "markdown",
   "id": "7bbcdd84",
   "metadata": {},
   "source": [
    "# 5. Write a program to scrap geospatial coordinates (latitude, longitude) of a city searched on google"
   ]
  },
  {
   "cell_type": "code",
   "execution_count": 73,
   "id": "f820419c",
   "metadata": {},
   "outputs": [],
   "source": [
    "driver=webdriver.Chrome()"
   ]
  },
  {
   "cell_type": "code",
   "execution_count": 75,
   "id": "628bedea",
   "metadata": {},
   "outputs": [
    {
     "name": "stdout",
     "output_type": "stream",
     "text": [
      "Enter City Name : Ranchi\n",
      "URL Extracted:  https://www.google.co.in/maps/place/Ranchi,+Jharkhand/@23.3432048,85.3213263,11z/data=!3m1!4b1!4m6!3m5!1s0x39f4e104aa5db7dd:0xdc09d49d6899f43e!8m2!3d23.3440997!4d85.309562!16zL20vMDF0dHQ2?entry=ttu\n",
      "Error:  name 're' is not defined\n"
     ]
    }
   ],
   "source": [
    "driver.get(\"https://www.google.co.in/maps\")\n",
    "time.sleep(3)\n",
    "\n",
    "city = input('Enter City Name : ')                                       \n",
    "search = driver.find_element(By.CLASS_NAME,\"searchboxinput\")                     \n",
    "search.clear()                                                           \n",
    "time.sleep(2)\n",
    "search.send_keys(city)                                                     \n",
    "button = driver.find_element(By.XPATH,\"/html/body/div[3]/div[8]/div[3]/div[1]/div[1]/div/div[2]/div[1]/button\")              \n",
    "button.click()                                                             \n",
    "time.sleep(3)\n",
    "\n",
    "try:\n",
    "    url_string = driver.current_url\n",
    "    print(\"URL Extracted: \", url_string)\n",
    "    lat_lng = re.findall(r'@(.*)data',url_string)\n",
    "    if len(lat_lng):\n",
    "        lat_lng_list = lat_lng[0].split(\",\")\n",
    "        if len(lat_lng_list)>=2:\n",
    "            lat = lat_lng_list[0]\n",
    "            lng = lat_lng_list[1]\n",
    "        print(\"Latitude = {}, Longitude = {}\".format(lat, lng))\n",
    "\n",
    "except Exception as e:\n",
    "        print(\"Error: \", str(e))"
   ]
  },
  {
   "cell_type": "code",
   "execution_count": 76,
   "id": "4c57a339",
   "metadata": {},
   "outputs": [],
   "source": [
    "driver.close()"
   ]
  }
 ],
 "metadata": {
  "kernelspec": {
   "display_name": "Python 3 (ipykernel)",
   "language": "python",
   "name": "python3"
  },
  "language_info": {
   "codemirror_mode": {
    "name": "ipython",
    "version": 3
   },
   "file_extension": ".py",
   "mimetype": "text/x-python",
   "name": "python",
   "nbconvert_exporter": "python",
   "pygments_lexer": "ipython3",
   "version": "3.10.9"
  }
 },
 "nbformat": 4,
 "nbformat_minor": 5
}
